{
 "cells": [
  {
   "cell_type": "code",
   "execution_count": 1,
   "metadata": {},
   "outputs": [
    {
     "ename": "ImportError",
     "evalue": "cannot import name 'Chrome' from 'pychrome' (c:\\Users\\kenspoems\\.pyenv\\pyenv-win\\versions\\3.10.5\\lib\\site-packages\\pychrome\\__init__.py)",
     "output_type": "error",
     "traceback": [
      "\u001b[1;31m---------------------------------------------------------------------------\u001b[0m",
      "\u001b[1;31mImportError\u001b[0m                               Traceback (most recent call last)",
      "\u001b[1;32ms:\\Documents\\VScode\\School-Things\\fun stuff\\test.ipynb Cell 1\u001b[0m in \u001b[0;36m<cell line: 19>\u001b[1;34m()\u001b[0m\n\u001b[0;32m     <a href='vscode-notebook-cell:/s%3A/Documents/VScode/School-Things/fun%20stuff/test.ipynb#W0sZmlsZQ%3D%3D?line=15'>16</a>\u001b[0m time\u001b[39m.\u001b[39msleep(\u001b[39m3\u001b[39m)\n\u001b[0;32m     <a href='vscode-notebook-cell:/s%3A/Documents/VScode/School-Things/fun%20stuff/test.ipynb#W0sZmlsZQ%3D%3D?line=17'>18</a>\u001b[0m \u001b[39m# Connect to the remote debugging interface\u001b[39;00m\n\u001b[1;32m---> <a href='vscode-notebook-cell:/s%3A/Documents/VScode/School-Things/fun%20stuff/test.ipynb#W0sZmlsZQ%3D%3D?line=18'>19</a>\u001b[0m \u001b[39mfrom\u001b[39;00m \u001b[39mpychrome\u001b[39;00m \u001b[39mimport\u001b[39;00m Chrome\n\u001b[0;32m     <a href='vscode-notebook-cell:/s%3A/Documents/VScode/School-Things/fun%20stuff/test.ipynb#W0sZmlsZQ%3D%3D?line=19'>20</a>\u001b[0m chrome \u001b[39m=\u001b[39m Chrome(port\u001b[39m=\u001b[39m\u001b[39m9222\u001b[39m)\n\u001b[0;32m     <a href='vscode-notebook-cell:/s%3A/Documents/VScode/School-Things/fun%20stuff/test.ipynb#W0sZmlsZQ%3D%3D?line=21'>22</a>\u001b[0m \u001b[39m# Get the list of open tabs\u001b[39;00m\n",
      "\u001b[1;31mImportError\u001b[0m: cannot import name 'Chrome' from 'pychrome' (c:\\Users\\kenspoems\\.pyenv\\pyenv-win\\versions\\3.10.5\\lib\\site-packages\\pychrome\\__init__.py)"
     ]
    }
   ],
   "source": [
    "import os\n",
    "import subprocess\n",
    "import time\n",
    "import pychrome\n",
    "import shutil\n",
    "\n",
    "# Search for the Chrome executable in the system's PATH environment variable\n",
    "chrome_path = shutil.which('chrome.exe')\n",
    "if chrome_path is None:\n",
    "    raise Exception('Chrome browser is not installed or not in the PATH.')\n",
    "\n",
    "# Start Chrome with remote debugging enabled\n",
    "subprocess.Popen([chrome_path, \"--remote-debugging-port=9222\"])\n",
    "\n",
    "# Wait for Chrome to start up\n",
    "time.sleep(3)\n",
    "\n",
    "# Connect to the remote debugging interface\n",
    "from pychrome import Chrome\n",
    "chrome = Chrome(port=9222)\n",
    "\n",
    "# Get the list of open tabs\n",
    "tabs = chrome.list_tabs()\n",
    "\n",
    "# Extract the URLs from the tabs\n",
    "urls = [tab.url for tab in tabs]\n",
    "\n",
    "# Write the URLs to a file in space-separated format\n",
    "with open(\"saved_links.txt\", \"w\") as f:\n",
    "    f.write(\" \".join(urls))\n",
    "\n",
    "# Close the connection to Chrome\n",
    "chrome.close_tab(chrome.get_tabs()[0][\"id\"])\n",
    "chrome.close()\n"
   ]
  },
  {
   "cell_type": "code",
   "execution_count": 4,
   "metadata": {},
   "outputs": [
    {
     "ename": "AttributeError",
     "evalue": "'str' object has no attribute 'new_tab'",
     "output_type": "error",
     "traceback": [
      "\u001b[1;31m---------------------------------------------------------------------------\u001b[0m",
      "\u001b[1;31mAttributeError\u001b[0m                            Traceback (most recent call last)",
      "\u001b[1;32ms:\\Documents\\VScode\\School-Things\\fun stuff\\test.ipynb Cell 2\u001b[0m in \u001b[0;36m<cell line: 10>\u001b[1;34m()\u001b[0m\n\u001b[0;32m      <a href='vscode-notebook-cell:/s%3A/Documents/VScode/School-Things/fun%20stuff/test.ipynb#W1sZmlsZQ%3D%3D?line=5'>6</a>\u001b[0m     \u001b[39mraise\u001b[39;00m \u001b[39mException\u001b[39;00m(\u001b[39m'\u001b[39m\u001b[39mChrome browser is not installed or not in the PATH.\u001b[39m\u001b[39m'\u001b[39m)\n\u001b[0;32m      <a href='vscode-notebook-cell:/s%3A/Documents/VScode/School-Things/fun%20stuff/test.ipynb#W1sZmlsZQ%3D%3D?line=7'>8</a>\u001b[0m \u001b[39m# Start Chrome with remote debugging enabled\u001b[39;00m\n\u001b[0;32m      <a href='vscode-notebook-cell:/s%3A/Documents/VScode/School-Things/fun%20stuff/test.ipynb#W1sZmlsZQ%3D%3D?line=8'>9</a>\u001b[0m \u001b[39m# create a tab\u001b[39;00m\n\u001b[1;32m---> <a href='vscode-notebook-cell:/s%3A/Documents/VScode/School-Things/fun%20stuff/test.ipynb#W1sZmlsZQ%3D%3D?line=9'>10</a>\u001b[0m tab \u001b[39m=\u001b[39m browser\u001b[39m.\u001b[39;49mnew_tab()\n\u001b[0;32m     <a href='vscode-notebook-cell:/s%3A/Documents/VScode/School-Things/fun%20stuff/test.ipynb#W1sZmlsZQ%3D%3D?line=11'>12</a>\u001b[0m \u001b[39m# register callback if you want\u001b[39;00m\n\u001b[0;32m     <a href='vscode-notebook-cell:/s%3A/Documents/VScode/School-Things/fun%20stuff/test.ipynb#W1sZmlsZQ%3D%3D?line=12'>13</a>\u001b[0m \u001b[39mdef\u001b[39;00m \u001b[39mrequest_will_be_sent\u001b[39m(\u001b[39m*\u001b[39m\u001b[39m*\u001b[39mkwargs):\n",
      "\u001b[1;31mAttributeError\u001b[0m: 'str' object has no attribute 'new_tab'"
     ]
    }
   ],
   "source": [
    "import pychrome\n",
    "\n",
    "# create a browser instance\n",
    "browser = pychrome.Browser(url=\"http://127.0.0.1:9222\")\n",
    "\n",
    "# create a tab\n",
    "tab = browser.new_tab()\n",
    "\n",
    "# register callback if you want\n",
    "def request_will_be_sent(**kwargs):\n",
    "    print(\"loading: %s\" % kwargs.get('request').get('url'))\n",
    "\n",
    "tab.Network.requestWillBeSent = request_will_be_sent\n",
    "\n",
    "# start the tab\n",
    "tab.start()\n",
    "\n",
    "# call method\n",
    "tab.Network.enable()\n",
    "# call method with timeout\n",
    "tab.Page.navigate(url=\"https://github.com/fate0/pychrome\", _timeout=5)\n",
    "\n",
    "# wait for loading\n",
    "tab.wait(5)\n",
    "\n",
    "# stop the tab (stop handle events and stop recv message from chrome)\n",
    "tab.stop()\n",
    "\n",
    "# close tab\n",
    "browser.close_tab(tab)"
   ]
  }
 ],
 "metadata": {
  "kernelspec": {
   "display_name": "Python 3",
   "language": "python",
   "name": "python3"
  },
  "language_info": {
   "codemirror_mode": {
    "name": "ipython",
    "version": 3
   },
   "file_extension": ".py",
   "mimetype": "text/x-python",
   "name": "python",
   "nbconvert_exporter": "python",
   "pygments_lexer": "ipython3",
   "version": "3.10.5"
  },
  "orig_nbformat": 4
 },
 "nbformat": 4,
 "nbformat_minor": 2
}
