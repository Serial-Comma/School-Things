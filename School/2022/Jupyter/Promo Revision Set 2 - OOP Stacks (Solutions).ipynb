{
 "cells": [
  {
   "cell_type": "code",
   "execution_count": 121,
   "metadata": {},
   "outputs": [
    {
     "name": "stdout",
     "output_type": "stream",
     "text": [
      "It's been 17 years and 222 days\n"
     ]
    }
   ],
   "source": [
    "import datetime\n",
    "b = datetime.date.today()\n",
    "a = datetime.date(2005, 2, 7)\n",
    "years = (b - a).days // 365  # number of years between dates\n",
    "days = (b - a).days % 365\n",
    "print(f\"It's been {years} years and {days} days\")"
   ]
  },
  {
   "cell_type": "code",
   "execution_count": 47,
   "metadata": {},
   "outputs": [],
   "source": [
    "# Task 1.1\n",
    "class Staff:\n",
    "    # constructor\n",
    "    def __init__(self, name, date):\n",
    "        self.Name = name\n",
    "        self.Date = date\n",
    "        \n",
    "    def display_name(self):\n",
    "        print(f\"{self.Name}_{self.Date[-4: ]}\")\n",
    "        \n",
    "    def length_of_service(self):\n",
    "        day = int(self.Date[:2])\n",
    "        month = int(self.Date[2:4])\n",
    "        year = int(self.Date[-4: ])\n",
    "        import datetime\n",
    "        date_joined = datetime.date(year, month, day)\n",
    "        today = datetime.date.today()\n",
    "        return (today-date_joined).days // 365"
   ]
  },
  {
   "cell_type": "code",
   "execution_count": 69,
   "metadata": {},
   "outputs": [],
   "source": [
    "# Task 1.2\n",
    "class Teacher(Staff):\n",
    "    def __init__(self, name, date, classes_taught):\n",
    "        self.Classes_taught = classes_taught\n",
    "        super().__init__(name, date)\n",
    "        \n",
    "    def display_name(self):\n",
    "        print(f\"{self.Classes_taught}_{self.Name}_{self.Date[-4: ]}\")"
   ]
  },
  {
   "cell_type": "code",
   "execution_count": 72,
   "metadata": {},
   "outputs": [
    {
     "name": "stdout",
     "output_type": "stream",
     "text": [
      "1CM12MA2_Peter Pan_1978\n",
      "44\n",
      "2CL12CL9_Daniel Ang_2018\n",
      "4\n"
     ]
    }
   ],
   "source": [
    "# Task 1.3\n",
    "def check_name(name):\n",
    "    split_name = name.split()\n",
    "    for word in split_name:\n",
    "        if ord('A') <= ord(word[0]) <= ord('Z'):\n",
    "            continue\n",
    "        else: # not all first character of each word is capitalised\n",
    "            return False\n",
    "    for char in name:\n",
    "        if char.isalpha() or char == ' ':\n",
    "            continue\n",
    "        else: # character is not letters or spaces\n",
    "            return False\n",
    "    return True\n",
    "\n",
    "def check_subj(subj):\n",
    "    if len(subj) != 4:\n",
    "        return False\n",
    "    if subj[0] not in ['1', '2']:\n",
    "        return False\n",
    "    if not (ord('A') <= ord(subj[1]) <= ord('Z') and ord('A') <= ord(subj[2]) <= ord('Z')):\n",
    "        return False\n",
    "    if not (ord('1') <= ord(subj[3]) <= ord('9')):\n",
    "        return False\n",
    "    return True\n",
    "\n",
    "def check_date(date):\n",
    "    if len(date) != 8 or not date.isdecimal():\n",
    "        return False\n",
    "    DD = date[:2]\n",
    "    MM = date[2:4]\n",
    "    YYYY = date[-4:]\n",
    "    if MM in ['01', '03', '05', '07', '08', '10', '12'] and int(DD) > 31:\n",
    "        return False\n",
    "    if MM in ['04', '06', '09', '11'] and int(DD) > 30:\n",
    "        return False\n",
    "    if MM == '02':\n",
    "        if int(YYYY) % 4 == 0 and int(DD) > 29:\n",
    "            return False\n",
    "        if int(YYYY) % 4 != 0 and int(DD) > 28:\n",
    "            return False\n",
    "    if not 1970 <= int(YYYY) <= 2021:\n",
    "        return False\n",
    "    return True\n",
    "\n",
    "with open(\"Teachers_info.txt\") as f:\n",
    "    import csv\n",
    "    reader = csv.reader(f)\n",
    "    data = []\n",
    "    for row in reader:\n",
    "        data.append(row)\n",
    "        \n",
    "validated_data = []\n",
    "for record in data:\n",
    "    if check_name(record[0]) and check_subj(record[1]) and \\\n",
    "    check_subj(record[2]) and check_date(record[3]):\n",
    "        validated_data.append(record)\n",
    "        \n",
    "with open(\"Teachers_validated.txt\", newline='', mode='w') as f:\n",
    "    writer = csv.writer(f)\n",
    "    writer.writerows(validated_data)\n",
    "    \n",
    "list_of_teachers = []\n",
    "for record in validated_data:\n",
    "    list_of_teachers.append(Teacher(record[0], record[3], record[1]+record[2]))\n",
    "\n",
    "for t in list_of_teachers:\n",
    "    t.display_name()\n",
    "    print(t.length_of_service())"
   ]
  },
  {
   "cell_type": "markdown",
   "metadata": {},
   "source": [
    "## Task 2\n",
    "### Task 2.1"
   ]
  },
  {
   "cell_type": "code",
   "execution_count": 80,
   "metadata": {},
   "outputs": [],
   "source": [
    "# Task 2.1\n",
    "class Food:\n",
    "    def __init__(self, name, value):\n",
    "        self.name = name\n",
    "        self.value = value\n",
    "        \n",
    "    def get_name(self):\n",
    "        return self.name\n",
    "    \n",
    "    def get_value(self):\n",
    "        return self.value\n"
   ]
  },
  {
   "cell_type": "code",
   "execution_count": 81,
   "metadata": {},
   "outputs": [],
   "source": [
    "# Task 2.2\n",
    "class Person:\n",
    "    def __init__(self, name):\n",
    "        self.name = name\n",
    "        self.health = 100\n",
    "        self.strength = 100\n",
    "        \n",
    "    def get_name(self):\n",
    "        return self.name\n",
    "    \n",
    "    def get_health(self):\n",
    "        return self.health\n",
    "    \n",
    "    def get_strength(self):\n",
    "        return self.strength\n",
    "    \n",
    "    def eat(self, Food):\n",
    "        self.strength += Food.get_value()\n",
    "        print(\"Strength is now:\", self.strength)\n",
    "        \n",
    "    def attack(self, opponent):\n",
    "        import random\n",
    "        r = random.randint(1,10)\n",
    "        if self.strength < r:\n",
    "            # no change in health of opponnent\n",
    "            print(\"Attack is not successful.\")\n",
    "        else:\n",
    "            # attack is successful\n",
    "            opponent.health -= r\n",
    "            print(\"Attacked! Opponent health is now\", opponent.get_health())\n",
    "            if opponent.health < 0:\n",
    "                print(\"Opponent is defeated.\")\n",
    "            self.strength -= r\n",
    "    "
   ]
  },
  {
   "cell_type": "code",
   "execution_count": 78,
   "metadata": {},
   "outputs": [],
   "source": [
    "class Healer(Person):\n",
    "    def heal(self, patient):\n",
    "        import random\n",
    "        r = random.randint(1,10)\n",
    "        if self.strength < r:\n",
    "            # not enough strength\n",
    "            print(\"Healing not successful.\")\n",
    "        else:\n",
    "            # healing successful\n",
    "            patient.health += r\n",
    "            if patient.health > 100:\n",
    "                patient.health = 100\n",
    "            print(\"Healing successful. Patient health is now\", patient.health)\n",
    "            "
   ]
  },
  {
   "cell_type": "code",
   "execution_count": 76,
   "metadata": {},
   "outputs": [],
   "source": [
    "class Warrior(Person):\n",
    "    def attack(self, opponent):\n",
    "        import random\n",
    "        r = random.randint(1,10)\n",
    "        if self.strength < r:\n",
    "            # no change in health of opponnent\n",
    "            print(\"Attack is not successful.\")\n",
    "        else:\n",
    "            # attack is successful\n",
    "            opponent.health -= 2*r\n",
    "            print(\"Attacked! Opponent health is now\", opponent.get_health())\n",
    "            if opponent.health < 0:\n",
    "                print(\"Opponent is defeated.\")\n",
    "            self.strength -= r"
   ]
  },
  {
   "cell_type": "code",
   "execution_count": 86,
   "metadata": {},
   "outputs": [
    {
     "name": "stdout",
     "output_type": "stream",
     "text": [
      "Attacked! Opponent health is now 95\n",
      "Attacked! Opponent health is now 96\n",
      "Healing successful. Patient health is now 97\n",
      "Strength is now: 108\n"
     ]
    }
   ],
   "source": [
    "cheese = Food(\"Cheese\", 10)\n",
    "sam = Warrior('Sam')\n",
    "alex = Healer('Alex')\n",
    "jan = Person('Jan')\n",
    "jan.attack(sam)\n",
    "sam.attack(jan)\n",
    "alex.heal(jan)\n",
    "sam.eat(cheese)"
   ]
  },
  {
   "cell_type": "markdown",
   "metadata": {},
   "source": [
    "## Task 3"
   ]
  },
  {
   "cell_type": "code",
   "execution_count": 88,
   "metadata": {},
   "outputs": [],
   "source": [
    "# Task 3.1\n",
    "def make_stack():\n",
    "    return []\n",
    "\n",
    "def push(stack, item):\n",
    "    stack.append(item)\n",
    "    \n",
    "def pop(stack):\n",
    "    if len(stack) != 0:\n",
    "        return stack.pop()\n",
    "    else:\n",
    "        return None\n",
    "\n",
    "def size(stack):\n",
    "    return len(stack)"
   ]
  },
  {
   "cell_type": "code",
   "execution_count": 99,
   "metadata": {},
   "outputs": [],
   "source": [
    "# Task 3.2\n",
    "def postfix(string):\n",
    "    stack = make_stack()\n",
    "    for char in string:\n",
    "        if char.isdecimal():\n",
    "            push(stack, char)\n",
    "        if char in ['+', '-', '*', '/']:\n",
    "            num_2 = pop(stack)\n",
    "            num_1 = pop(stack)\n",
    "            push(stack, str(eval(num_1 + char + num_2)))\n",
    "    return pop(stack)\n",
    "            "
   ]
  },
  {
   "cell_type": "code",
   "execution_count": 100,
   "metadata": {},
   "outputs": [
    {
     "name": "stdout",
     "output_type": "stream",
     "text": [
      "7\n",
      "1.0\n",
      "1\n"
     ]
    }
   ],
   "source": [
    "testcases = ['123*+', '12+3/', '12+43-']\n",
    "\n",
    "for test in testcases:\n",
    "    print(postfix(test))"
   ]
  },
  {
   "cell_type": "code",
   "execution_count": null,
   "metadata": {},
   "outputs": [],
   "source": []
  }
 ],
 "metadata": {
  "kernelspec": {
   "display_name": "Python 3.10.7 64-bit",
   "language": "python",
   "name": "python3"
  },
  "language_info": {
   "codemirror_mode": {
    "name": "ipython",
    "version": 3
   },
   "file_extension": ".py",
   "mimetype": "text/x-python",
   "name": "python",
   "nbconvert_exporter": "python",
   "pygments_lexer": "ipython3",
   "version": "3.10.8"
  },
  "vscode": {
   "interpreter": {
    "hash": "e7370f93d1d0cde622a1f8e1c04877d8463912d04d973331ad4851f04de6915a"
   }
  }
 },
 "nbformat": 4,
 "nbformat_minor": 2
}
