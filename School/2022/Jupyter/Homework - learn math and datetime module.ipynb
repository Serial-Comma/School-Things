{
 "cells": [
  {
   "cell_type": "markdown",
   "metadata": {},
   "source": [
    "`math` module\n",
    "- math.ceil()\n",
    "- math.exp()\n",
    "- math.floor()\n",
    "- math.log()\n",
    "- math.pow()\n",
    "- math.sqrt()\n",
    "- math.trunc()"
   ]
  },
  {
   "cell_type": "markdown",
   "metadata": {},
   "source": [
    "`datetime` module\n",
    "- datetime.datetime()\n",
    "- datetime.datetime.now()\n",
    "- datetime.date.isoformat()\n",
    "- datetime.datetime.year\n",
    "- datetime.datetime.month\n",
    "- datetime.datetime.day\n",
    "- datetime.datetime.hour\n",
    "- datetime.datetime.minute\n",
    "- datetime.datetime.second\n",
    "- datetime.timedelta.days\n",
    "- datetime.timedelta.seconds"
   ]
  },
  {
   "cell_type": "code",
   "execution_count": null,
   "metadata": {},
   "outputs": [],
   "source": []
  }
 ],
 "metadata": {
  "kernelspec": {
   "display_name": "Python 3",
   "language": "python",
   "name": "python3"
  },
  "language_info": {
   "codemirror_mode": {
    "name": "ipython",
    "version": 3
   },
   "file_extension": ".py",
   "mimetype": "text/x-python",
   "name": "python",
   "nbconvert_exporter": "python",
   "pygments_lexer": "ipython3",
   "version": "3.6.4"
  }
 },
 "nbformat": 4,
 "nbformat_minor": 2
}
