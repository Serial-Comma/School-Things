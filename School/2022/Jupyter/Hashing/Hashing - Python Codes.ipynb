{
 "cells": [
  {
   "cell_type": "markdown",
   "metadata": {},
   "source": [
    "## Example 3 - HBL Assignment"
   ]
  },
  {
   "cell_type": "code",
   "execution_count": 6,
   "metadata": {},
   "outputs": [
    {
     "name": "stdout",
     "output_type": "stream",
     "text": [
      "G1923358Q -> 19\n",
      "S8744135I -> 24\n",
      "S7721536G -> 21\n"
     ]
    }
   ],
   "source": [
    "def HS(studentID):\n",
    "    '''\n",
    "    Calculates hash value using the sum of ascii value for each character, mod 500\n",
    "    '''\n",
    "    HashTotal = 0\n",
    "    Hash = 0\n",
    "    for char in studentID:\n",
    "        HashTotal += ord(char)\n",
    "    Hash = HashTotal % 500\n",
    "    return Hash\n",
    "\n",
    "# main\n",
    "studentIDList = ['G1923358Q', 'S8744135I', 'S7721536G']\n",
    "\n",
    "for studentID in studentIDList:\n",
    "    print(studentID, '->', HS(studentID))\n"
   ]
  },
  {
   "cell_type": "markdown",
   "metadata": {},
   "source": [
    "## Example 5 - Linear Probing\n",
    "\n",
    "Insert data to hash table and search data from hash table using rehashing/open addressing/linear probing to handle collision"
   ]
  },
  {
   "cell_type": "code",
   "execution_count": 8,
   "metadata": {},
   "outputs": [],
   "source": [
    "studentIDList = [\n",
    "'G1923358Q','S8744135I','S7721536G',\n",
    "'S7733010G','S8740525E','S6709440C',\n",
    "'S8671460B','S8742506Z','S8734053F',\n",
    "'S9535433B','S9634621F','S9414585G',\n",
    "'S9603708F','S9309384I','S9234153B',\n",
    "'S7847448F','S8747447H','S7713451J',\n",
    "'S9819719I','S7612861D','S8728919J',\n",
    "'S9942155B','S9914425G','S9519664D',\n",
    "'S9632366F','S9239107F','S7742882D',\n",
    "'S7622993C','S8628526D','S7620076E']\n",
    "\n",
    "# Initialize all elements in the hash table to be None\n",
    "hash_table = [None for i in range(500)]\n",
    "\n",
    "def ht_insert(studentID):\n",
    "    # Calculate hash value\n",
    "    hash_value = HS(studentID)\n",
    "    loc = hash_value\n",
    "    \n",
    "    # while location is not empty, probe the next element\n",
    "    while hash_table[loc]:\n",
    "        loc = (loc+1) % 500\n",
    "        if loc ==  hash_value: # no more empty space\n",
    "            return False\n",
    "    # insert data\n",
    "    hash_table[loc] = studentID\n",
    "    # return True if successful\n",
    "    return True\n",
    "\n",
    "def ht_search(studentID):\n",
    "    \"\"\"\n",
    "    Search for student ID in hash table\n",
    "    Return True if found, False otherwise\n",
    "    \"\"\"\n",
    "    # calculate hash value\n",
    "    hash_value = HS(studentID)\n",
    "    loc = hash_value\n",
    "    \n",
    "    # iterate through the hash table\n",
    "    while hash_table[loc] != None: # while the location is occupied\n",
    "        if hash_table[loc] == studentID:\n",
    "            return True\n",
    "        loc = (loc + 1) % 500\n",
    "        if loc == hash_value: # there is no more empty slot\n",
    "            return False\n",
    "    \n",
    "    # empty location is found, data not found\n",
    "    return False\n",
    "    \n"
   ]
  },
  {
   "cell_type": "code",
   "execution_count": 14,
   "metadata": {},
   "outputs": [
    {
     "name": "stdout",
     "output_type": "stream",
     "text": [
      "(1, 2)\n",
      "1\n"
     ]
    }
   ],
   "source": [
    "for studentID in studentIDList:\n",
    "    ht_insert(studentID)\n",
    "\n",
    "# Check the hash table\n",
    "for idx, data in enumerate(hash_table):\n",
    "    print(idx,data)\n"
   ]
  },
  {
   "cell_type": "code",
   "execution_count": 15,
   "metadata": {},
   "outputs": [
    {
     "name": "stdout",
     "output_type": "stream",
     "text": [
      "True\n",
      "True\n",
      "False\n"
     ]
    }
   ],
   "source": [
    "# Search for elements in hash table\n",
    "print(ht_search('S9234153B'))  # in table, no collision\n",
    "print(ht_search('S8734053F'))  # in table, hash value 19 but at location 22\n",
    "print(ht_search('S1234567H'))  # not in table"
   ]
  },
  {
   "cell_type": "markdown",
   "metadata": {},
   "source": [
    "## Example 10 - Chaining\n",
    "\n",
    "Using chaining to resolve collisions. Records are stored in Python list.\n",
    "\n",
    "Note: We would typically use a linked list to do this as well. We will discuss further when we learn linked list."
   ]
  },
  {
   "cell_type": "code",
   "execution_count": null,
   "metadata": {
    "scrolled": false
   },
   "outputs": [],
   "source": [
    "# Chaining\n",
    "# Create and initialize hash table, array size 500\n",
    "hash_table = [[] for i in range(500)]\n",
    "\n",
    "def ht_insert(studentID):\n",
    "    # calculate hash value\n",
    "    hash_value = HS(studentID)\n",
    "    \n",
    "    # insert the data by appending to end of list (chain)\n",
    "    hash_table[hash_value].append(studentID)\n",
    "    return True\n",
    "\n",
    "def ht_search(studentID):\n",
    "    \"\"\"\n",
    "    Search for data in hash table\n",
    "    Return True if found, False otherwise\n",
    "    \"\"\"\n",
    "    # calculate hash value\n",
    "    hash_value = HS(studentID)\n",
    "    \n",
    "    # iterate through the chain\n",
    "    if studentID in hash_table[hash_value]:\n",
    "        return True\n",
    "    else:\n",
    "        return False\n",
    "    \n",
    "\n",
    "for studentID in studentIDList:\n",
    "    ht_insert(studentID)\n",
    "    \n",
    "# Check the hash table\n",
    "for idx, data in enumerate(hash_table):\n",
    "    print(idx,data)\n"
   ]
  },
  {
   "cell_type": "markdown",
   "metadata": {},
   "source": [
    "## OOP implementation for hash table\n",
    "\n",
    "### Hash Table class, collision resolution using chaining (with Python list)"
   ]
  },
  {
   "cell_type": "code",
   "execution_count": null,
   "metadata": {},
   "outputs": [],
   "source": [
    "class HashTable:\n",
    "    '''\n",
    "    Hash table - chaining using Python list\n",
    "    '''\n",
    "    # Constructor\n",
    "    def __init__(self, size):\n",
    "        self.__table = [[] for i in range(size)]\n",
    "        self.__size = size\n",
    "    \n",
    "    # Destructor\n",
    "    def __del__(self):\n",
    "        return True\n",
    "    \n",
    "    # Accessor (Gettor) method\n",
    "    def getSize(self):\n",
    "        return self.__size\n",
    "    \n",
    "    def display(self):\n",
    "        for idx, data in enumerate(self.__table):\n",
    "            print(idx,data)\n",
    "    \n",
    "    def hashing(self, data):\n",
    "        HashTotal = 0\n",
    "        Hash = 0\n",
    "        for char in data:\n",
    "            HashTotal += ord(char)\n",
    "        Hash = HashTotal % self.__size\n",
    "        return Hash\n",
    "    \n",
    "    def insert(self, data):\n",
    "        # calculate hash value\n",
    "        hash_value = self.hashing(data)\n",
    "    \n",
    "        # insert the data by appending to end of list (chain)\n",
    "        self.__table[hash_value].append(data)\n",
    "        return True\n",
    "    \n",
    "    def search(self, data):\n",
    "        \"\"\"\n",
    "        Search for data in hash table\n",
    "        Return True if found, False otherwise\n",
    "        \"\"\"\n",
    "        # calculate hash value\n",
    "        hash_value = self.hashing(data)\n",
    "\n",
    "        # iterate through the chain\n",
    "        if data in self.__table[hash_value]:\n",
    "            return True\n",
    "        else:\n",
    "            return False"
   ]
  },
  {
   "cell_type": "code",
   "execution_count": null,
   "metadata": {
    "scrolled": false
   },
   "outputs": [],
   "source": [
    "studentIDList = [\n",
    "'G1923358Q','S8744135I','S7721536G',\n",
    "'S7733010G','S8740525E','S6709440C',\n",
    "'S8671460B','S8742506Z','S8734053F',\n",
    "'S9535433B','S9634621F','S9414585G',\n",
    "'S9603708F','S9309384I','S9234153B',\n",
    "'S7847448F','S8747447H','S7713451J',\n",
    "'S9819719I','S7612861D','S8728919J',\n",
    "'S9942155B','S9914425G','S9519664D',\n",
    "'S9632366F','S9239107F','S7742882D',\n",
    "'S7622993C','S8628526D','S7620076E']\n",
    "\n",
    "hash_table = HashTable(50)\n",
    "\n",
    "for studentID in studentIDList:\n",
    "    hash_table.insert(studentID)\n",
    "    \n",
    "hash_table.display()\n",
    "\n",
    "print(hash_table.search('S9942155B'))\n",
    "print(hash_table.search('SSSSSSSSS'))"
   ]
  },
  {
   "cell_type": "markdown",
   "metadata": {},
   "source": [
    "### Hash Table class, collision resolution using linear probing"
   ]
  },
  {
   "cell_type": "code",
   "execution_count": 16,
   "metadata": {},
   "outputs": [],
   "source": [
    "class HashTable:\n",
    "    '''\n",
    "    Hash table - linear probing\n",
    "    '''\n",
    "    # Constructor\n",
    "    def __init__(self, size):\n",
    "        self.__table = [None for i in range(size)]\n",
    "        self.__size = size\n",
    "\n",
    "    # Destructor\n",
    "    def __del__(self):\n",
    "        return True\n",
    "        \n",
    "    # Accessor (Getter) method\n",
    "    def getSize(self):\n",
    "        return self.__size\n",
    "    \n",
    "    def display(self):\n",
    "        for idx, data in enumerate(self.__table):\n",
    "            print(idx,data)\n",
    "    \n",
    "    def hashing(self, data):\n",
    "        HashTotal = 0\n",
    "        Hash = 0\n",
    "        for char in data:\n",
    "            HashTotal += ord(char)\n",
    "        Hash = HashTotal % self.__size\n",
    "        return Hash\n",
    "    \n",
    "    def insert(self, data):\n",
    "        # calculate hash value\n",
    "        hash_value = self.hashing(data)\n",
    "        loc = hash_value\n",
    "    \n",
    "        # search for empty slot to insert\n",
    "        while self.__table[loc]: # while ethe slot is not empty\n",
    "            loc = (loc + 1) % self.__size\n",
    "            if loc == hash_value: # no more slot to insert\n",
    "                return False\n",
    "            \n",
    "        # found the slot to insert\n",
    "        self.__table[loc] = data\n",
    "        return True\n",
    "    \n",
    "    def search(self, data):\n",
    "        \"\"\"\n",
    "        Search for student ID in hash table\n",
    "        Return True if found, False otherwise\n",
    "        \"\"\"\n",
    "        # calculate hash value\n",
    "        hash_value = self.hashing(data)\n",
    "        loc = hash_value\n",
    "\n",
    "        # iterate through table\n",
    "        while self.__table[loc] != None: # while the location is occupied\n",
    "            if data == self.__table[loc]:\n",
    "                return True\n",
    "            else:\n",
    "                loc = (loc + 1) % self.__size\n",
    "                if loc == hash_value:  # looped through all values\n",
    "                    return False\n",
    "        \n",
    "        # item not found\n",
    "        return False\n",
    "            "
   ]
  },
  {
   "cell_type": "code",
   "execution_count": 17,
   "metadata": {},
   "outputs": [
    {
     "name": "stdout",
     "output_type": "stream",
     "text": [
      "0 None\n",
      "1 None\n",
      "2 None\n",
      "3 None\n",
      "4 None\n",
      "5 None\n",
      "6 None\n",
      "7 None\n",
      "8 None\n",
      "9 None\n",
      "10 None\n",
      "11 S7733010G\n",
      "12 S9234153B\n",
      "13 None\n",
      "14 None\n",
      "15 None\n",
      "16 S6709440C\n",
      "17 S8671460B\n",
      "18 S9535433B\n",
      "19 G1923358Q\n",
      "20 S8740525E\n",
      "21 S7721536G\n",
      "22 S8734053F\n",
      "23 S9634621F\n",
      "24 S8744135I\n",
      "25 S9603708F\n",
      "26 S9414585G\n",
      "27 S7713451J\n",
      "28 S9309384I\n",
      "29 S7612861D\n",
      "30 S9942155B\n",
      "31 S7847448F\n",
      "32 S8747447H\n",
      "33 S9914425G\n",
      "34 S9519664D\n",
      "35 S9632366F\n",
      "36 S9819719I\n",
      "37 S8728919J\n",
      "38 S9239107F\n",
      "39 S7742882D\n",
      "40 S7622993C\n",
      "41 S8742506Z\n",
      "42 S8628526D\n",
      "43 S7620076E\n",
      "44 None\n",
      "45 None\n",
      "46 None\n",
      "47 None\n",
      "48 None\n",
      "49 None\n",
      "True\n",
      "False\n"
     ]
    }
   ],
   "source": [
    "studentIDList = [\n",
    "'G1923358Q','S8744135I','S7721536G',\n",
    "'S7733010G','S8740525E','S6709440C',\n",
    "'S8671460B','S8742506Z','S8734053F',\n",
    "'S9535433B','S9634621F','S9414585G',\n",
    "'S9603708F','S9309384I','S9234153B',\n",
    "'S7847448F','S8747447H','S7713451J',\n",
    "'S9819719I','S7612861D','S8728919J',\n",
    "'S9942155B','S9914425G','S9519664D',\n",
    "'S9632366F','S9239107F','S7742882D',\n",
    "'S7622993C','S8628526D','S7620076E']\n",
    "\n",
    "hash_table = HashTable(50)\n",
    "\n",
    "for studentID in studentIDList:\n",
    "    hash_table.insert(studentID)\n",
    "    \n",
    "hash_table.display()\n",
    "\n",
    "print(hash_table.search('S9942155B'))\n",
    "print(hash_table.search('SSSSSSSSS'))"
   ]
  },
  {
   "cell_type": "code",
   "execution_count": null,
   "metadata": {},
   "outputs": [],
   "source": []
  }
 ],
 "metadata": {
  "kernelspec": {
   "display_name": "Python 3.10.7 64-bit",
   "language": "python",
   "name": "python3"
  },
  "language_info": {
   "codemirror_mode": {
    "name": "ipython",
    "version": 3
   },
   "file_extension": ".py",
   "mimetype": "text/x-python",
   "name": "python",
   "nbconvert_exporter": "python",
   "pygments_lexer": "ipython3",
   "version": "3.10.7"
  },
  "vscode": {
   "interpreter": {
    "hash": "e7370f93d1d0cde622a1f8e1c04877d8463912d04d973331ad4851f04de6915a"
   }
  }
 },
 "nbformat": 4,
 "nbformat_minor": 2
}
