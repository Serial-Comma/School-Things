{
 "cells": [
  {
   "cell_type": "code",
   "execution_count": 28,
   "id": "27ccec27",
   "metadata": {},
   "outputs": [
    {
     "data": {
      "text/plain": [
       "{'a': 3, 'e': 7, 'i': 2, 'o': 1, 'u': 1}"
      ]
     },
     "execution_count": 28,
     "metadata": {},
     "output_type": "execute_result"
    }
   ],
   "source": [
    "# Task 1.1\n",
    "\n",
    "def count_vowels(word_list):\n",
    "    diction = {'a': 0, 'e': 0, 'i':0,'o':0,'u':0}\n",
    "    words = word_list\n",
    "    words = list(str(words))\n",
    "    for i in range(len(words)):\n",
    "        words[i] = words[i].strip()\n",
    "        if diction.get(words[i]) == None:\n",
    "            pass\n",
    "        else:\n",
    "            diction[words[i]] = diction[words[i]] + 1\n",
    "    return (diction)\n",
    "\n",
    "count_vowels(['celebrate', 'journey', 'strive', 'appreciate'])"
   ]
  },
  {
   "cell_type": "code",
   "execution_count": 30,
   "id": "6342042d",
   "metadata": {},
   "outputs": [
    {
     "name": "stdout",
     "output_type": "stream",
     "text": [
      "Total: 9\n",
      "Average: 26.7\n",
      "Maximum: 35.0\n"
     ]
    }
   ],
   "source": [
    "#Task 2.1\n",
    "\n",
    "with open(\"Test_Scores.TXT\", 'r') as f:\n",
    "    scores = f.readlines()\n",
    "    for i in range(len(scores)):\n",
    "        scores[i] = scores[i].strip()\n",
    " #   print(scores)\n",
    "\n",
    "#Task 2.2\n",
    "total = 0\n",
    "sum = 0\n",
    "max = float(-1)\n",
    "with open(\"Test_Scores.TXT\", 'r') as f:\n",
    "    scores = f.readlines()\n",
    "    for i in range(len(scores)):\n",
    "        scores[i] = float(scores[i].strip())\n",
    "        total = total + 1\n",
    "        sum = sum + float(scores[i])\n",
    "        if float(scores[i]) > max:\n",
    "            max = float(scores[i])\n",
    "    print(\"Total: {}\".format(total))\n",
    "    print(\"Average: {}\".format(round(sum/total,1)))\n",
    "    print(\"Maximum: {}\".format(max))\n",
    "\n",
    "\n",
    "    "
   ]
  },
  {
   "cell_type": "code",
   "execution_count": 23,
   "id": "cebf3385",
   "metadata": {},
   "outputs": [
    {
     "name": "stdout",
     "output_type": "stream",
     "text": [
      "[40.0, 46.0, 50.0, 60.0, 70.0, 64.0, 56.0, 36.0, 58.0]\n",
      "Grade    Number of students\n",
      "A    1\n",
      "B    2\n",
      "C    2\n",
      "D    1\n",
      "E    1\n",
      "S    1\n",
      "U    1\n"
     ]
    }
   ],
   "source": [
    "#Task 2.3\n",
    "scores_100 = []\n",
    "for i in range(len(scores)):\n",
    "    scores_100.append(scores[i]*2)\n",
    "print(scores_100)\n",
    "a = 0 \n",
    "b = 0\n",
    "c = 0\n",
    "d = 0\n",
    "e = 0\n",
    "s = 0\n",
    "u = 0\n",
    "for i in range(len(scores_100)):\n",
    "    if scores_100[i] >= 70:\n",
    "        a+=1\n",
    "    elif scores_100[i] >= 60:\n",
    "        b +=1\n",
    "    elif scores_100[i] >= 55:\n",
    "        c+=1\n",
    "    elif scores_100[i] >= 50:\n",
    "        d +=1\n",
    "    elif scores_100[i] >= 45:\n",
    "        e+=1\n",
    "    elif scores_100[i] >= 40:\n",
    "        s+=1\n",
    "    else:\n",
    "        u+=1\n",
    "print(\"Grade    Number of students\")\n",
    "print(\"A    {}\".format(a))\n",
    "print(\"B    {}\".format(b))\n",
    "print(\"C    {}\".format(c))\n",
    "print(\"D    {}\".format(d))\n",
    "print(\"E    {}\".format(e))\n",
    "print(\"S    {}\".format(s))\n",
    "print(\"U    {}\".format(u))"
   ]
  }
 ],
 "metadata": {
  "interpreter": {
   "hash": "e7370f93d1d0cde622a1f8e1c04877d8463912d04d973331ad4851f04de6915a"
  },
  "kernelspec": {
   "display_name": "Python 3.10.4 64-bit",
   "language": "python",
   "name": "python3"
  },
  "language_info": {
   "codemirror_mode": {
    "name": "ipython",
    "version": 3
   },
   "file_extension": ".py",
   "mimetype": "text/x-python",
   "name": "python",
   "nbconvert_exporter": "python",
   "pygments_lexer": "ipython3",
   "version": "3.10.4"
  }
 },
 "nbformat": 4,
 "nbformat_minor": 5
}
