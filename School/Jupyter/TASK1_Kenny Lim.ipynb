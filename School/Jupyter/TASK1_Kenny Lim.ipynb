{
 "cells": [
  {
   "cell_type": "code",
   "execution_count": 23,
   "id": "0404ff7c",
   "metadata": {},
   "outputs": [
    {
     "name": "stdout",
     "output_type": "stream",
     "text": [
      "Your taxable income is 9.0\n",
      "Your gross tax payable is $0\n"
     ]
    }
   ],
   "source": [
    "#Task 1.1\n",
    "imput = input(\"Please key in your income: \")\n",
    "imput = int(imput)\n",
    "chargable = (imput/100)*90\n",
    "print(\"Your taxable income is {}\".format(chargable))\n",
    "#Task 1.2\n",
    "tax = 0\n",
    "if chargable <= 30_000:\n",
    "    tax = 0\n",
    "if chargable >30_000 and chargable <= 50_000:\n",
    "    tax = 1000 + (0.05*(chargable-30_000))\n",
    "if chargable > 50_000 and chargable<=100_000:\n",
    "    tax = 5000 +1000 + (0.10*(chargable-50_000))\n",
    "if chargable > 100_000 and chargable <=200_000:\n",
    "    tax = 6000  + 15_000 + (0.15*(chargable-100000))\n",
    "if chargable >200_000:\n",
    "    tax = 21_000 + 0.20*(chargable-200_000)\n",
    "\n",
    "\n",
    "\n",
    "print(\"Your gross tax payable is ${}\".format(tax))\n"
   ]
  },
  {
   "cell_type": "code",
   "execution_count": 11,
   "id": "de80b123",
   "metadata": {},
   "outputs": [
    {
     "name": "stdout",
     "output_type": "stream",
     "text": [
      "3\n",
      "5\n",
      "6\n",
      "9\n",
      "10\n",
      "12\n",
      "18\n",
      "20\n",
      "21\n",
      "24\n",
      "25\n",
      "27\n",
      "33\n",
      "35\n",
      "36\n",
      "39\n",
      "40\n",
      "42\n",
      "48\n",
      "50\n"
     ]
    }
   ],
   "source": [
    "#Task 2.1\n",
    "x = 1\n",
    "while x <= 50:\n",
    "    if x %3 ==0 or x%5 ==0:\n",
    "        if x%15 == 0:\n",
    "            pass\n",
    "        else:\n",
    "            print(x)\n",
    "    else:\n",
    "        pass\n",
    "    x = x+1\n"
   ]
  },
  {
   "cell_type": "code",
   "execution_count": 17,
   "id": "1e88250f",
   "metadata": {},
   "outputs": [
    {
     "name": "stdout",
     "output_type": "stream",
     "text": [
      "Your total is 19.07\n",
      "Your ordered 4 dishes\n"
     ]
    }
   ],
   "source": [
    "#Task 2.2\n",
    "valid = False\n",
    "total = float(0)\n",
    "count = 0\n",
    "while valid == False: \n",
    "    plate = input(\"Please input 'B','R' or 'G' for your plate color, or input anyhting else to end.\")\n",
    "    if plate != 'B' and plate != 'R' and plate != 'G':\n",
    "        valid = True\n",
    "        break\n",
    "    if plate == 'B':\n",
    "        total = total + 2.80\n",
    "    elif plate == 'R':\n",
    "        total = total + 3.80\n",
    "    else:\n",
    "        total = total + 4.80\n",
    "    count +=1\n",
    "payable = (1.1*total)*1.07\n",
    "payable = round(payable,2)\n",
    "print(\"Your total is {}\".format(payable))\n",
    "\n",
    "print(\"Your ordered {} dishes\".format(count))"
   ]
  }
 ],
 "metadata": {
  "kernelspec": {
   "display_name": "Python 3 (ipykernel)",
   "language": "python",
   "name": "python3"
  },
  "language_info": {
   "codemirror_mode": {
    "name": "ipython",
    "version": 3
   },
   "file_extension": ".py",
   "mimetype": "text/x-python",
   "name": "python",
   "nbconvert_exporter": "python",
   "pygments_lexer": "ipython3",
   "version": "3.10.3"
  }
 },
 "nbformat": 4,
 "nbformat_minor": 5
}
