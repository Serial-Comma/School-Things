{
 "cells": [
  {
   "cell_type": "markdown",
   "metadata": {},
   "source": [
    "### Question 1\n",
    "\n",
    "Implement a function `rolling average()` which takes in a list of integers `s` and an integer `n`. It returns list of moving averages of the list with window size `n`. The `n` has a default value of `2`.\n",
    "\n",
    "For example, moving average if `[1,2,3,4,5]` with windows size of `2` is `[1.5, 2.5, 3.5, 4.5]`."
   ]
  },
  {
   "cell_type": "code",
   "execution_count": 39,
   "metadata": {},
   "outputs": [
    {
     "ename": "SyntaxError",
     "evalue": "invalid syntax (1838095193.py, line 11)",
     "output_type": "error",
     "traceback": [
      "\u001b[0;36m  Input \u001b[0;32mIn [39]\u001b[0;36m\u001b[0m\n\u001b[0;31m    return l    lst = []\u001b[0m\n\u001b[0m                ^\u001b[0m\n\u001b[0;31mSyntaxError\u001b[0m\u001b[0;31m:\u001b[0m invalid syntax\n"
     ]
    }
   ],
   "source": [
    "# WRITE YOUR CODE HERE\n",
    "def rolling_average(s,n=2):\n",
    "    lst = []\n",
    "    total = 0\n",
    "    for k in range(len(s)):\n",
    "        for x in range(len(s,len(s)+n)):\n",
    "            total = total + s[x]\n",
    "        lst.append(total/n)\n",
    "    return lst\n"
   ]
  },
  {
   "cell_type": "markdown",
   "metadata": {},
   "source": [
    "<u>*Test Case 1*</u>\n",
    "\n",
    "Expected output: `[1.5, 2.5, 3.5, 4.5]`"
   ]
  },
  {
   "cell_type": "code",
   "execution_count": 62,
   "metadata": {},
   "outputs": [
    {
     "data": {
      "text/plain": [
       "[1.5, 2.5, 3.5, 4.5]"
      ]
     },
     "execution_count": 62,
     "metadata": {},
     "output_type": "execute_result"
    }
   ],
   "source": [
    "rolling_average([1,2,3,4,5], 2)"
   ]
  },
  {
   "cell_type": "markdown",
   "metadata": {},
   "source": [
    "<u>*Test Case 2*</u>\n",
    "\n",
    "Expected output: `[]`"
   ]
  },
  {
   "cell_type": "code",
   "execution_count": 54,
   "metadata": {},
   "outputs": [
    {
     "data": {
      "text/plain": [
       "[]"
      ]
     },
     "execution_count": 54,
     "metadata": {},
     "output_type": "execute_result"
    }
   ],
   "source": [
    "rolling_average([1], 2)"
   ]
  },
  {
   "cell_type": "markdown",
   "metadata": {},
   "source": [
    "<u>*Test Case 3*</u>\n",
    "\n",
    "Expected output: `[1.5]`"
   ]
  },
  {
   "cell_type": "code",
   "execution_count": 55,
   "metadata": {},
   "outputs": [
    {
     "name": "stdout",
     "output_type": "stream",
     "text": [
      "Adding 1 to 0 for the 0th time\n",
      "Adding 2 to 1 for the 0th time\n"
     ]
    },
    {
     "data": {
      "text/plain": [
       "[1.5]"
      ]
     },
     "execution_count": 55,
     "metadata": {},
     "output_type": "execute_result"
    }
   ],
   "source": [
    "rolling_average([1,2], 2)"
   ]
  },
  {
   "cell_type": "markdown",
   "metadata": {},
   "source": [
    "### Question 2\n",
    "\n",
    "Implement a script which validates phone numbers entered by user. The script runs continuously until user enter an empty string. A valid mobile number fulfills following 3 conditions:\n",
    "* Phone number starts with either `9` or `8`\n",
    "* Phone number is a string of 8 digits\n",
    "\n",
    "<u>Hint:</u> use `str.isdecimal()` to test whether a string is of positive integer.\n",
    "\n",
    "<u>Sample Output:</u>\n",
    "```\n",
    "Enter a phone number: 9123\n",
    "Invalid: must be 8 character\n",
    "Enter a phone number: 61234567\n",
    "Invalid: must starts with 8 or 9\n",
    "Enter a phone number: 81234abc\n",
    "Invalid: only digits allowed\n",
    "Enter a phone number: 81234567\n",
    "Valid\n",
    "Enter a phone number: \n",
    "```"
   ]
  },
  {
   "cell_type": "code",
   "execution_count": 66,
   "metadata": {
    "scrolled": true
   },
   "outputs": [
    {
     "name": "stdout",
     "output_type": "stream",
     "text": [
      "Valid\n"
     ]
    }
   ],
   "source": [
    "# WRITE YOUR CODE HERE\n",
    "while True:\n",
    "\n",
    "    imput = input(\"Enter a phone number: \")\n",
    "    if imput == \"\":\n",
    "        break\n",
    "    if len(imput) != 8:\n",
    "        print(\"Invalid: must be 8 character\")\n",
    "        continue\n",
    "    if imput.isdecimal() == False:\n",
    "        print(\"Invalid: only digits allowed\")\n",
    "        continue\n",
    "    if imput[0] != '9' and imput[0] !='8':\n",
    "        print(\"Invalid: must starts with 8 or 9\")\n",
    "        continue\n",
    "    print(\"Valid\")"
   ]
  },
  {
   "cell_type": "markdown",
   "metadata": {},
   "source": [
    "### Question 3\n",
    "\n",
    "Implement a function `char_frequency()` which takes in a string `s`, and returns character frequencies in a dictionary structure."
   ]
  },
  {
   "cell_type": "code",
   "execution_count": 75,
   "metadata": {},
   "outputs": [],
   "source": [
    "# WRITE YOUR CODE HERE\n",
    "def char_frequency(s):\n",
    "    s = list(s)\n",
    "    diction = {}\n",
    "    for i in range(len(s)):\n",
    "        if diction.get(s[i]) == None:\n",
    "            diction[s[i]] = 1\n",
    "        else:\n",
    "            diction[s[i]] += 1\n",
    "    return diction\n"
   ]
  },
  {
   "cell_type": "markdown",
   "metadata": {},
   "source": [
    "<u>*Test Case 1*</u> \n",
    "\n",
    "Expected output: `{'h': 1, 'e': 1, 'l': 3, 'o': 2, ' ': 1, 'w': 1, 'r': 1, 'd': 1}`"
   ]
  },
  {
   "cell_type": "code",
   "execution_count": 76,
   "metadata": {
    "scrolled": false
   },
   "outputs": [
    {
     "data": {
      "text/plain": [
       "{'h': 1, 'e': 1, 'l': 3, 'o': 2, ' ': 1, 'w': 1, 'r': 1, 'd': 1}"
      ]
     },
     "execution_count": 76,
     "metadata": {},
     "output_type": "execute_result"
    }
   ],
   "source": [
    "char_frequency('hello world')"
   ]
  },
  {
   "attachments": {
    "image.png": {
     "image/png": "[encoded data removed]"
    }
   },
   "cell_type": "markdown",
   "metadata": {},
   "source": [
    "### Question 4\n",
    "\n",
    "Implement a recursive function `geometric(a, r, m)` to compute the summation of a geometric series with following formula, where `a`, `r` and `m` are integers input parameters. \n",
    "\n",
    "![image.png](attachment:image.png)\n",
    "\n",
    "The function returns final summation of the series."
   ]
  },
  {
   "cell_type": "markdown",
   "metadata": {},
   "source": [
    "Using the formula $T_1 = a$,  $T_n = ar^{n-1}$"
   ]
  },
  {
   "cell_type": "code",
   "execution_count": 143,
   "metadata": {},
   "outputs": [],
   "source": [
    "import math\n",
    "def geometric(a,r,m):\n",
    "  if m < 0:\n",
    "    return 0\n",
    "  else:\n",
    "    return math.floor(1 / a*pow(r,m-1) + geometric(a,r,m - 1))\n",
    " \n"
   ]
  },
  {
   "cell_type": "markdown",
   "metadata": {},
   "source": [
    "<u>*Test Case 1*</u>\n",
    "\n",
    "Expected output: `1023`"
   ]
  },
  {
   "cell_type": "code",
   "execution_count": 144,
   "metadata": {},
   "outputs": [
    {
     "data": {
      "text/plain": [
       "1023"
      ]
     },
     "execution_count": 144,
     "metadata": {},
     "output_type": "execute_result"
    }
   ],
   "source": [
    "geometric(1, 2, 10)"
   ]
  },
  {
   "cell_type": "markdown",
   "metadata": {},
   "source": [
    "### Question 5\n",
    "\n",
    "Assume a Singapore car registration number is in this format `AAAxxxxC`, where\n",
    "* `AAA` is the 3 letters (in capital letter)\n",
    "* `xxxx` could be 1 to 4 digits\n",
    "* `C` is the checksum based on values of the checksum of `AAA` and `xxxx`.\n",
    "\n",
    "If `xxxx` has less than 4 digits, it is prefixed with 0s. For example, `13` will become `0013`.\n",
    "\n",
    "The checksum is computed using the following steps:\n",
    "* Create an empty list `X`.\n",
    "* Take the last two letters from `AAA`; append the numerical position of the two alphabets to `X`.\n",
    "    * For example, if the alphabets are `'BD'`, then `X = [2,4]`.\n",
    "    * Hint: to find numerical position of `M`, use formular `ord('M') - ord('A') + 1`.\n",
    "* Append the digits from `xxxx`, to list X.\n",
    "    * For example, if `xxxx` is `5678`, then `X = [2, 4, 5, 6, 7, 8]`\n",
    "* Sum the multiplication of list X with `[9, 4, 5, 4, 3, 2]` item-wise.\n",
    "* Compute the remainder of the sum divided by `19`.\n",
    "* Look up the checksum for the remainder using the table below:\n",
    "    * `0 : A\t5 : T\t10 : L   15 : E`\n",
    "    * `1 : Z\t6 : S\t11 : K   16 : D`\n",
    "    * `2 : Y\t7 : R\t12 : J   17 : C`\n",
    "    * `3 : X\t8 : P\t13 : H   18 : B`\n",
    "    * `4 : U\t9 : M\t14 : G`\n",
    "\n",
    "Implement a function `validate_car_ploate()` which takes in a car plate number `s`, validates it and return either `True` or `False`."
   ]
  },
  {
   "cell_type": "code",
   "execution_count": 173,
   "metadata": {},
   "outputs": [],
   "source": [
    "# WRITE YOUR CODE HERE\n",
    "import string\n",
    "def validate_car_ploate(s):\n",
    "    s = list(s)\n",
    "    x = []\n",
    "    lst = [9,4,5,4,3,2]\n",
    "    total = 0\n",
    "    x.append(ord(s[1]) - ord('A')+1)\n",
    "    x.append(ord(s[2]) - ord('A')+1)\n",
    "    for i in range(3,7):\n",
    "        x.append(int(s[i]))\n",
    "    for k in range(len(x)):\n",
    "        total = total + x[k]*lst[k]\n",
    "    remainder = total % 19\n",
    "    diction = { 0 : 'A',5 : 'T',10 : 'L',15 : 'E', 1 : 'Z',6 : 'S',11 : 'K',16 : 'D',2 : 'Y', 7 : 'R',\t12 : 'J',   17 : 'C', 3 : 'X',\t8 : 'P',13 : 'H',   18 : 'B', 4 : 'U',\t9 : 'M',\t14 : 'G'}\n",
    "    if diction.get(remainder) !=  s[7]:\n",
    "        return False\n",
    "    else:\n",
    "        return True"
   ]
  },
  {
   "cell_type": "markdown",
   "metadata": {},
   "source": [
    "<u>*Test Case 1*</u>\n",
    "\n",
    "Expected output: `True`"
   ]
  },
  {
   "cell_type": "code",
   "execution_count": 174,
   "metadata": {},
   "outputs": [
    {
     "data": {
      "text/plain": [
       "True"
      ]
     },
     "execution_count": 174,
     "metadata": {},
     "output_type": "execute_result"
    }
   ],
   "source": [
    "validate_car_ploate('SMG9411Y')"
   ]
  },
  {
   "cell_type": "markdown",
   "metadata": {},
   "source": [
    "<u>*Test Case 2*</u>\n",
    "\n",
    "Expected output: `True`"
   ]
  },
  {
   "cell_type": "code",
   "execution_count": 176,
   "metadata": {},
   "outputs": [
    {
     "data": {
      "text/plain": [
       "True"
      ]
     },
     "execution_count": 176,
     "metadata": {},
     "output_type": "execute_result"
    }
   ],
   "source": [
    "validate_car_ploate('SLA0123G')"
   ]
  },
  {
   "cell_type": "markdown",
   "metadata": {},
   "source": [
    "<u>*Test Case 3*</u>\n",
    "\n",
    "Expected output: `False`"
   ]
  },
  {
   "cell_type": "code",
   "execution_count": 177,
   "metadata": {
    "scrolled": true
   },
   "outputs": [
    {
     "data": {
      "text/plain": [
       "False"
      ]
     },
     "execution_count": 177,
     "metadata": {},
     "output_type": "execute_result"
    }
   ],
   "source": [
    "validate_car_ploate('SMG9411Z')"
   ]
  },
  {
   "cell_type": "code",
   "execution_count": null,
   "metadata": {},
   "outputs": [],
   "source": []
  }
 ],
 "metadata": {
  "interpreter": {
   "hash": "e7370f93d1d0cde622a1f8e1c04877d8463912d04d973331ad4851f04de6915a"
  },
  "kernelspec": {
   "display_name": "Python 3.10.4 64-bit",
   "language": "python",
   "name": "python3"
  },
  "language_info": {
   "codemirror_mode": {
    "name": "ipython",
    "version": 3
   },
   "file_extension": ".py",
   "mimetype": "text/x-python",
   "name": "python",
   "nbconvert_exporter": "python",
   "pygments_lexer": "ipython3",
   "version": "3.10.4"
  }
 },
 "nbformat": 4,
 "nbformat_minor": 2
}
