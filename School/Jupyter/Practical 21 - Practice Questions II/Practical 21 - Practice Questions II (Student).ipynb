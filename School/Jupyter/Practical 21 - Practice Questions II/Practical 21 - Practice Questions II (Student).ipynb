{
 "cells": [
  {
   "cell_type": "markdown",
   "metadata": {},
   "source": [
    "# Practical 21 - Practice Questions II\n",
    "\n",
    "Attempt these practice questions to revise on functions, dictionaries and CSV file handling. After writing your code as required, run the cells containing the test cases and check your output against the expected output."
   ]
  },
  {
   "cell_type": "markdown",
   "metadata": {},
   "source": [
    "### Question 1\n",
    "\n",
    "Implement a function `get_mean_median()` which takes in a list of integers. It returns a tuple containing the mean value followed by the median value of the list. \n",
    "* When the list has an odd number of integers, its median value is the middle value of the sorted list.\n",
    "* When the list has an even number of integers, its median value is average of the middle 2 values.\n",
    "\n",
    "You get an extra bonus mark if your function does not modify the input parameter list."
   ]
  },
  {
   "cell_type": "code",
   "execution_count": null,
   "metadata": {},
   "outputs": [],
   "source": [
    "# WRITE YOUR CODE HERE\n",
    "\n"
   ]
  },
  {
   "cell_type": "markdown",
   "metadata": {},
   "source": [
    "<u>*Test Case 1*</u>\n",
    "\n",
    "Input: `[1, 3]`<br>\n",
    "Expected output: `(2.0, 2.0)`<br>\n",
    "Note that because there is an even number of integers, the median is the average of the middle 2 sorted values, 1 and 3."
   ]
  },
  {
   "cell_type": "code",
   "execution_count": null,
   "metadata": {},
   "outputs": [],
   "source": [
    "s = [1, 3]\n",
    "get_mean_median(s)"
   ]
  },
  {
   "cell_type": "markdown",
   "metadata": {},
   "source": [
    "<u>*Test Case 2*</u>\n",
    "\n",
    "Input: `[999, 1, 2]`<br>\n",
    "Expected output: `(334.0, 2)`<br>\n",
    "Note that because there is an odd number of integers, the median is just the middle sorted value, 2."
   ]
  },
  {
   "cell_type": "code",
   "execution_count": null,
   "metadata": {},
   "outputs": [],
   "source": [
    "s = [999, 1, 2]\n",
    "get_mean_median(s)"
   ]
  },
  {
   "cell_type": "markdown",
   "metadata": {},
   "source": [
    "<u>*Test Case 3*</u>\n",
    "\n",
    "Input: `[8, 6, 4, 5, 18, 7]`<br>\n",
    "Expected output: `(8.0, 6.5)`"
   ]
  },
  {
   "cell_type": "code",
   "execution_count": null,
   "metadata": {},
   "outputs": [],
   "source": [
    "s = [8, 6, 4, 5, 18, 7]\n",
    "get_mean_median(s)"
   ]
  },
  {
   "cell_type": "markdown",
   "metadata": {},
   "source": [
    "### Question 2\n",
    "\n",
    "Implement a function `count_divisibles(s)` which takes in a list of integers; it counts the number of integers in the list that can be divided by 2, 3 and 5 respectively. \n",
    "\n",
    "The result is returned in a dictionary. For example, `{2: 5, 3: 2, 5: 0}` indicates that 5 numbers can be divided by 2, 2 numbers can be divided by 3, and no numbers can be divided by 5. "
   ]
  },
  {
   "cell_type": "code",
   "execution_count": null,
   "metadata": {},
   "outputs": [],
   "source": [
    "# WRITE YOUR CODE HERE\n",
    "\n"
   ]
  },
  {
   "cell_type": "markdown",
   "metadata": {},
   "source": [
    "<u>*Test Case 1*</u>\n",
    "\n",
    "Input: `[1, 2, 3, 4, 5, 6, 7, 8, 9, 10]`<br>\n",
    "Expected output: `{2: 5, 3: 3, 5: 2}`<br>\n",
    "This is because in the list there are 5 integers that can be divided by 2 (`2`, `4`, `6`, `8`, `10`), 3 integers that can be divided by 3 (`3`, `6`, `9`) and 2 integers that can be divided by 5 (`5`, `10`)."
   ]
  },
  {
   "cell_type": "code",
   "execution_count": null,
   "metadata": {},
   "outputs": [],
   "source": [
    "count_divisibles([1, 2, 3, 4, 5, 6, 7, 8, 9, 10])"
   ]
  },
  {
   "cell_type": "markdown",
   "metadata": {},
   "source": [
    "<u>*Test Case 2*</u>\n",
    "\n",
    "Input: `[11, 13]`<br>\n",
    "Expected output: `{2: 0, 3: 0, 5: 0}`<br>\n",
    "This is because neither `11` nor `13` are divisible by 2, 3 or 5."
   ]
  },
  {
   "cell_type": "code",
   "execution_count": null,
   "metadata": {
    "scrolled": true
   },
   "outputs": [],
   "source": [
    "count_divisibles([11, 13])"
   ]
  },
  {
   "cell_type": "markdown",
   "metadata": {},
   "source": [
    "### Question 3: Processing CSV File\n",
    "\n",
    "The `\"graduates.csv\"` file in the `\"data\"` folder contains the number of university degree graduates by year, sex and type of course.\n",
    "\n",
    "```\n",
    "year,sex,type_of_course,no_of_graduates\n",
    "1993,Males,Education,na\n",
    "1993,Males,Applied Arts,na\n",
    "1993,Males,Humanities & Social Sciences,481\n",
    "1993,Males,Mass Communication,na\n",
    "1993,Males,Accountancy,295\n",
    "1993,Males,Business & Administration,282\n",
    "```\n",
    "\n",
    "(reference: [https://data.gov.sg/dataset/graduates-from-university-first-degree-courses-by-type-of-course](https://data.gov.sg/dataset/graduates-from-university-first-degree-courses-by-type-of-course))"
   ]
  },
  {
   "cell_type": "markdown",
   "metadata": {},
   "source": [
    "----\n",
    "**A)** Write a function `load_graduate_data(file)`, where `file` is the path to the CSV file, to read the file and return a list of records.\n",
    "\n",
    "* Each record (data point) in the list is a tuple, e.g. `(1993,'Males','Humanities & Social Sciences',481)`.\n",
    "* The `year` and `no_of_graduates` are converted to integer values.\n",
    "* Exclude header row in the returned list.\n",
    "* Exclude records whose `no_of_graduates` column are non-numeric values, e.g. `na`.  \n",
    "\n",
    "Note: Use `str.isnumeric()` function to check if a string is of numeric values."
   ]
  },
  {
   "cell_type": "code",
   "execution_count": null,
   "metadata": {},
   "outputs": [],
   "source": [
    "# WRITE YOUR CODE HERE\n",
    "\n"
   ]
  },
  {
   "cell_type": "markdown",
   "metadata": {},
   "source": [
    "<u>*Test Case*</u>"
   ]
  },
  {
   "cell_type": "code",
   "execution_count": null,
   "metadata": {
    "scrolled": true
   },
   "outputs": [],
   "source": [
    "file_name = 'data/graduates.csv'\n",
    "table = load_graduate_data(file_name)\n",
    "\n",
    "print(\"Record count: \", len(table))\n",
    "print(table[:2])\n",
    "print(table[-2:])"
   ]
  },
  {
   "cell_type": "markdown",
   "metadata": {},
   "source": [
    "Expected output:\n",
    "\n",
    "```\n",
    "Record count:  600\n",
    "[(1993, 'Males', 'Humanities & Social Sciences', 481), (1993, 'Males', 'Accountancy', 295)]\n",
    "[(2014, 'Females', 'Engineering Sciences', 1251), (2014, 'Females', 'Services', 219)]\n",
    "```"
   ]
  },
  {
   "cell_type": "markdown",
   "metadata": {},
   "source": [
    "----\n",
    "**B)** Write a function `graduates_by_course(table, start_year, end_year)` to find the total number of graduates from `table` between `start_year` and `end_year` (both inclusive) for all courses.\n",
    "* The `table` data is the same data returned from `load_graduate_data()` function.\n",
    "* It returns a dictionary whose key is the course type, and value is the total graduate number between the years. "
   ]
  },
  {
   "cell_type": "code",
   "execution_count": null,
   "metadata": {},
   "outputs": [],
   "source": [
    "# WRITE YOUR CODE HERE\n",
    "\n",
    "            "
   ]
  },
  {
   "cell_type": "markdown",
   "metadata": {},
   "source": [
    "<u>*Test Case*</u>"
   ]
  },
  {
   "cell_type": "code",
   "execution_count": null,
   "metadata": {
    "scrolled": true
   },
   "outputs": [],
   "source": [
    "# The following 3 lines are needed if you have not completed 1(A).\n",
    "import pickle\n",
    "with open('raw/graduates.pickle', 'rb') as handle:\n",
    "    table = pickle.load(handle)\n",
    "\n",
    "result = graduates_by_course(table, 2000, 2004)\n",
    "print(len(result))\n",
    "print(result)"
   ]
  },
  {
   "cell_type": "markdown",
   "metadata": {},
   "source": [
    "Expected output:\n",
    "\n",
    "```\n",
    "14\n",
    "{'Education': 1359, 'Humanities & Social Sciences': 9264, 'Mass Communication': 609, 'Accountancy': 3620, 'Business & Administration': 5502, 'Law': 744, 'Natural, Physical & Mathematical Sciences': 5423, 'Medicine': 870, 'Dentistry': 165, 'Health Sciences': 325, 'Information Technology': 2821, 'Architecture & Building': 1706, 'Engineering Sciences': 17931, 'Applied Arts': 46}\n",
    "```"
   ]
  },
  {
   "cell_type": "markdown",
   "metadata": {},
   "source": [
    "----\n",
    "**C)** Write a function `save_graduates_by_course(data, file)` to save data to a CSV file, where `data` is a dictionary returned from function `graduates_by_course()`, and `file` is the output file path.\n",
    "* Each row in the CSV file is in `course, count` format. There is no header row."
   ]
  },
  {
   "cell_type": "code",
   "execution_count": null,
   "metadata": {},
   "outputs": [],
   "source": [
    "# WRITE YOUR CODE HERE\n",
    "\n"
   ]
  },
  {
   "cell_type": "markdown",
   "metadata": {},
   "source": [
    "<u>*Test Case*</u>"
   ]
  },
  {
   "cell_type": "code",
   "execution_count": null,
   "metadata": {
    "scrolled": false
   },
   "outputs": [],
   "source": [
    "# The following 3 lines are needed if you have not completed 1(A).\n",
    "import pickle\n",
    "with open('raw/graduates.pickle', 'rb') as handle:\n",
    "    table = pickle.load(handle)\n",
    "\n",
    "result = graduates_by_course(table, 2000, 2004)\n",
    "save_graduates_by_course(result, 'data/result.csv')\n",
    "\n",
    "with open('data/result.csv') as f:\n",
    "    data = [r.strip() for r in f.readlines()]\n",
    "    data.sort()\n",
    "    print(len(data))\n",
    "    print(data)"
   ]
  },
  {
   "cell_type": "markdown",
   "metadata": {},
   "source": [
    "Expected output:\n",
    "\n",
    "```\n",
    "14\n",
    "['\"Natural, Physical & Mathematical Sciences\",5423', 'Accountancy,3620', 'Applied Arts,46', 'Architecture & Building,1706', 'Business & Administration,5502', 'Dentistry,165', 'Education,1359', 'Engineering Sciences,17931', 'Health Sciences,325', 'Humanities & Social Sciences,9264', 'Information Technology,2821', 'Law,744', 'Mass Communication,609', 'Medicine,870']\n",
    "```"
   ]
  },
  {
   "cell_type": "code",
   "execution_count": null,
   "metadata": {},
   "outputs": [],
   "source": []
  }
 ],
 "metadata": {
  "kernelspec": {
   "display_name": "Python 3",
   "language": "python",
   "name": "python3"
  },
  "language_info": {
   "codemirror_mode": {
    "name": "ipython",
    "version": 3
   },
   "file_extension": ".py",
   "mimetype": "text/x-python",
   "name": "python",
   "nbconvert_exporter": "python",
   "pygments_lexer": "ipython3",
   "version": "3.6.4"
  }
 },
 "nbformat": 4,
 "nbformat_minor": 2
}
