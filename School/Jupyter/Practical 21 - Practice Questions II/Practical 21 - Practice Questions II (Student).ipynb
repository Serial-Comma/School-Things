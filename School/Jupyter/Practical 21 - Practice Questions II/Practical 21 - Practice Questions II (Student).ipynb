{
 "cells": [
  {
   "cell_type": "markdown",
   "metadata": {},
   "source": [
    "# Practical 21 - Practice Questions II\n",
    "\n",
    "Attempt these practice questions to revise on functions, dictionaries and CSV file handling. After writing your code as required, run the cells containing the test cases and check your output against the expected output."
   ]
  },
  {
   "cell_type": "markdown",
   "metadata": {},
   "source": [
    "### Question 1\n",
    "\n",
    "Implement a function `get_mean_median()` which takes in a list of integers. It returns a tuple containing the mean value followed by the median value of the list. \n",
    "* When the list has an odd number of integers, its median value is the middle value of the sorted list.\n",
    "* When the list has an even number of integers, its median value is average of the middle 2 values.\n",
    "\n",
    "You get an extra bonus mark if your function does not modify the input parameter list."
   ]
  },
  {
   "cell_type": "code",
   "execution_count": 58,
   "metadata": {},
   "outputs": [],
   "source": [
    "# WRITE YOUR CODE HERE\n",
    "import statistics\n",
    "\n",
    "def get_mean_median(n):\n",
    "\n",
    "    n.sort()\n",
    "    half = len(s)//2\n",
    "\n",
    "    if len(n) %2 ==0:\n",
    "        return float(statistics.mean(n)),(n[half-1] + n[-half])/2\n",
    "        \n",
    "    if len(n) %2 != 0:\n",
    "        return float(statistics.mean(n)),n[half] \n"
   ]
  },
  {
   "cell_type": "markdown",
   "metadata": {},
   "source": [
    "<u>*Test Case 1*</u>\n",
    "\n",
    "Input: `[1, 3]`<br>\n",
    "Expected output: `(2.0, 2.0)`<br>\n",
    "Note that because there is an even number of integers, the median is the average of the middle 2 sorted values, 1 and 3."
   ]
  },
  {
   "cell_type": "code",
   "execution_count": 60,
   "metadata": {},
   "outputs": [
    {
     "data": {
      "text/plain": [
       "(2.0, 2.0)"
      ]
     },
     "execution_count": 60,
     "metadata": {},
     "output_type": "execute_result"
    }
   ],
   "source": [
    "s = [1, 3]\n",
    "get_mean_median(s)"
   ]
  },
  {
   "cell_type": "markdown",
   "metadata": {},
   "source": [
    "<u>*Test Case 2*</u>\n",
    "\n",
    "Input: `[999, 1, 2]`<br>\n",
    "Expected output: `(334.0, 2)`<br>\n",
    "Note that because there is an odd number of integers, the median is just the middle sorted value, 2."
   ]
  },
  {
   "cell_type": "code",
   "execution_count": 59,
   "metadata": {},
   "outputs": [
    {
     "data": {
      "text/plain": [
       "(334.0, 2)"
      ]
     },
     "execution_count": 59,
     "metadata": {},
     "output_type": "execute_result"
    }
   ],
   "source": [
    "s = [999, 1, 2]\n",
    "get_mean_median(s)"
   ]
  },
  {
   "cell_type": "markdown",
   "metadata": {},
   "source": [
    "<u>*Test Case 3*</u>\n",
    "\n",
    "Input: `[8, 6, 4, 5, 18, 7]`<br>\n",
    "Expected output: `(8.0, 6.5)`"
   ]
  },
  {
   "cell_type": "code",
   "execution_count": 61,
   "metadata": {},
   "outputs": [
    {
     "data": {
      "text/plain": [
       "(8.0, 6.5)"
      ]
     },
     "execution_count": 61,
     "metadata": {},
     "output_type": "execute_result"
    }
   ],
   "source": [
    "s = [8, 6, 4, 5, 18, 7]\n",
    "get_mean_median(s)"
   ]
  },
  {
   "cell_type": "markdown",
   "metadata": {},
   "source": [
    "### Question 2\n",
    "\n",
    "Implement a function `count_divisibles(s)` which takes in a list of integers; it counts the number of integers in the list that can be divided by 2, 3 and 5 respectively. \n",
    "\n",
    "The result is returned in a dictionary. For example, `{2: 5, 3: 2, 5: 0}` indicates that 5 numbers can be divided by 2, 2 numbers can be divided by 3, and no numbers can be divided by 5. "
   ]
  },
  {
   "cell_type": "code",
   "execution_count": 71,
   "metadata": {},
   "outputs": [],
   "source": [
    "# WRITE YOUR CODE HERE\n",
    "def count_divisibles(s):\n",
    "    diction  = {2:0,3:0,5:0}\n",
    "    for i in range(len(s)):\n",
    "        for h in diction:\n",
    "            if s[i] % h == 0:\n",
    "                diction[h] = diction[h] +1\n",
    "    return diction\n"
   ]
  },
  {
   "cell_type": "markdown",
   "metadata": {},
   "source": [
    "<u>*Test Case 1*</u>\n",
    "\n",
    "Input: `[1, 2, 3, 4, 5, 6, 7, 8, 9, 10]`<br>\n",
    "Expected output: `{2: 5, 3: 3, 5: 2}`<br>\n",
    "This is because in the list there are 5 integers that can be divided by 2 (`2`, `4`, `6`, `8`, `10`), 3 integers that can be divided by 3 (`3`, `6`, `9`) and 2 integers that can be divided by 5 (`5`, `10`)."
   ]
  },
  {
   "cell_type": "code",
   "execution_count": 72,
   "metadata": {},
   "outputs": [
    {
     "data": {
      "text/plain": [
       "{2: 5, 3: 3, 5: 2}"
      ]
     },
     "execution_count": 72,
     "metadata": {},
     "output_type": "execute_result"
    }
   ],
   "source": [
    "count_divisibles([1, 2, 3, 4, 5, 6, 7, 8, 9, 10])"
   ]
  },
  {
   "cell_type": "markdown",
   "metadata": {},
   "source": [
    "<u>*Test Case 2*</u>\n",
    "\n",
    "Input: `[11, 13]`<br>\n",
    "Expected output: `{2: 0, 3: 0, 5: 0}`<br>\n",
    "This is because neither `11` nor `13` are divisible by 2, 3 or 5."
   ]
  },
  {
   "cell_type": "code",
   "execution_count": 73,
   "metadata": {
    "scrolled": true
   },
   "outputs": [
    {
     "data": {
      "text/plain": [
       "{2: 0, 3: 0, 5: 0}"
      ]
     },
     "execution_count": 73,
     "metadata": {},
     "output_type": "execute_result"
    }
   ],
   "source": [
    "count_divisibles([11, 13])"
   ]
  },
  {
   "cell_type": "markdown",
   "metadata": {},
   "source": [
    "### Question 3: Processing CSV File\n",
    "\n",
    "The `\"graduates.csv\"` file in the `\"data\"` folder contains the number of university degree graduates by year, sex and type of course.\n",
    "\n",
    "```\n",
    "year,sex,type_of_course,no_of_graduates\n",
    "1993,Males,Education,na\n",
    "1993,Males,Applied Arts,na\n",
    "1993,Males,Humanities & Social Sciences,481\n",
    "1993,Males,Mass Communication,na\n",
    "1993,Males,Accountancy,295\n",
    "1993,Males,Business & Administration,282\n",
    "```\n",
    "\n",
    "(reference: [https://data.gov.sg/dataset/graduates-from-university-first-degree-courses-by-type-of-course](https://data.gov.sg/dataset/graduates-from-university-first-degree-courses-by-type-of-course))"
   ]
  },
  {
   "cell_type": "markdown",
   "metadata": {},
   "source": [
    "----\n",
    "**A)** Write a function `load_graduate_data(file)`, where `file` is the path to the CSV file, to read the file and return a list of records.\n",
    "\n",
    "* Each record (data point) in the list is a tuple, e.g. `(1993,'Males','Humanities & Social Sciences',481)`.\n",
    "* The `year` and `no_of_graduates` are converted to integer values.\n",
    "* Exclude header row in the returned list.\n",
    "* Exclude records whose `no_of_graduates` column are non-numeric values, e.g. `na`.  \n",
    "\n",
    "Note: Use `str.isnumeric()` function to check if a string is of numeric values."
   ]
  },
  {
   "cell_type": "code",
   "execution_count": 97,
   "metadata": {},
   "outputs": [],
   "source": [
    "# WRITE YOUR CODE HERE\n",
    "import os\n",
    "import csv\n",
    "\n",
    "def load_graduate_data(file):\n",
    "    with open(file,'r') as f:\n",
    "\n",
    "        reader = csv.reader(f)\n",
    "        header = next(reader)\n",
    "        data = []\n",
    "\n",
    "        for row in reader:\n",
    "            row[0] = int(row[0])\n",
    "\n",
    "            if row[3].isnumeric() == False:\n",
    "                    continue\n",
    "            else:\n",
    "                row[3] = int(row[3])\n",
    "\n",
    "            data.append(tuple(row))\n",
    "\n",
    "        return data"
   ]
  },
  {
   "cell_type": "markdown",
   "metadata": {},
   "source": [
    "<u>*Test Case*</u>"
   ]
  },
  {
   "cell_type": "code",
   "execution_count": 98,
   "metadata": {
    "scrolled": true
   },
   "outputs": [
    {
     "name": "stdout",
     "output_type": "stream",
     "text": [
      "Record count:  600\n",
      "[(1993, 'Males', 'Humanities & Social Sciences', 481), (1993, 'Males', 'Accountancy', 295)]\n",
      "[(2014, 'Females', 'Engineering Sciences', 1251), (2014, 'Females', 'Services', 219)]\n"
     ]
    }
   ],
   "source": [
    "file_name = 'data/graduates.csv'\n",
    "table = load_graduate_data(file_name)\n",
    "\n",
    "print(\"Record count: \", len(table))\n",
    "print(table[:2])\n",
    "print(table[-2:])"
   ]
  },
  {
   "cell_type": "markdown",
   "metadata": {},
   "source": [
    "Expected output:\n",
    "\n",
    "```\n",
    "Record count:  600\n",
    "[(1993, 'Males', 'Humanities & Social Sciences', 481), (1993, 'Males', 'Accountancy', 295)]\n",
    "[(2014, 'Females', 'Engineering Sciences', 1251), (2014, 'Females', 'Services', 219)]\n",
    "```"
   ]
  },
  {
   "cell_type": "markdown",
   "metadata": {},
   "source": [
    "----\n",
    "**B)** Write a function `graduates_by_course(table, start_year, end_year)` to find the total number of graduates from `table` between `start_year` and `end_year` (both inclusive) for all courses.\n",
    "* The `table` data is the same data returned from `load_graduate_data()` function.\n",
    "* It returns a dictionary whose key is the course type, and value is the total graduate number between the years. "
   ]
  },
  {
   "cell_type": "code",
   "execution_count": 117,
   "metadata": {},
   "outputs": [],
   "source": [
    "# WRITE YOUR CODE HERE\n",
    "def graduates_by_course(table,start_year,end_year):\n",
    "    diction = {}\n",
    "    for i in table:\n",
    "        if i[0] < start_year or i[0] > end_year:\n",
    "            continue\n",
    "        #print(i[0],'accepted')\n",
    "        if diction.get(i[2]) == None:\n",
    "            diction[i[2]] = i[3]\n",
    "            #print('added ',i[3], 'to new', i[2],'dict')\n",
    "        else:\n",
    "            diction[i[2]] = diction[i[2]] + i[3]\n",
    "            #print('added', i[3], 'to', i[2])\n",
    "    return diction\n",
    "            "
   ]
  },
  {
   "cell_type": "markdown",
   "metadata": {},
   "source": [
    "<u>*Test Case*</u>"
   ]
  },
  {
   "cell_type": "code",
   "execution_count": 118,
   "metadata": {
    "scrolled": true
   },
   "outputs": [
    {
     "name": "stdout",
     "output_type": "stream",
     "text": [
      "14\n",
      "{'Education': 1359, 'Humanities & Social Sciences': 9264, 'Mass Communication': 609, 'Accountancy': 3620, 'Business & Administration': 5502, 'Law': 744, 'Natural, Physical & Mathematical Sciences': 5423, 'Medicine': 870, 'Dentistry': 165, 'Health Sciences': 325, 'Information Technology': 2821, 'Architecture & Building': 1706, 'Engineering Sciences': 17931, 'Applied Arts': 46}\n"
     ]
    }
   ],
   "source": [
    "# The following 3 lines are needed if you have not completed 1(A).\n",
    "import pickle\n",
    "with open('raw/graduates.pickle', 'rb') as handle:\n",
    "    table = pickle.load(handle)\n",
    "\n",
    "result = graduates_by_course(table, 2000, 2004)\n",
    "print(len(result))\n",
    "print(result)"
   ]
  },
  {
   "cell_type": "markdown",
   "metadata": {},
   "source": [
    "Expected output:\n",
    "\n",
    "```\n",
    "14\n",
    "{'Education': 1359, 'Humanities & Social Sciences': 9264, 'Mass Communication': 609, 'Accountancy': 3620, 'Business & Administration': 5502, 'Law': 744, 'Natural, Physical & Mathematical Sciences': 5423, 'Medicine': 870, 'Dentistry': 165, 'Health Sciences': 325, 'Information Technology': 2821, 'Architecture & Building': 1706, 'Engineering Sciences': 17931, 'Applied Arts': 46}\n",
    "```"
   ]
  },
  {
   "cell_type": "markdown",
   "metadata": {},
   "source": [
    "----\n",
    "**C)** Write a function `save_graduates_by_course(data, file)` to save data to a CSV file, where `data` is a dictionary returned from function `graduates_by_course()`, and `file` is the output file path.\n",
    "* Each row in the CSV file is in `course, count` format. There is no header row."
   ]
  },
  {
   "cell_type": "code",
   "execution_count": 144,
   "metadata": {},
   "outputs": [],
   "source": [
    "# WRITE YOUR CODE HERE\n",
    "def save_graduates_by_course(data,file):\n",
    "    with open(file, 'w') as f:\n",
    "        writer = csv.DictWriter(f, fieldnames= [\"Course\", \"Count\"])\n",
    "        writer.writerows(data)\n",
    "        #i do no understand why this does not work"
   ]
  },
  {
   "cell_type": "markdown",
   "metadata": {},
   "source": [
    "<u>*Test Case*</u>"
   ]
  },
  {
   "cell_type": "code",
   "execution_count": 145,
   "metadata": {
    "scrolled": false
   },
   "outputs": [
    {
     "name": "stdout",
     "output_type": "stream",
     "text": [
      "{'Education': 1359, 'Humanities & Social Sciences': 9264, 'Mass Communication': 609, 'Accountancy': 3620, 'Business & Administration': 5502, 'Law': 744, 'Natural, Physical & Mathematical Sciences': 5423, 'Medicine': 870, 'Dentistry': 165, 'Health Sciences': 325, 'Information Technology': 2821, 'Architecture & Building': 1706, 'Engineering Sciences': 17931, 'Applied Arts': 46}\n"
     ]
    },
    {
     "ename": "AttributeError",
     "evalue": "'str' object has no attribute 'keys'",
     "output_type": "error",
     "traceback": [
      "\u001b[1;31m---------------------------------------------------------------------------\u001b[0m",
      "\u001b[1;31mAttributeError\u001b[0m                            Traceback (most recent call last)",
      "\u001b[1;32ms:\\Documents\\VScode\\School-Things\\School\\Jupyter\\Practical 21 - Practice Questions II\\Practical 21 - Practice Questions II (Student).ipynb Cell 30'\u001b[0m in \u001b[0;36m<cell line: 8>\u001b[1;34m()\u001b[0m\n\u001b[0;32m      <a href='vscode-notebook-cell:/s%3A/Documents/VScode/School-Things/School/Jupyter/Practical%2021%20-%20Practice%20Questions%20II/Practical%2021%20-%20Practice%20Questions%20II%20%28Student%29.ipynb#ch0000029?line=5'>6</a>\u001b[0m result \u001b[39m=\u001b[39m graduates_by_course(table, \u001b[39m2000\u001b[39m, \u001b[39m2004\u001b[39m)\n\u001b[0;32m      <a href='vscode-notebook-cell:/s%3A/Documents/VScode/School-Things/School/Jupyter/Practical%2021%20-%20Practice%20Questions%20II/Practical%2021%20-%20Practice%20Questions%20II%20%28Student%29.ipynb#ch0000029?line=6'>7</a>\u001b[0m \u001b[39mprint\u001b[39m(result)\n\u001b[1;32m----> <a href='vscode-notebook-cell:/s%3A/Documents/VScode/School-Things/School/Jupyter/Practical%2021%20-%20Practice%20Questions%20II/Practical%2021%20-%20Practice%20Questions%20II%20%28Student%29.ipynb#ch0000029?line=7'>8</a>\u001b[0m save_graduates_by_course(result, \u001b[39m'\u001b[39;49m\u001b[39mdata/result.csv\u001b[39;49m\u001b[39m'\u001b[39;49m)\n\u001b[0;32m     <a href='vscode-notebook-cell:/s%3A/Documents/VScode/School-Things/School/Jupyter/Practical%2021%20-%20Practice%20Questions%20II/Practical%2021%20-%20Practice%20Questions%20II%20%28Student%29.ipynb#ch0000029?line=9'>10</a>\u001b[0m \u001b[39mwith\u001b[39;00m \u001b[39mopen\u001b[39m(\u001b[39m'\u001b[39m\u001b[39mdata/result.csv\u001b[39m\u001b[39m'\u001b[39m) \u001b[39mas\u001b[39;00m f:\n\u001b[0;32m     <a href='vscode-notebook-cell:/s%3A/Documents/VScode/School-Things/School/Jupyter/Practical%2021%20-%20Practice%20Questions%20II/Practical%2021%20-%20Practice%20Questions%20II%20%28Student%29.ipynb#ch0000029?line=10'>11</a>\u001b[0m     data \u001b[39m=\u001b[39m [r\u001b[39m.\u001b[39mstrip() \u001b[39mfor\u001b[39;00m r \u001b[39min\u001b[39;00m f\u001b[39m.\u001b[39mreadlines()]\n",
      "\u001b[1;32ms:\\Documents\\VScode\\School-Things\\School\\Jupyter\\Practical 21 - Practice Questions II\\Practical 21 - Practice Questions II (Student).ipynb Cell 28'\u001b[0m in \u001b[0;36msave_graduates_by_course\u001b[1;34m(data, file)\u001b[0m\n\u001b[0;32m      <a href='vscode-notebook-cell:/s%3A/Documents/VScode/School-Things/School/Jupyter/Practical%2021%20-%20Practice%20Questions%20II/Practical%2021%20-%20Practice%20Questions%20II%20%28Student%29.ipynb#ch0000027?line=2'>3</a>\u001b[0m \u001b[39mwith\u001b[39;00m \u001b[39mopen\u001b[39m(file, \u001b[39m'\u001b[39m\u001b[39mw\u001b[39m\u001b[39m'\u001b[39m) \u001b[39mas\u001b[39;00m f:\n\u001b[0;32m      <a href='vscode-notebook-cell:/s%3A/Documents/VScode/School-Things/School/Jupyter/Practical%2021%20-%20Practice%20Questions%20II/Practical%2021%20-%20Practice%20Questions%20II%20%28Student%29.ipynb#ch0000027?line=3'>4</a>\u001b[0m     writer \u001b[39m=\u001b[39m csv\u001b[39m.\u001b[39mDictWriter(f, fieldnames\u001b[39m=\u001b[39m [\u001b[39m\"\u001b[39m\u001b[39mCourse\u001b[39m\u001b[39m\"\u001b[39m, \u001b[39m\"\u001b[39m\u001b[39mCount\u001b[39m\u001b[39m\"\u001b[39m])\n\u001b[1;32m----> <a href='vscode-notebook-cell:/s%3A/Documents/VScode/School-Things/School/Jupyter/Practical%2021%20-%20Practice%20Questions%20II/Practical%2021%20-%20Practice%20Questions%20II%20%28Student%29.ipynb#ch0000027?line=4'>5</a>\u001b[0m     writer\u001b[39m.\u001b[39;49mwriterows(data)\n",
      "File \u001b[1;32mc:\\Users\\kenspoems\\AppData\\Local\\Programs\\Python\\Python310\\lib\\csv.py:157\u001b[0m, in \u001b[0;36mDictWriter.writerows\u001b[1;34m(self, rowdicts)\u001b[0m\n\u001b[0;32m    <a href='file:///c%3A/Users/kenspoems/AppData/Local/Programs/Python/Python310/lib/csv.py?line=155'>156</a>\u001b[0m \u001b[39mdef\u001b[39;00m \u001b[39mwriterows\u001b[39m(\u001b[39mself\u001b[39m, rowdicts):\n\u001b[1;32m--> <a href='file:///c%3A/Users/kenspoems/AppData/Local/Programs/Python/Python310/lib/csv.py?line=156'>157</a>\u001b[0m     \u001b[39mreturn\u001b[39;00m \u001b[39mself\u001b[39;49m\u001b[39m.\u001b[39;49mwriter\u001b[39m.\u001b[39;49mwriterows(\u001b[39mmap\u001b[39;49m(\u001b[39mself\u001b[39;49m\u001b[39m.\u001b[39;49m_dict_to_list, rowdicts))\n",
      "File \u001b[1;32mc:\\Users\\kenspoems\\AppData\\Local\\Programs\\Python\\Python310\\lib\\csv.py:147\u001b[0m, in \u001b[0;36mDictWriter._dict_to_list\u001b[1;34m(self, rowdict)\u001b[0m\n\u001b[0;32m    <a href='file:///c%3A/Users/kenspoems/AppData/Local/Programs/Python/Python310/lib/csv.py?line=144'>145</a>\u001b[0m \u001b[39mdef\u001b[39;00m \u001b[39m_dict_to_list\u001b[39m(\u001b[39mself\u001b[39m, rowdict):\n\u001b[0;32m    <a href='file:///c%3A/Users/kenspoems/AppData/Local/Programs/Python/Python310/lib/csv.py?line=145'>146</a>\u001b[0m     \u001b[39mif\u001b[39;00m \u001b[39mself\u001b[39m\u001b[39m.\u001b[39mextrasaction \u001b[39m==\u001b[39m \u001b[39m\"\u001b[39m\u001b[39mraise\u001b[39m\u001b[39m\"\u001b[39m:\n\u001b[1;32m--> <a href='file:///c%3A/Users/kenspoems/AppData/Local/Programs/Python/Python310/lib/csv.py?line=146'>147</a>\u001b[0m         wrong_fields \u001b[39m=\u001b[39m rowdict\u001b[39m.\u001b[39;49mkeys() \u001b[39m-\u001b[39m \u001b[39mself\u001b[39m\u001b[39m.\u001b[39mfieldnames\n\u001b[0;32m    <a href='file:///c%3A/Users/kenspoems/AppData/Local/Programs/Python/Python310/lib/csv.py?line=147'>148</a>\u001b[0m         \u001b[39mif\u001b[39;00m wrong_fields:\n\u001b[0;32m    <a href='file:///c%3A/Users/kenspoems/AppData/Local/Programs/Python/Python310/lib/csv.py?line=148'>149</a>\u001b[0m             \u001b[39mraise\u001b[39;00m \u001b[39mValueError\u001b[39;00m(\u001b[39m\"\u001b[39m\u001b[39mdict contains fields not in fieldnames: \u001b[39m\u001b[39m\"\u001b[39m\n\u001b[0;32m    <a href='file:///c%3A/Users/kenspoems/AppData/Local/Programs/Python/Python310/lib/csv.py?line=149'>150</a>\u001b[0m                              \u001b[39m+\u001b[39m \u001b[39m\"\u001b[39m\u001b[39m, \u001b[39m\u001b[39m\"\u001b[39m\u001b[39m.\u001b[39mjoin([\u001b[39mrepr\u001b[39m(x) \u001b[39mfor\u001b[39;00m x \u001b[39min\u001b[39;00m wrong_fields]))\n",
      "\u001b[1;31mAttributeError\u001b[0m: 'str' object has no attribute 'keys'"
     ]
    }
   ],
   "source": [
    "# The following 3 lines are needed if you have not completed 1(A).\n",
    "import pickle\n",
    "with open('raw/graduates.pickle', 'rb') as handle:\n",
    "    table = pickle.load(handle)\n",
    "\n",
    "result = graduates_by_course(table, 2000, 2004)\n",
    "print(result)\n",
    "save_graduates_by_course(result, 'data/result.csv')\n",
    "\n",
    "with open('data/result.csv') as f:\n",
    "    data = [r.strip() for r in f.readlines()]\n",
    "    data.sort()\n",
    "    print(len(data))\n",
    "    print(data)"
   ]
  },
  {
   "cell_type": "markdown",
   "metadata": {},
   "source": [
    "Expected output:\n",
    "\n",
    "```\n",
    "14\n",
    "['\"Natural, Physical & Mathematical Sciences\",5423', 'Accountancy,3620', 'Applied Arts,46', 'Architecture & Building,1706', 'Business & Administration,5502', 'Dentistry,165', 'Education,1359', 'Engineering Sciences,17931', 'Health Sciences,325', 'Humanities & Social Sciences,9264', 'Information Technology,2821', 'Law,744', 'Mass Communication,609', 'Medicine,870']\n",
    "```"
   ]
  },
  {
   "cell_type": "code",
   "execution_count": null,
   "metadata": {},
   "outputs": [],
   "source": []
  }
 ],
 "metadata": {
  "kernelspec": {
   "display_name": "Python 3.10.4 64-bit",
   "language": "python",
   "name": "python3"
  },
  "language_info": {
   "codemirror_mode": {
    "name": "ipython",
    "version": 3
   },
   "file_extension": ".py",
   "mimetype": "text/x-python",
   "name": "python",
   "nbconvert_exporter": "python",
   "pygments_lexer": "ipython3",
   "version": "3.10.4"
  },
  "vscode": {
   "interpreter": {
    "hash": "c7384dfe434eaeea415c8183a307e4619951e66db6429b520d8009fb3154a9cd"
   }
  }
 },
 "nbformat": 4,
 "nbformat_minor": 2
}
