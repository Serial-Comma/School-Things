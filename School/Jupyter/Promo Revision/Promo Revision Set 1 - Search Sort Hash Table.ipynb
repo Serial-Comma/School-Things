{
 "cells": [
  {
   "cell_type": "markdown",
   "metadata": {},
   "source": [
    "# Promo Revision Set 1\n",
    "\n",
    "Topics covered:\n",
    "- File processing\n",
    "- Searching and Sorting\n",
    "- Hash Table\n",
    "- Validation\n",
    "\n",
    "Estimated time to complete: 3 hours\n",
    "\n",
    "## Task 1\n",
    "*[20/YIJC/JC2 Block Exam 2/P2/Q1]*\n",
    "\n",
    "The file `MRT.TXT` contains the names of 116 MRT stations in Singapore.\n",
    "The task is to:\n",
    "- read the names from the file\n",
    "- store it in a suitable data structure\n",
    "- sort the names and \n",
    "- perform a binary search operation.\n"
   ]
  },
  {
   "cell_type": "markdown",
   "metadata": {},
   "source": [
    "### Task 1.1\n",
    "Write program code to:\n",
    "- read the names from the file and store them in a suitable data structure\n",
    "- sort the names into ascending order using **quick sort**\n",
    "- write the sorted names in a new `SORTED_MRT.TXT` file where the next name is on new line     [14]"
   ]
  },
  {
   "cell_type": "code",
   "execution_count": 28,
   "metadata": {},
   "outputs": [],
   "source": [
    "#Task 1.1\n",
    "with open('MRT.txt', 'r') as f:\n",
    "    lst = []\n",
    "    for record in f:\n",
    "        lst.append(record.strip())\n",
    "    \n",
    "def quick_sort(list):\n",
    "    # print(list)\n",
    "    if len(list) <= 1:\n",
    "\n",
    "        return list\n",
    "    left = []\n",
    "    right= []\n",
    "    middle = []\n",
    "    pivot= len(list)//2\n",
    "    for i in range(len(list)):\n",
    "        if list[i] < list[pivot]:\n",
    "            # print(\"less\" , list[i],list[pivot])\n",
    "            left.append(list[i])\n",
    "        elif list[i] > list[pivot]:\n",
    "            # print(\"more\" , list[i],list[pivot])\n",
    "            right.append(list[i])\n",
    "        else:\n",
    "            # print(\"equal\" , list[i],list[pivot])\n",
    "            middle.append(list[i])\n",
    "    # print('left',left)\n",
    "    # print('right',right)\n",
    "    return quick_sort(left) + middle + quick_sort(right)\n",
    "\n",
    "with open('SORTED_MRT','w') as f:\n",
    "    sorted_lst = quick_sort(lst)\n",
    "    for i in sorted_lst:\n",
    "        f.write(i+'\\n')\n",
    "        \n",
    "\n"
   ]
  },
  {
   "cell_type": "code",
   "execution_count": 29,
   "metadata": {},
   "outputs": [
    {
     "name": "stdout",
     "output_type": "stream",
     "text": [
      "Admiralty\n",
      "Aljunied\n",
      "Ang Mo Kio\n",
      "Bartley\n",
      "Bayfront\n",
      "Bayshore\n",
      "Beauty World\n",
      "Bedok\n",
      "Bedok North\n",
      "Bedok Reservoir\n",
      "Bedok South\n",
      "Bencoolen\n",
      "Bishan\n",
      "Boon Keng\n",
      "Boon Lay\n",
      "Botanic Gardens\n",
      "Braddell\n",
      "Bras Basah\n",
      "Bright Hill\n",
      "Buangkok\n",
      "Bugis\n",
      "Bukit Batok\n",
      "Bukit Gombak\n",
      "Bukit Panjang\n",
      "Buona Vista\n",
      "Caldecott\n",
      "Canberra\n",
      "Cantonment\n",
      "Cashew\n",
      "Changi Airport\n",
      "Chinatown\n",
      "Chinese Garden\n",
      "Choa Chu Kang\n",
      "City Hall\n",
      "Clarke Quay\n",
      "Clementi\n",
      "Commonwealth\n",
      "Dakota\n",
      "Dhoby Ghaut\n",
      "Dover\n",
      "Downtown\n",
      "Esplanade\n",
      "Eunos\n",
      "Expo\n",
      "Farrer Road\n",
      "Fort Canning\n",
      "HarbourFront\n",
      "Havelock\n",
      "Hillview\n",
      "Holland Village\n",
      "Hougang\n",
      "Hume\n",
      "Joo Koon\n",
      "Jurong East\n",
      "Kaki Bukit\n",
      "Kallang\n",
      "Kembangan\n",
      "Kent Ridge\n",
      "Keppel\n",
      "Khatib\n",
      "King Albert Park\n",
      "Kovan\n",
      "Kranji\n",
      "Labrador Park\n",
      "Lakeside\n",
      "Lavender\n",
      "Lentor\n",
      "Little India\n",
      "Lorong Chuan\n",
      "MacPherson\n",
      "Marina Bay\n",
      "Marine Terrace\n",
      "Marsiling\n",
      "Marymount\n",
      "Mayflower\n",
      "Mountbatten\n",
      "Newton\n",
      "Novena\n",
      "Orchard\n",
      "Outram Park\n",
      "Pasir Ris\n",
      "Paya Lebar\n",
      "Pioneer\n",
      "Potong Pasir\n",
      "Promenade\n",
      "Punggol\n",
      "Queenstown\n",
      "Raffles Place\n",
      "Redhill\n",
      "Rochor\n",
      "Sembawang\n",
      "Sengkang\n",
      "Serangoon\n",
      "Siglap\n",
      "Simei\n",
      "Sixth Avenue\n",
      "Somerset\n",
      "Stadium\n",
      "Stevens\n",
      "Sungei Bedok\n",
      "Tai Seng\n",
      "Tai Seng\n",
      "Tampines\n",
      "Tan Kah Kee\n",
      "Tanah Merah\n",
      "Tanjong Pagar\n",
      "Teck Ghee\n",
      "Telok Ayer\n",
      "Telok Blangah\n",
      "Tiong Bahru\n",
      "Toa Payoh\n",
      "Upper Thomson\n",
      "Woodlands\n",
      "Woodleigh\n",
      "Yio Chu Kang\n",
      "Yishun\n"
     ]
    }
   ],
   "source": [
    "!cat SORTED_MRT"
   ]
  },
  {
   "cell_type": "markdown",
   "metadata": {},
   "source": [
    "### Task 1.2\n",
    "Write program code to:\n",
    "- read the names from the `SORTED_MRT.TXT` file and store them in a suitable data structure\n",
    "- display the names\n",
    "- search for a name using **binary search** and return `True` if the name is in the file, and `False` otherwise   [9]"
   ]
  },
  {
   "cell_type": "code",
   "execution_count": null,
   "metadata": {},
   "outputs": [],
   "source": []
  },
  {
   "cell_type": "markdown",
   "metadata": {},
   "source": [
    "### Task 1.3\n",
    "Design test data for your program written in **Task 1.2**, provide evidence of testing that includes:\n",
    "- search for a name that is contained in the file\n",
    "- search for a name that is not contained in the file  [2]"
   ]
  },
  {
   "cell_type": "code",
   "execution_count": null,
   "metadata": {},
   "outputs": [],
   "source": []
  },
  {
   "cell_type": "markdown",
   "metadata": {},
   "source": [
    "## Task 2\n",
    "*[20/NYJC/Prelim/P2/Q1 (modified)]*\n",
    "\n",
    "The task is to implement a hash table to retrieve data about waste disposal in Singapore.\n",
    "The file `waste.csv` contains the following fields in each line:\n",
    "```\n",
    "    Year – \"YYYY\"\n",
    "    Waste Disposed Of – \"Numeric\" (Million Tons)\n",
    "    Waste Recycled – \"Numeric\" (Million Tons)\n",
    "```\n",
    "\n",
    "The first line of the file contains the headings."
   ]
  },
  {
   "cell_type": "markdown",
   "metadata": {},
   "source": [
    "### Task 2.1 \n",
    "\n",
    "Write a program to:\n",
    "- read data from `waste.csv` into a hash table of size 20\n",
    "- create a function `GetKeyAddress(Year)` to generate the hash address\n",
    "- insert the data into the correct location in the hash table\n",
    "- take care of any potential collisions using any suitable methods\n",
    "- display the contents of the hash table showing the data from the first slot to the last slot. [14]"
   ]
  },
  {
   "cell_type": "code",
   "execution_count": null,
   "metadata": {},
   "outputs": [],
   "source": []
  },
  {
   "cell_type": "markdown",
   "metadata": {},
   "source": [
    "### Task 2.2\n",
    "Create a menu with the following options:\n",
    "```\n",
    "    1. Get Waste Disposed and Recycled by year\n",
    "    2. Display year(s) where Recycled waste > Waste disposed\n",
    "    3. Return Average waste disposed between two years\n",
    "    4. -1 to Exit\n",
    "```\n",
    "- implement the functions for each menu choice.\n",
    "- option 1 and 3 requires asking users to input in the year(s).\n",
    "- validate the user input.\n",
    "- test option 1 with the year 2007 and show the output.\n",
    "- test option 3 with the range 2002 to 2008 and show the output.\n",
    "- show the output for option 2  [10]\n"
   ]
  },
  {
   "cell_type": "code",
   "execution_count": null,
   "metadata": {},
   "outputs": [],
   "source": []
  },
  {
   "cell_type": "markdown",
   "metadata": {},
   "source": [
    "## Task 3\n",
    "*[18/YJC/JC1 Promotional Examination/P1/Q7 (modified)]*\n",
    "\n",
    "A binary search is a technique to search for an item in an ordered dataset.\n",
    "Study the identifier table.\n",
    "\n",
    "| **Variable** | **Data type** | **Description** |\n",
    "|:-|:-|:-|\n",
    "| `ThisArray` | `ARRAY OF STRING` | Array containing the dataset |\n",
    "| `FindItem` | `STRING` | Item to be found |\n",
    "| `Low` | `INTEGER` | Lowest index of the considered list |\n",
    "| `High` | `INTEGER` | Highest index of the considered list |\n",
    "| `Middle` | `INTEGER` | The array index for the middle position of the current list considered |"
   ]
  },
  {
   "cell_type": "markdown",
   "metadata": {},
   "source": [
    "### Task 3.1\n",
    "\n",
    "Write program code:\n",
    "- for a **recursive binary search** function using the variables listed in the identifier table. [4]"
   ]
  },
  {
   "cell_type": "code",
   "execution_count": null,
   "metadata": {},
   "outputs": [],
   "source": []
  },
  {
   "cell_type": "markdown",
   "metadata": {},
   "source": [
    "### Task 3.2\n",
    "\n",
    "Write a program code `find_animal(seq,item)` to:\n",
    "- take in a sequence and an animal name as inputs\n",
    "- use the `binary_search` function in **Task 3.1** to search whether the animal is in the sequence\n",
    "- return `'Not found'` if animal name is not in sequence, otherwise, return the index position of the animal [2]\n",
    "\n",
    "\n",
    "\n",
    "Test your program code with three test sequences as the input. Use `'ant'`, `'seal'` and `'dinosaur'` as items to be searched within the first, second and third test sequence respectively. [3]"
   ]
  },
  {
   "cell_type": "code",
   "execution_count": null,
   "metadata": {},
   "outputs": [],
   "source": []
  },
  {
   "cell_type": "markdown",
   "metadata": {},
   "source": [
    "### Task 3.3\n",
    "\n",
    "Write a program code `bubble_sort(seq)` to:\n",
    "- take in a integer sequence\n",
    "- sort the items using the **bubble sort** algorithm [4]"
   ]
  },
  {
   "cell_type": "code",
   "execution_count": null,
   "metadata": {},
   "outputs": [],
   "source": []
  },
  {
   "cell_type": "markdown",
   "metadata": {},
   "source": [
    "### Task 3.4\n",
    "\n",
    "Write an additional code such that the bubble sort program will count and display the number of comparisons made when executing the sorting process. [2]\n",
    "\n",
    "Test your code using a sequence of 20 randomly generated integers. [2]"
   ]
  },
  {
   "cell_type": "code",
   "execution_count": null,
   "metadata": {},
   "outputs": [],
   "source": []
  },
  {
   "cell_type": "markdown",
   "metadata": {},
   "source": [
    "## Task 4\n",
    "\n",
    "The data file `COUNTRIES.txt` contains a list of country names."
   ]
  },
  {
   "cell_type": "markdown",
   "metadata": {},
   "source": [
    "### Task 4.1\n",
    "\n",
    "Write program code:\n",
    "- store country names in `COUNTRIES.txt` into a suitable data structure\n",
    "- sort the country names in **reverse** alphabetical order using merge sort\n",
    "- output the sorted sequence as a file `REVERSE_COUNTRIES.txt` [8]"
   ]
  },
  {
   "cell_type": "code",
   "execution_count": null,
   "metadata": {},
   "outputs": [],
   "source": []
  },
  {
   "cell_type": "markdown",
   "metadata": {},
   "source": [
    "### Task 4.2\n",
    "\n",
    "Write program code to:\n",
    "- store country names in `REVERSE_COUNTRIES.txt` into a suitable data structure that will allow you to output the country names in ascending alphabetical order without re-sorting the sequence.\n",
    "- output the sequence in ascending alphabetical order [8]"
   ]
  },
  {
   "cell_type": "code",
   "execution_count": null,
   "metadata": {},
   "outputs": [],
   "source": []
  },
  {
   "cell_type": "markdown",
   "metadata": {},
   "source": [
    "### Task 4.3\n",
    "\n",
    "Write program code to:\n",
    "- sort the country names in `COUNTRIES.txt` in ascending alphabetical order using partition-exchange sort\n",
    "- count the total number of total of comparisons made in completing the partition-exchange sort process.  [11]"
   ]
  },
  {
   "cell_type": "code",
   "execution_count": null,
   "metadata": {},
   "outputs": [],
   "source": []
  },
  {
   "cell_type": "markdown",
   "metadata": {},
   "source": [
    "### Task 4.4\n",
    "\n",
    "Write program code to:\n",
    "- implement a serial search process to locate the position of Singapore in `COUNTRIES.txt`\n",
    "- output the index position of Singapore if she is found\n",
    "- otherwise, output the string `'Not found'` if she is not found [4]"
   ]
  },
  {
   "cell_type": "code",
   "execution_count": null,
   "metadata": {},
   "outputs": [],
   "source": []
  }
 ],
 "metadata": {
  "kernelspec": {
   "display_name": "Python 3.10.7 64-bit",
   "language": "python",
   "name": "python3"
  },
  "language_info": {
   "codemirror_mode": {
    "name": "ipython",
    "version": 3
   },
   "file_extension": ".py",
   "mimetype": "text/x-python",
   "name": "python",
   "nbconvert_exporter": "python",
   "pygments_lexer": "ipython3",
   "version": "3.10.7"
  },
  "vscode": {
   "interpreter": {
    "hash": "e7370f93d1d0cde622a1f8e1c04877d8463912d04d973331ad4851f04de6915a"
   }
  }
 },
 "nbformat": 4,
 "nbformat_minor": 2
}
