{
 "cells": [
  {
   "cell_type": "markdown",
   "metadata": {},
   "source": [
    "# Here's the problem"
   ]
  },
  {
   "cell_type": "code",
   "execution_count": 12,
   "metadata": {},
   "outputs": [
    {
     "name": "stdout",
     "output_type": "stream",
     "text": [
      "[2, 4, 6, 7, 8, 9, 10]\n"
     ]
    }
   ],
   "source": [
    "list1 = [1,2,3,4,5,6,7,8,9,10]\n",
    "for i in list1:\n",
    "    if (i>=7) == False:\n",
    "        list1.remove(i)\n",
    "        continue\n",
    "print(list1)"
   ]
  },
  {
   "cell_type": "markdown",
   "metadata": {},
   "source": [
    "What you're doing is that you are iterating through the list deleting items from it **at the same time**.\n",
    "\n",
    "If you delete an item at index 0, all the remainding items in index 1,2,3,4 till 9 move down by one. The problem comes is that *i* \\*didnt\\* move down by one and thus moves on to the next element in the old index, basically skipping a number every time something is deleted. See the code below for more details.\n",
    "\n",
    "#### TL;DR: When you remove stuff from a list while iterating through it, bad things happen."
   ]
  },
  {
   "cell_type": "code",
   "execution_count": 13,
   "metadata": {},
   "outputs": [
    {
     "name": "stdout",
     "output_type": "stream",
     "text": [
      "Remaining items: [1, 2, 3, 4, 5, 6, 7, 8, 9, 10]\n",
      "i is now 1\n",
      "Remaining items: [2, 3, 4, 5, 6, 7, 8, 9, 10]\n",
      "i is now 3\n",
      "Remaining items: [2, 4, 5, 6, 7, 8, 9, 10]\n",
      "i is now 5\n",
      "[2, 4, 6, 7, 8, 9, 10]\n"
     ]
    }
   ],
   "source": [
    "list1 = [1,2,3,4,5,6,7,8,9,10]\n",
    "for i in list1:\n",
    "    if (i>=7) == False:\n",
    "        print('Remaining items:', list1)\n",
    "        print(\"i is now\", i)\n",
    "        list1.remove(i)\n",
    "        continue\n",
    "print(list1)"
   ]
  },
  {
   "cell_type": "markdown",
   "metadata": {},
   "source": [
    "See how it skipped 2,4 and 6 which is before 7? Yeah, that's what's causing your problem. Here are some solutions."
   ]
  },
  {
   "cell_type": "markdown",
   "metadata": {},
   "source": [
    "### Solution 1: Storing to-be removed items in another list then deleting the list from the list and then outputting that list"
   ]
  },
  {
   "cell_type": "code",
   "execution_count": 15,
   "metadata": {},
   "outputs": [
    {
     "name": "stdout",
     "output_type": "stream",
     "text": [
      "[7, 8, 9, 10]\n"
     ]
    }
   ],
   "source": [
    "list1 = [1,2,3,4,5,6,7,8,9,10]\n",
    "list2 = []\n",
    "list3 = []\n",
    "for i in list1:\n",
    "    if (i>=7) == False:\n",
    "        list2.append(i)\n",
    "list3 = [x for x in list1 if x not in list2] #Output all things in list1 that are not in list2\n",
    "print(list3)"
   ]
  },
  {
   "cell_type": "markdown",
   "metadata": {},
   "source": [
    "### Solution 2: Changing the condition of the list"
   ]
  },
  {
   "cell_type": "code",
   "execution_count": 36,
   "metadata": {},
   "outputs": [
    {
     "name": "stdout",
     "output_type": "stream",
     "text": [
      "[7, 8, 9, 10]\n"
     ]
    }
   ],
   "source": [
    "list1 = [1,2,3,4,5,6,7,8,9,10]\n",
    "list2 = []\n",
    "for i in list1:\n",
    "    if i>=7:\n",
    "        list2.append(i)\n",
    "print(list2)"
   ]
  },
  {
   "cell_type": "markdown",
   "metadata": {},
   "source": [
    "some extra:\n",
    "\n",
    "##### protip 1: Dont make your conditions so confusing\n",
    "Change your `if (i>=7) == False` to `if not i>=7` or `if i<=7` as these all achieve the same effect\n",
    "\n",
    "##### protip 2: When iterating through a list use indexes instead of values\n",
    "It makes things less confusing when you use indexes when iterating through a list.\n",
    "so change your\n",
    "```\n",
    "for i in list1:\n",
    "    if i>7: \n",
    "        list2.append(i)\n",
    "```\n",
    "to\n",
    "```\n",
    "for i in range(len(list1)):\n",
    "    if list1[i] >7:\n",
    "        list2.append(list1[i])\n",
    "```\n",
    "This is because the first code **cannot** be used to find the index of the item in the list _(unless an extra variable is introduced to track it but that makes it more confusing)_, while for the second one `i` is the index and the item can be obtained by simply using `list1[i]`"
   ]
  },
  {
   "cell_type": "code",
   "execution_count": 35,
   "metadata": {},
   "outputs": [
    {
     "name": "stdout",
     "output_type": "stream",
     "text": [
      "First code\n",
      "0 一\n",
      "1 二\n",
      "2 三\n",
      "3 四\n",
      "4 五\n",
      "Second code\n",
      "0 一\n",
      "1 二\n",
      "2 三\n",
      "3 四\n",
      "4 五\n"
     ]
    }
   ],
   "source": [
    "wordlist = [\"一\",\"二\",\"三\",\"四\",\"五\",]\n",
    "#First code\n",
    "print(\"First code\")\n",
    "for i in range(len(wordlist)):\n",
    "    print(i, wordlist[i]) #See how i can easily access both the index and item\n",
    "#Second code\n",
    "print(\"Second code\")\n",
    "index = 0\n",
    "for i in wordlist:\n",
    "    print(index, i) #now i have to introduce some stupid variable to keep track of it to achieve the same effect\n",
    "    index += 1"
   ]
  },
  {
   "cell_type": "markdown",
   "metadata": {},
   "source": [
    "also you dont need to put a continue at the end it does nothing lmao"
   ]
  }
 ],
 "metadata": {
  "kernelspec": {
   "display_name": "Python 3.10.4 64-bit",
   "language": "python",
   "name": "python3"
  },
  "language_info": {
   "codemirror_mode": {
    "name": "ipython",
    "version": 3
   },
   "file_extension": ".py",
   "mimetype": "text/x-python",
   "name": "python",
   "nbconvert_exporter": "python",
   "pygments_lexer": "ipython3",
   "version": "3.10.4"
  },
  "orig_nbformat": 4,
  "vscode": {
   "interpreter": {
    "hash": "c7384dfe434eaeea415c8183a307e4619951e66db6429b520d8009fb3154a9cd"
   }
  }
 },
 "nbformat": 4,
 "nbformat_minor": 2
}
