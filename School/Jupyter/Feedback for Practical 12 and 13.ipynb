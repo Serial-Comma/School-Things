{
 "cells": [
  {
   "cell_type": "markdown",
   "metadata": {},
   "source": [
    "# Feedback on Practical 12 and 13"
   ]
  },
  {
   "cell_type": "markdown",
   "metadata": {},
   "source": [
    "## Practical 12 - Dictionaries"
   ]
  },
  {
   "cell_type": "markdown",
   "metadata": {},
   "source": [
    "### Question 1\n",
    "\n",
    "Determine whether the values `1` and `4` exists in the dictionary `nums = {'one': 1, 'two': 2, 'three': 3}` "
   ]
  },
  {
   "cell_type": "markdown",
   "metadata": {},
   "source": [
    "**Feedback for Example 12.1**\n",
    "- the code 1 in nums checks whether 1 is one of the keys in the dictionary, `nums` only\n",
    "- how to check the whether 1 is one of the values instead?"
   ]
  },
  {
   "cell_type": "code",
   "execution_count": null,
   "metadata": {},
   "outputs": [],
   "source": [
    "# Example 12.1\n",
    "nums = {'one': 1, 'two': 2, 'three': 3}\n",
    "\n",
    "print(1 in nums)\n",
    "print(4 in nums)"
   ]
  },
  {
   "cell_type": "markdown",
   "metadata": {},
   "source": [
    "### Question 2\n",
    "\n",
    "Determine whether the key-value pairs `'one': 1` and `'four': 4` exists in the dictionary `nums = {'one': 1, 'two': 2, 'three': 3}` "
   ]
  },
  {
   "cell_type": "markdown",
   "metadata": {},
   "source": [
    "**Feedback for Example 12.2**\n",
    "- the code only checks whether values 1 and 4 exist, it did not check whether the keys are 'one' and 'four' respectively."
   ]
  },
  {
   "cell_type": "code",
   "execution_count": null,
   "metadata": {},
   "outputs": [],
   "source": [
    "# Example 12.2\n",
    "# Enter your code here.\n",
    "\n",
    "nums = {'one': 1, 'two': 2, 'three': 3}\n",
    "\n",
    "for k in nums:\n",
    "    if nums.get(k)==1:\n",
    "        print(\"'one': 1 exists\")\n",
    "        \n",
    "    if nums.get(k) ==4: \n",
    "        print(\"'four':4 exists\")\n"
   ]
  },
  {
   "cell_type": "markdown",
   "metadata": {},
   "source": [
    "### Question 3\n",
    "\n",
    "Task 3.1: Simulate 50 random dice throw and store all the results in a list.\n",
    "\n",
    "Task 3.2: Go through the list and create a dictionary to store the count of each number (1 - 6) obtained from the throw. The key of the dictionary should be 1 to 6, while the corresponding values should be the count of the key."
   ]
  },
  {
   "cell_type": "markdown",
   "metadata": {},
   "source": [
    "**Feedback for Example 12.3**\n",
    "- the code has the correct dictionary in the end\n",
    "- but should follow what the subtasks are asking for as well."
   ]
  },
  {
   "cell_type": "code",
   "execution_count": null,
   "metadata": {},
   "outputs": [],
   "source": [
    "# Example 12.3\n",
    "# Enter your code here.\n",
    "import random\n",
    "counter1 = 0\n",
    "counter2 = 0\n",
    "counter3 = 0\n",
    "counter4 = 0\n",
    "counter5 = 0\n",
    "counter6 = 0\n",
    "for i in range(1,51):\n",
    "    a = random.randint(1,6)\n",
    "    if a == 1:\n",
    "        counter1 += 1\n",
    "    elif a == 2:\n",
    "        counter2 += 1\n",
    "    elif a == 3:\n",
    "        counter3 += 1\n",
    "    elif a == 4:\n",
    "        counter4 += 1\n",
    "    elif a == 5:\n",
    "        counter5 += 1\n",
    "    else:\n",
    "        counter6 += 1\n",
    "    \n",
    "results = {1: counter1, 2: counter2, 3: counter3, 4: counter4, 5: counter5, 6: counter6}\n",
    "print(results)\n",
    "        \n"
   ]
  },
  {
   "cell_type": "markdown",
   "metadata": {},
   "source": [
    "## Practical 13 - Functions I"
   ]
  },
  {
   "cell_type": "markdown",
   "metadata": {},
   "source": [
    "### Question 1\n",
    "\n",
    "Write a function that takes the lengths of two shorter sides of a right-angled triangle, and return the length of the hypotenuse.\n",
    "\n",
    "In your code, read the user's input for the lengths, use the function to compute the length of the hypotenuse, then display the result."
   ]
  },
  {
   "cell_type": "markdown",
   "metadata": {},
   "source": [
    "**Feedback for Example 13.1**\n",
    "- the function should have 2 parameters\n",
    "- the function is suppose to return the value of the hypotenuse, not print"
   ]
  },
  {
   "cell_type": "code",
   "execution_count": null,
   "metadata": {
    "scrolled": true
   },
   "outputs": [],
   "source": [
    "# Example 13.1\n",
    "# Enter your code here\n",
    "def  lengths():\n",
    "    a = int(input('Enter length of first side: '))\n",
    "    b = int(input('Enter length of second side: '))\n",
    "    hyp = (a**2 + b**2)**0.5\n",
    "    print(hyp)\n",
    "\n",
    "lengths()"
   ]
  },
  {
   "cell_type": "markdown",
   "metadata": {},
   "source": [
    "### Question 2\n",
    "\n",
    "At the start of the year, XYZ Junior College implemented a new Learning Management System (LMS) in preparation for school-wide blended learning. Each student is assigned a username that starts with the letter A, B or C. This is then followed by 8 digits. The username then terminates with an ending letter which can be X, Y or Z.\n",
    "\n",
    "Write a function named `valid_username` to determine whether the username input by a student or teacher is valid. The function should return `True` if the username is valid and `False` if otherwise.\n",
    "\n",
    "In your main program, use the function to check a few usernames that are valid and invalid.\n",
    "\n",
    "(You may reuse your code from Practical 10's tutorial)"
   ]
  },
  {
   "cell_type": "markdown",
   "metadata": {},
   "source": [
    "**Feedback of Example 13.2**\n",
    "- should not have any other characters (including whitespaces, comments etc) after line continuation symbol `\\`\n",
    "- should return Boolean values `True` and `False` rather than string literals `\"True\"` and `\"False\"`"
   ]
  },
  {
   "cell_type": "code",
   "execution_count": null,
   "metadata": {},
   "outputs": [],
   "source": [
    "# Example 13.2\n",
    "# Enter your code here\n",
    "def valid_username(a):## if you dont want the 'None' to appear, need to put something behind the 'return'. Otherwise it will \n",
    "    if (a.startswith('A') or a.startswith('B') or a.startswith('C')) \\ #return 'None' because the value after return \n",
    "    and (len(a) == 10) and (a.endswith('X') or a.endswith('Y') or a.endswith('Z')): #was a none value\n",
    "        a = a[1:9]\n",
    "        if a.isdigit():\n",
    "            result = \"True\"\n",
    "        else:\n",
    "            result = \"False\"\n",
    "    else: \n",
    "        result = \"False\"\n",
    "    return result"
   ]
  },
  {
   "cell_type": "code",
   "execution_count": null,
   "metadata": {
    "scrolled": true
   },
   "outputs": [],
   "source": [
    "print(valid_username('A88888888Z'))  # This should print True\n",
    "print(valid_username('K99009090Z'))  # This should print False\n",
    "\n",
    "# Test the function with more usernames here\n",
    "print(valid_username('A12345678Z'))\n"
   ]
  },
  {
   "cell_type": "markdown",
   "metadata": {},
   "source": [
    "### Question 3\n",
    "\n",
    "Write a function named `replace_word` that takes 3 parameters, `sentence`, `old_word` and `new_word`. The function will replace all the `old_word` in `sentence` with `new_word`, and return the modified sentence.\n",
    "\n",
    "For example, calling `replace_word('I love math.', 'math', 'computing')` will return `'I love computing.'`"
   ]
  },
  {
   "cell_type": "markdown",
   "metadata": {},
   "source": [
    "**Feedback for Example 13.3**\n",
    "- should follow the identifiers specified in the question"
   ]
  },
  {
   "cell_type": "code",
   "execution_count": null,
   "metadata": {},
   "outputs": [],
   "source": [
    "# Example 13.3\n",
    "# Enter your code here\n",
    "def replace_word(a,b,c):\n",
    "    sentence = a.replace(b,c)\n",
    "    return sentence\n"
   ]
  },
  {
   "cell_type": "code",
   "execution_count": null,
   "metadata": {
    "scrolled": true
   },
   "outputs": [],
   "source": [
    "print(replace_word('I love math.', 'math', 'computing'))"
   ]
  },
  {
   "cell_type": "code",
   "execution_count": null,
   "metadata": {},
   "outputs": [],
   "source": []
  }
 ],
 "metadata": {
  "kernelspec": {
   "display_name": "Python 3",
   "language": "python",
   "name": "python3"
  },
  "language_info": {
   "codemirror_mode": {
    "name": "ipython",
    "version": 3
   },
   "file_extension": ".py",
   "mimetype": "text/x-python",
   "name": "python",
   "nbconvert_exporter": "python",
   "pygments_lexer": "ipython3",
   "version": "3.6.4"
  }
 },
 "nbformat": 4,
 "nbformat_minor": 2
}
