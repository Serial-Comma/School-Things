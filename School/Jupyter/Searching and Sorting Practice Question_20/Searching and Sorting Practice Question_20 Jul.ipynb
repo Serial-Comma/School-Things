{
 "cells": [
  {
   "cell_type": "markdown",
   "metadata": {},
   "source": [
    "## 1. CSV Data\n",
    "\n",
    "The csv file `student_database.csv` contains list of students' data. Following are some samples.\n",
    "\n",
    "```csv\n",
    "StudID,LastName,FirstName\n",
    "605729443,Lilah,Arnold\n",
    "112147292,Alberto,Turner\n",
    "404336848,Santiago,Krause\n",
    "699024055,Edward,Duarte\n",
    "```"
   ]
  },
  {
   "cell_type": "markdown",
   "metadata": {},
   "source": [
    "### Load Data from File\n",
    "\n",
    "Write a function `load_students()`, which has a parameter `csv_path` pointing to the csv file. \n",
    "* It returns a nested list of students' data from the data in the csv file. "
   ]
  },
  {
   "cell_type": "code",
   "execution_count": 7,
   "metadata": {},
   "outputs": [],
   "source": [
    "\n",
    "import csv\n",
    "def load_students(csv_path):\n",
    "    students = []\n",
    "    with open(csv_path, \"r\") as csv_file:\n",
    "        csv_reader = csv.reader(csv_file)\n",
    "        next(csv_reader)\n",
    "        for row in csv_reader:\n",
    "            students.append(row)\n",
    "    return students\n"
   ]
  },
  {
   "cell_type": "markdown",
   "metadata": {},
   "source": [
    "#### Test"
   ]
  },
  {
   "cell_type": "code",
   "execution_count": 8,
   "metadata": {
    "scrolled": true
   },
   "outputs": [
    {
     "name": "stdout",
     "output_type": "stream",
     "text": [
      "200\n",
      "['605729443', 'Lilah', 'Arnold']\n"
     ]
    }
   ],
   "source": [
    "students = load_students('student_database.csv')\n",
    "print(len(students))\n",
    "print(students[0])"
   ]
  },
  {
   "cell_type": "markdown",
   "metadata": {},
   "source": [
    "## 2. Linear Search\n",
    "\n",
    "Implement a function `find_student_linear()`, which search for a student in a csv file. \n",
    "* The function takes 2 parameters: a list `students` which is list of student data, and a string `first_name`.\n",
    "* It returns the student data whose first name matches `first_name` parameter.\n",
    "* It returns `None` if no matching student is found."
   ]
  },
  {
   "cell_type": "code",
   "execution_count": 13,
   "metadata": {},
   "outputs": [],
   "source": [
    "\n",
    "def find_student_linear(students, first_name):\n",
    "    for student in students:\n",
    "        if student[2] == first_name:\n",
    "            return student\n",
    "    return None"
   ]
  },
  {
   "cell_type": "markdown",
   "metadata": {},
   "source": [
    "#### Test"
   ]
  },
  {
   "cell_type": "code",
   "execution_count": 14,
   "metadata": {},
   "outputs": [
    {
     "name": "stdout",
     "output_type": "stream",
     "text": [
      "['136113514', 'Misael', 'Ferrell']\n"
     ]
    }
   ],
   "source": [
    "s = find_student_linear(students, 'Ferrell')\n",
    "print(s)"
   ]
  },
  {
   "cell_type": "markdown",
   "metadata": {},
   "source": [
    "## 3. Bubble Sort\n",
    "\n",
    "Implement a sorting function `sort_students_bubble()` which sorts a list of students using bubble sort algorithm.\n",
    "* It takes in 2 parameters, `students` which is the list of unsorted students, and `field` which is the name of the field to be sorted.\n",
    "* It does NOT affect the original `students` list, i.e. it returns a sorted list of students."
   ]
  },
  {
   "cell_type": "code",
   "execution_count": 18,
   "metadata": {},
   "outputs": [],
   "source": [
    "\n",
    "\n",
    "def sort_students_bubble(students, field):\n",
    "    for i in range(len(students)):\n",
    "        for j in range(len(students)-1):\n",
    "            if students[j][field] > students[j+1][field]:\n",
    "                students[j], students[j+1] = students[j+1], students[j]\n",
    "    return students\n"
   ]
  },
  {
   "cell_type": "markdown",
   "metadata": {},
   "source": [
    "**Test**"
   ]
  },
  {
   "cell_type": "code",
   "execution_count": 19,
   "metadata": {
    "scrolled": true
   },
   "outputs": [
    {
     "name": "stdout",
     "output_type": "stream",
     "text": [
      "['950674859', 'Marley', 'Aguilar']\n",
      "['826701250', 'Kyleigh', 'Alexander']\n",
      "['581458351', 'Macy', 'Ali']\n",
      "['261113335', 'Savion', 'Anderson']\n",
      "['494519235', 'Daniella', 'Anderson']\n",
      "['644162725', 'Quincy', 'Andrews']\n",
      "['756830053', 'Desmond', 'Archer']\n",
      "['605729443', 'Lilah', 'Arnold']\n",
      "['483702884', 'Maximilian', 'Arnold']\n",
      "['265838821', 'Houston', 'Atkinson']\n"
     ]
    }
   ],
   "source": [
    "result = sort_students_bubble(students, 2)\n",
    "for i in result[0:10]:\n",
    "    print(i)"
   ]
  },
  {
   "cell_type": "markdown",
   "metadata": {},
   "source": [
    "## 4. Binary Search\n",
    "\n",
    "Implement a binary search function `find_student_binary()` which takes in a list of `students` and a parameter `first_name`. \n",
    "* It returns first `student instance whose first_name matches `first_name`."
   ]
  },
  {
   "cell_type": "code",
   "execution_count": 20,
   "metadata": {},
   "outputs": [],
   "source": [
    "def find_student_binary(students, first_name):\n",
    "    low = 0\n",
    "    high = len(students) - 1\n",
    "    while low <= high:\n",
    "        mid = (low + high) // 2\n",
    "        if students[mid][2] == first_name:\n",
    "            return students[mid]\n",
    "        elif students[mid][2] < first_name:\n",
    "            low = mid + 1\n",
    "        else:\n",
    "            high = mid - 1\n",
    "    return None\n"
   ]
  },
  {
   "cell_type": "markdown",
   "metadata": {},
   "source": [
    "#### Test"
   ]
  },
  {
   "cell_type": "code",
   "execution_count": 21,
   "metadata": {},
   "outputs": [
    {
     "name": "stdout",
     "output_type": "stream",
     "text": [
      "['635829987', 'Kaden', 'Giles']\n"
     ]
    }
   ],
   "source": [
    "sorted_students = result  # from section 3\n",
    "s = find_student_binary(result, 'Giles')\n",
    "print(s)"
   ]
  },
  {
   "cell_type": "code",
   "execution_count": null,
   "metadata": {},
   "outputs": [],
   "source": []
  }
 ],
 "metadata": {
  "kernelspec": {
   "display_name": "Python 3.10.5 64-bit",
   "language": "python",
   "name": "python3"
  },
  "language_info": {
   "codemirror_mode": {
    "name": "ipython",
    "version": 3
   },
   "file_extension": ".py",
   "mimetype": "text/x-python",
   "name": "python",
   "nbconvert_exporter": "python",
   "pygments_lexer": "ipython3",
   "version": "3.10.5"
  },
  "vscode": {
   "interpreter": {
    "hash": "e7370f93d1d0cde622a1f8e1c04877d8463912d04d973331ad4851f04de6915a"
   }
  }
 },
 "nbformat": 4,
 "nbformat_minor": 2
}
