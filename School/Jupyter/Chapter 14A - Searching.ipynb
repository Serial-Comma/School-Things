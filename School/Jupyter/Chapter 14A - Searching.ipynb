{
 "cells": [
  {
   "cell_type": "code",
   "execution_count": 20,
   "id": "57701a7b",
   "metadata": {},
   "outputs": [
    {
     "data": {
      "text/plain": [
       "[0, 3, 3, 3, 4, 5, 5, 5, 6, 6, 6, 7, 7, 7, 8, 8, 21, 32, 34, 67, 243534]"
      ]
     },
     "execution_count": 20,
     "metadata": {},
     "output_type": "execute_result"
    }
   ],
   "source": [
    "#Bubble Sort\n",
    "\n",
    "def bubble(lst):\n",
    "    for k in range(len(lst)):\n",
    "        if k == len(lst):\n",
    "            break\n",
    "        else:\n",
    "            for i in range(len(lst)-1):\n",
    "                if lst[i] >= lst[i+1]:\n",
    "                    lst[i], lst[i+1] = lst[i+1], lst[i]\n",
    "                if i == len(lst):\n",
    "                    break\n",
    "    return lst\n",
    "\n",
    "bubble([7,3,67,5,3,7,8,8,5,243534,34,6,6,4,32,5,7,0,3,21,6])"
   ]
  },
  {
   "cell_type": "code",
   "execution_count": 10,
   "id": "603758e0",
   "metadata": {},
   "outputs": [
    {
     "name": "stdout",
     "output_type": "stream",
     "text": [
      "[5, 2, 7, 3, 1, 6, 4]\n",
      "Picking up 2\n",
      "Element before is 5\n",
      "2 is less than 5, swapping 2 and 5\n",
      "[2, 5, 7, 3, 1, 6, 4]\n",
      "Picking up 7\n",
      "Element before is 5\n",
      "[2, 5, 7, 3, 1, 6, 4]\n",
      "Picking up 3\n",
      "Element before is 7\n",
      "3 is less than 7, swapping 3 and 7\n",
      "3 is less than 5, swapping 7 and 5\n",
      "[2, 3, 5, 7, 1, 6, 4]\n",
      "Picking up 1\n",
      "Element before is 7\n",
      "1 is less than 7, swapping 1 and 7\n",
      "1 is less than 5, swapping 7 and 5\n",
      "1 is less than 3, swapping 5 and 3\n",
      "1 is less than 2, swapping 3 and 2\n",
      "[1, 2, 3, 5, 7, 6, 4]\n",
      "Picking up 6\n",
      "Element before is 7\n",
      "6 is less than 7, swapping 6 and 7\n",
      "[1, 2, 3, 5, 6, 7, 4]\n",
      "Picking up 4\n",
      "Element before is 7\n",
      "4 is less than 7, swapping 4 and 7\n",
      "4 is less than 6, swapping 7 and 6\n",
      "4 is less than 5, swapping 6 and 5\n",
      "[1, 2, 3, 4, 5, 6, 7]\n"
     ]
    },
    {
     "data": {
      "text/plain": [
       "[1, 2, 3, 4, 5, 6, 7]"
      ]
     },
     "execution_count": 10,
     "metadata": {},
     "output_type": "execute_result"
    }
   ],
   "source": [
    "#Insertion sort\n",
    "\n",
    "def insertion(arr):\n",
    "        print(arr)\n",
    "        for i in range(1, len(arr)):\n",
    "                key = arr[i]\n",
    "                print(\"Picking up {}\".format(key))\n",
    "                # Move elements of arr[0..i-1], that are\n",
    "                # greater than key, to one position ahead\n",
    "                # of their current position\n",
    "                j = i-1\n",
    "                print(\"Element before is {}\".format(arr[j]))\n",
    "                if not j >=0 or not key < arr[j]\n",
    "                print(\"{}\")\n",
    "                while j >=0 and key < arr[j] :\n",
    "                        print(\"{} is less than {}, swapping {} and {}\".format(key,arr[j],arr[j+1],arr[j]))\n",
    "                        arr[j+1] = arr[j]\n",
    "                        j -= 1\n",
    "                arr[j+1] = key\n",
    "                print(arr)\n",
    "        return arr\n",
    "\n",
    "\n",
    "insertion([5,2,7,3,1,6,4])"
   ]
  },
  {
   "cell_type": "code",
   "execution_count": null,
   "id": "ef286e71",
   "metadata": {},
   "outputs": [],
   "source": []
  }
 ],
 "metadata": {
  "interpreter": {
   "hash": "e7370f93d1d0cde622a1f8e1c04877d8463912d04d973331ad4851f04de6915a"
  },
  "kernelspec": {
   "display_name": "Python 3.10.4 64-bit",
   "language": "python",
   "name": "python3"
  },
  "language_info": {
   "codemirror_mode": {
    "name": "ipython",
    "version": 3
   },
   "file_extension": ".py",
   "mimetype": "text/x-python",
   "name": "python",
   "nbconvert_exporter": "python",
   "pygments_lexer": "ipython3",
   "version": "3.10.4"
  }
 },
 "nbformat": 4,
 "nbformat_minor": 5
}
