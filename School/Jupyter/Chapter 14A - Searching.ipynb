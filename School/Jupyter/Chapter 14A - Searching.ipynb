{
 "cells": [
  {
   "cell_type": "code",
   "execution_count": 9,
   "id": "57701a7b",
   "metadata": {},
   "outputs": [
    {
     "data": {
      "text/plain": [
       "[0, 3, 3, 3, 4, 5, 5, 5, 6, 6, 6, 7, 7, 7, 8, 8, 21, 32, 34, 67, 243534]"
      ]
     },
     "execution_count": 9,
     "metadata": {},
     "output_type": "execute_result"
    }
   ],
   "source": [
    "#Bubble Sort\n",
    "\n",
    "def bubble(lst):\n",
    "    for k in range(len(lst)):\n",
    "        if k == len(lst):\n",
    "            break\n",
    "        else:\n",
    "            for i in range(len(lst)-1):\n",
    "                if lst[i] >= lst[i+1]:\n",
    "                    lst[i], lst[i+1] = lst[i+1], lst[i]\n",
    "                if i == len(lst):\n",
    "                    break\n",
    "    return lst\n",
    "\n",
    "bubble([7,3,67,5,3,7,8,8,5,243534,34,6,6,4,32,5,7,0,3,21,6])"
   ]
  },
  {
   "cell_type": "code",
   "execution_count": 45,
   "id": "603758e0",
   "metadata": {},
   "outputs": [
    {
     "data": {
      "text/plain": [
       "[5, 5, 5, 5, 5]"
      ]
     },
     "execution_count": 45,
     "metadata": {},
     "output_type": "execute_result"
    }
   ],
   "source": [
    "#Insertion sort\n",
    "\n",
    "def insertion(lst):\n",
    "    k = 0\n",
    "    for i in range(len(lst)):\n",
    "        k = lst[i]\n",
    "        for j in range(len(lst)):\n",
    "            if lst[j] > k:\n",
    "                \n",
    "\n",
    "    return lst\n",
    "\n",
    "insertion([5,4,3,2,1])"
   ]
  }
 ],
 "metadata": {
  "interpreter": {
   "hash": "e7370f93d1d0cde622a1f8e1c04877d8463912d04d973331ad4851f04de6915a"
  },
  "kernelspec": {
   "display_name": "Python 3.10.4 64-bit",
   "language": "python",
   "name": "python3"
  },
  "language_info": {
   "codemirror_mode": {
    "name": "ipython",
    "version": 3
   },
   "file_extension": ".py",
   "mimetype": "text/x-python",
   "name": "python",
   "nbconvert_exporter": "python",
   "pygments_lexer": "ipython3",
   "version": "3.10.4"
  }
 },
 "nbformat": 4,
 "nbformat_minor": 5
}
