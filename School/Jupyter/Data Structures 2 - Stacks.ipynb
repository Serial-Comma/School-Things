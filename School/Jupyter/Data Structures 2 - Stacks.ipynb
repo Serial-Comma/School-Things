{
 "cells": [
  {
   "cell_type": "markdown",
   "metadata": {},
   "source": [
    "# Exercise 2\n",
    "\n",
    "Complete the code below\n",
    "\n",
    "## Task 2.1\n",
    "\n",
    "Setup initial static array for implementing stack, and write the functions for stack operations:\n",
    "- `is_full()`\n",
    "- `is_empty()`\n",
    "- `push(data)`\n",
    "- `pop()`\n",
    "- `peek()`\n"
   ]
  },
  {
   "cell_type": "code",
   "execution_count": 46,
   "metadata": {},
   "outputs": [
    {
     "name": "stdout",
     "output_type": "stream",
     "text": [
      "[None, None, None, None, None]\n"
     ]
    }
   ],
   "source": [
    "MAX_SIZE = 5   # define the maximum size of the stack\n",
    "\n",
    "stack = [None] * MAX_SIZE  # simulate an array of size MAX_SIZE\n",
    "\n",
    "topPointer = -1\n",
    "basePointer = 0\n",
    "\n",
    "def is_full():\n",
    "    global topPointer\n",
    "    '''\n",
    "    function to check if stack is full\n",
    "    return True if stack is full, False if otherwise\n",
    "    '''\n",
    "    # replace the pass statement with your code\n",
    "    if topPointer == MAX_SIZE - 1:\n",
    "        return True\n",
    "\n",
    "def is_empty():\n",
    "    global topPointer\n",
    "    '''\n",
    "    function to check if stack is empty\n",
    "    return True if stack is empty, False if otherwise\n",
    "    '''\n",
    "    # replace the pass statement with your code\n",
    "    if topPointer == -1:\n",
    "        return True\n",
    "    \n",
    "def push(data):\n",
    "    global topPointer\n",
    "    '''\n",
    "    push data into stack\n",
    "    return True if data is pushed successfully, False otherwise \n",
    "    '''\n",
    "    # replace the pass statement with your code\n",
    "    if is_full() == True:\n",
    "        return False\n",
    "    else:\n",
    "        topPointer += 1\n",
    "        stack[topPointer] = data\n",
    "        return True\n",
    "\n",
    "\n",
    "def pop():\n",
    "    global topPointer\n",
    "    '''\n",
    "    pop item from stack\n",
    "    return the popped item if stack is not empty, None otherwise \n",
    "    '''\n",
    "    # replace the pass statement with your code\n",
    "    if is_empty() == True:\n",
    "        return False\n",
    "    else:\n",
    "        topPointer -= 1\n",
    "        return stack[topPointer + 1]\n",
    "\n",
    "def peek():\n",
    "    global topPointer\n",
    "    '''\n",
    "    return top item from stack, None if stack is empty \n",
    "    '''\n",
    "    # replace the pass statement with your code\n",
    "    if is_empty() == True:\n",
    "        return False\n",
    "    else:\n",
    "        return stack[topPointer]\n",
    "\n",
    "def show_stack():\n",
    "    global topPointer\n",
    "    global basePointer\n",
    "    '''\n",
    "    show all items in stack\n",
    "    '''\n",
    "    # replace the pass statement with your code\n",
    "    return(stack[basePointer:topPointer + 1])\n",
    "\n",
    "\n",
    "print(stack)"
   ]
  },
  {
   "cell_type": "markdown",
   "metadata": {},
   "source": [
    "## Task 2.2\n",
    "Store the following array of elements in the stack, using the appropriate stack operation\n",
    "```python\n",
    "namelist = [\"BRAYDEN\", \"AIDAN\", \"PHONG\", \"PARAM\", \"PETER\"]\n",
    "```"
   ]
  },
  {
   "cell_type": "code",
   "execution_count": 72,
   "metadata": {},
   "outputs": [
    {
     "name": "stdout",
     "output_type": "stream",
     "text": [
      "['BRAYDEN']\n",
      "['BRAYDEN', 'AIDAN']\n",
      "['BRAYDEN', 'AIDAN', 'PHONG']\n",
      "['BRAYDEN', 'AIDAN', 'PHONG', 'PARAM']\n",
      "['BRAYDEN', 'AIDAN', 'PHONG', 'PARAM', 'PETER']\n"
     ]
    }
   ],
   "source": [
    "namelist = [\"BRAYDEN\", \"AIDAN\", \"PHONG\", \"PARAM\", \"PETER\"]\n",
    "for i in range(len(namelist)):\n",
    "    push(namelist[i])\n",
    "    print(show_stack())"
   ]
  },
  {
   "cell_type": "markdown",
   "metadata": {},
   "source": [
    "## Task 2.3\n",
    "\n",
    "Remove the top 2 elements from your stack in Task 2.2, using the appropriate stack operation"
   ]
  },
  {
   "cell_type": "code",
   "execution_count": 73,
   "metadata": {},
   "outputs": [
    {
     "name": "stdout",
     "output_type": "stream",
     "text": [
      "PETER\n",
      "['BRAYDEN', 'AIDAN', 'PHONG', 'PARAM']\n",
      "PARAM\n",
      "['BRAYDEN', 'AIDAN', 'PHONG']\n"
     ]
    }
   ],
   "source": [
    "for i in range(2):\n",
    "    print(pop())\n",
    "    print(show_stack())"
   ]
  },
  {
   "cell_type": "markdown",
   "metadata": {},
   "source": [
    "## Task 2.4\n",
    "\n",
    "Check the topmost element of the stack currently, using the appropriate stack operation"
   ]
  },
  {
   "cell_type": "code",
   "execution_count": 74,
   "metadata": {},
   "outputs": [
    {
     "name": "stdout",
     "output_type": "stream",
     "text": [
      "PHONG\n"
     ]
    }
   ],
   "source": [
    "print(peek())"
   ]
  },
  {
   "cell_type": "markdown",
   "metadata": {},
   "source": [
    "## Extension to Task 2\n",
    "\n",
    "Use OOP to implement Stack as a Class\n",
    "\n",
    "The attributes are:\n",
    "- `array` (to store the item)\n",
    "- `max_size`\n",
    "- `top_pointer`\n",
    "- `base_pointer`\n",
    "\n",
    "The methods are\n",
    "- `is_full()`\n",
    "- `is_empty()`\n",
    "- `push(data)`\n",
    "- `pop()`\n",
    "- `peek()`\n"
   ]
  },
  {
   "cell_type": "code",
   "execution_count": 79,
   "metadata": {},
   "outputs": [
    {
     "name": "stdout",
     "output_type": "stream",
     "text": [
      "['BRAYDEN']\n",
      "['BRAYDEN', 'AIDAN']\n",
      "['BRAYDEN', 'AIDAN', 'PHONG']\n",
      "['BRAYDEN', 'AIDAN', 'PHONG', 'PARAM']\n",
      "['BRAYDEN', 'AIDAN', 'PHONG', 'PARAM', 'PETER']\n"
     ]
    }
   ],
   "source": [
    "class oopStack:\n",
    "    def __init__(self):\n",
    "        self.stack = []\n",
    "        self.top_pointer = -1\n",
    "        self.base_pointer = 0\n",
    "        self.max_size = MAX_SIZE\n",
    "\n",
    "    def is_empty(self):\n",
    "        if self.top_pointer == -1:\n",
    "            return True\n",
    "        else:\n",
    "            return False\n",
    "\n",
    "    def is_full(self):\n",
    "        if self.top_pointer == MAX_SIZE - 1:\n",
    "            return True\n",
    "        else:\n",
    "            return False\n",
    "\n",
    "    def push(self, data):\n",
    "        if self.is_full() == True:\n",
    "            return False\n",
    "        else:\n",
    "            self.top_pointer += 1\n",
    "            self.stack.append(data)\n",
    "            return True\n",
    "\n",
    "    def pop(self):\n",
    "        if self.is_empty() == True:\n",
    "            return False\n",
    "        else:\n",
    "            self.top_pointer -= 1\n",
    "            return self.stack.pop()\n",
    "\n",
    "    def peek(self):\n",
    "        if self.is_empty() == True:\n",
    "            return False\n",
    "        else:\n",
    "            return self.stack[self.top_pointer]\n",
    "\n",
    "    def show_stack(self):\n",
    "        return self.stack[self.base_pointer:self.top_pointer + 1]\n",
    "\n",
    "\n",
    "stack = oopStack()\n",
    "namelist = [\"BRAYDEN\", \"AIDAN\", \"PHONG\", \"PARAM\", \"PETER\"]\n",
    "for i in range(len(namelist)):\n",
    "    stack.push(namelist[i])\n",
    "    print(stack.show_stack())\n"
   ]
  },
  {
   "cell_type": "markdown",
   "metadata": {},
   "source": [
    "# Exercise 3\n",
    "\n",
    "A list consists of five names: `[\"SAMUEL\", \"SHERYL\", \"SURAJ\", \"LI XUAN\", \"WEIZHI\"]`.\n",
    "\n",
    "Use an empty stack to reverse the order of the elements in the list.\n"
   ]
  },
  {
   "cell_type": "code",
   "execution_count": null,
   "metadata": {},
   "outputs": [],
   "source": [
    "namelist = [\"SAMUEL\", \"SHERYL\", \"SURAJ\", \"LI XUAN\", \"WEIZHI\"]\n",
    "\n",
    "# Enter your code here\n",
    "\n"
   ]
  },
  {
   "cell_type": "markdown",
   "metadata": {},
   "source": [
    "# Assignment"
   ]
  },
  {
   "cell_type": "markdown",
   "metadata": {},
   "source": [
    "Write a program that reads in a sequence of characters, and determines whether its parentheses `()`, brackets `[]`, and curly braces `{}` are \"balanced.\"  \n",
    "\n",
    "*Hint 1*: Determine when is it considered not \"balanced\"\n",
    "\n",
    "*Hint 2*: for left delimiters `( { [ `, push onto stack; for right delimiters `] } ]`, pop from stack and check whether popped element matches right delimiter.\n",
    "\n",
    "Design a few test cases to test your program."
   ]
  },
  {
   "cell_type": "code",
   "execution_count": null,
   "metadata": {},
   "outputs": [],
   "source": [
    "# Stack implementation here\n",
    "\n"
   ]
  },
  {
   "cell_type": "code",
   "execution_count": null,
   "metadata": {},
   "outputs": [],
   "source": [
    "# function to return True if balanced, False if otherwise\n",
    "def is_expr_balanced(expr):\n",
    "    pass\n"
   ]
  },
  {
   "cell_type": "code",
   "execution_count": null,
   "metadata": {},
   "outputs": [],
   "source": [
    "# Test cases here\n",
    "\n"
   ]
  }
 ],
 "metadata": {
  "kernelspec": {
   "display_name": "Python 3.10.6 64-bit",
   "language": "python",
   "name": "python3"
  },
  "language_info": {
   "codemirror_mode": {
    "name": "ipython",
    "version": 3
   },
   "file_extension": ".py",
   "mimetype": "text/x-python",
   "name": "python",
   "nbconvert_exporter": "python",
   "pygments_lexer": "ipython3",
   "version": "3.10.6"
  },
  "vscode": {
   "interpreter": {
    "hash": "e7370f93d1d0cde622a1f8e1c04877d8463912d04d973331ad4851f04de6915a"
   }
  }
 },
 "nbformat": 4,
 "nbformat_minor": 2
}
