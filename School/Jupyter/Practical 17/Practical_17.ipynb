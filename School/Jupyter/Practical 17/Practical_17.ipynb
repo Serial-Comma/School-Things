{
 "cells": [
  {
   "cell_type": "code",
   "execution_count": 1,
   "metadata": {},
   "outputs": [
    {
     "name": "stdout",
     "output_type": "stream",
     "text": [
      "2\n",
      "89\n",
      "Output: 133\n"
     ]
    }
   ],
   "source": [
    "#Task 1.1\n",
    "\n",
    "def fibo(n):\n",
    "    first = 1\n",
    "    temp = 0\n",
    "    second = 1\n",
    "\n",
    "    if n == 1:\n",
    "        return 0\n",
    "    if n == 2:\n",
    "        return 1\n",
    "    if n == 3:\n",
    "        return 1\n",
    "\n",
    "    for i in range(n-3):\n",
    "        temp = first\n",
    "        first = second\n",
    "        second = second + temp\n",
    "        \n",
    "    return(second)\n",
    "\n",
    "print(fibo(4))\n",
    "print(fibo(12))\n",
    "\n",
    "#Task 1.2\n",
    "\n",
    "def fibo_odd(n):\n",
    "    total = 0\n",
    "\n",
    "    for i in range(n+1):\n",
    "       \n",
    "        if i == 0:\n",
    "            continue\n",
    "\n",
    "        if fibo(i)%2 != 0:\n",
    "            total +=1\n",
    "   \n",
    "    return total\n",
    "\n",
    "print(\"Output:\",fibo_odd(int(input(\"Input:\"))))"
   ]
  },
  {
   "cell_type": "code",
   "execution_count": 4,
   "metadata": {},
   "outputs": [
    {
     "name": "stdout",
     "output_type": "stream",
     "text": [
      "Your Rank points is  73.75\n"
     ]
    }
   ],
   "source": [
    "#Task 2\n",
    "\n",
    "def grade_to_point(n):\n",
    "  \n",
    "    n = n.lower()\n",
    "    diction = {'a': 20, 'b': 17.5, 'c': 15, 'd': 12.5, 'e': 10, 's': 5, 'u': 0}\n",
    "    \n",
    "    return diction[n]\n",
    "\n",
    "def rank_point(n):\n",
    "  \n",
    "    total = 0\n",
    "    diction2 = {'a':10, 'b':8.75, 'c': 7.5, 'd': 6.25, 'e':5, 's': 2.5, 'u': 0}\n",
    "  \n",
    "    n = n.replace(\"/\", \"\")\n",
    "    n  = list(n)\n",
    "    h1 = n.pop()\n",
    "\n",
    "    for i in range(len(n)):\n",
    "        n[i] = n[i].lower()\n",
    "        total = total + grade_to_point(n[i])\n",
    "   \n",
    "    total = total + diction2[h1.lower()]\n",
    "   \n",
    "    total = total + (7.5*2)\n",
    "   \n",
    "    return total\n",
    "\n",
    "print('Your Rank points is ',rank_point(input(\"Input:\")))"
   ]
  },
  {
   "cell_type": "code",
   "execution_count": 3,
   "metadata": {},
   "outputs": [
    {
     "name": "stdout",
     "output_type": "stream",
     "text": [
      "There are 150 healthy students\n"
     ]
    }
   ],
   "source": [
    "#Task 3.1\n",
    "import csv\n",
    "\n",
    "def convert_ht(height):\n",
    "    return height*0.0254\n",
    "\n",
    "def convert_wt(weight):\n",
    "    return weight*0.453592\n",
    "\n",
    "def bmi(height,weight):\n",
    "    return (weight/(height*height))\n",
    "\n",
    "#Task 3.2\n",
    "\n",
    "with open('data.csv', 'r') as d:\n",
    "  \n",
    "    total = []\n",
    "    data = csv.reader(d)\n",
    "    for row in data:\n",
    "        total.append(row)\n",
    "\n",
    "    healthy = 0\n",
    "\n",
    "    for i in range(len(total)):\n",
    "        bemi = bmi(convert_ht( float(total[i][1]) ),convert_wt( float(total[i][2]) ))\n",
    "        if bemi >= 18.5 and bemi <25:\n",
    "         \n",
    "            healthy +=1\n",
    "   \n",
    "    print('There are',healthy, 'healthy students')\n",
    "\n",
    "\n"
   ]
  },
  {
   "cell_type": "code",
   "execution_count": 32,
   "metadata": {},
   "outputs": [
    {
     "name": "stdout",
     "output_type": "stream",
     "text": [
      "Output:  J\n"
     ]
    }
   ],
   "source": [
    "#Task 4\n",
    "\n",
    "def num_checker(n):\n",
    "    n=list(str(n))\n",
    "    total = 0\n",
    "\n",
    "    for i in range(len(n)):\n",
    "        if i == 0:\n",
    "            total = total + (int(n[i])*2)\n",
    "            continue\n",
    "        total = total + (int(n[i]) * (8-i))\n",
    "\n",
    "    return total\n",
    "def letter_outputter(h):\n",
    "    diction = {0:'J',1:'Z',2:'I',3:'H',4:'G',5:'F',6:'E',7:'D',8:'C',9:'B',10:'A'}\n",
    "    h = list(h)\n",
    "    letter = (h.pop(0)).upper()\n",
    "    temp = \"\"\n",
    "    web = temp.join(h)\n",
    "    checksum = num_checker(web)\n",
    "   \n",
    "    if letter == 'T':\n",
    "        checksum = checksum + 4\n",
    "\n",
    "    return diction[checksum%11]\n",
    "\n",
    "print(\"Output: \",letter_outputter(input(\"Input: \")))"
   ]
  }
 ],
 "metadata": {
  "interpreter": {
   "hash": "e7370f93d1d0cde622a1f8e1c04877d8463912d04d973331ad4851f04de6915a"
  },
  "kernelspec": {
   "display_name": "Python 3.10.4 64-bit",
   "language": "python",
   "name": "python3"
  },
  "language_info": {
   "codemirror_mode": {
    "name": "ipython",
    "version": 3
   },
   "file_extension": ".py",
   "mimetype": "text/x-python",
   "name": "python",
   "nbconvert_exporter": "python",
   "pygments_lexer": "ipython3",
   "version": "3.10.4"
  },
  "orig_nbformat": 4
 },
 "nbformat": 4,
 "nbformat_minor": 2
}
