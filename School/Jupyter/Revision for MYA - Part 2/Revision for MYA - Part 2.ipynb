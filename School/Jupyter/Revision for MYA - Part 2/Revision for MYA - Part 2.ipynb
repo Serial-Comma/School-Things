{
 "cells": [
  {
   "cell_type": "markdown",
   "metadata": {},
   "source": [
    "### Question 1\n",
    "Create a program which ask users to input even integers. Ignore the input if the number is not even. End the program after user entered 4 even numbers and display them. \n",
    "\n",
    "<u>Sample Output:</u>\n",
    "```\n",
    "Enter 4 even integers:\n",
    "10\n",
    "4\n",
    "5\n",
    "6\n",
    "8\n",
    "[10, 4, 6, 8]\n",
    "```"
   ]
  },
  {
   "cell_type": "code",
   "execution_count": 4,
   "metadata": {},
   "outputs": [
    {
     "name": "stdout",
     "output_type": "stream",
     "text": [
      "[10, 4, 6, 8]\n"
     ]
    }
   ],
   "source": [
    "# WRITE YOUR CODE HERE\n",
    "num = 0 \n",
    "lst = []\n",
    "while num < 4:\n",
    "    x = input(\"Enter 4 even integers\")\n",
    "    x = int(x)\n",
    "    if x % 2 != 0:\n",
    "        continue\n",
    "    else:\n",
    "        num +=1\n",
    "        lst.append(x)\n",
    "    \n",
    "print(lst)\n"
   ]
  },
  {
   "cell_type": "markdown",
   "metadata": {},
   "source": [
    "### Question 2\n",
    "\n",
    "The harmonic sum is the sum of reciprocals of the positive integers.\n",
    "\n",
    "$\\sum\\limits_{n=1}^{\\infty }{\\frac{1}{n}=1+\\frac{1}{2}+\\frac{1}{3}+\\frac{1}{4}+\\frac{1}{5}+...}$\n",
    "\n",
    "Implement a recursive function `harmonic_sum(n)` to compute the summation of first `n` items. The function returns final summation of the series."
   ]
  },
  {
   "cell_type": "code",
   "execution_count": 18,
   "metadata": {},
   "outputs": [],
   "source": [
    "# WRITE YOUR CODE HERE\n",
    "def harmonic_sum(n):\n",
    "    if n <= 0:\n",
    "        return 0\n",
    "    else:\n",
    "        return 1/ n + harmonic_sum(n-1)\n"
   ]
  },
  {
   "cell_type": "markdown",
   "metadata": {},
   "source": [
    "<u>*Test Case 1*</u>\n",
    "\n",
    "Expected output: `2.083333333333333`"
   ]
  },
  {
   "cell_type": "code",
   "execution_count": 17,
   "metadata": {
    "scrolled": true
   },
   "outputs": [
    {
     "data": {
      "text/plain": [
       "2.083333333333333"
      ]
     },
     "execution_count": 17,
     "metadata": {},
     "output_type": "execute_result"
    }
   ],
   "source": [
    "harmonic_sum(4)"
   ]
  },
  {
   "cell_type": "markdown",
   "metadata": {},
   "source": [
    "### Question 3\n",
    "\n",
    "The file `\"olympics-medals.csv\"` gives total number of Olympic medals won by participating countries from 1896 to 2008.\n",
    "\n",
    "**A)** Write a function `load_file(csv_path)` to read the file and returned records in a list.\n",
    "* Each record (data point) in the list is a tuple of values, e.g. `('URS', 'Soviet Union', '838', 'Gold')`.\n",
    "* Do NOT include header row in the returned list."
   ]
  },
  {
   "cell_type": "code",
   "execution_count": 40,
   "metadata": {},
   "outputs": [],
   "source": [
    "# WRITE YOUR CODE HERE\n",
    "import csv\n",
    "def load_file(csv_path):\n",
    "    with open(csv_path, 'r') as f:\n",
    "        reader = csv.reader(f)\n",
    "        header = next(reader)\n",
    "        data = []\n",
    "        for row in reader:\n",
    "            data.append(tuple(row))\n",
    "    return data\n",
    "\n",
    "\n"
   ]
  },
  {
   "cell_type": "markdown",
   "metadata": {},
   "source": [
    "<u>*Test Case*</u>\n",
    "\n",
    "Sample output\n",
    "```\n",
    "Records:  414\n",
    "[('USA', 'United States', '2088', 'Gold'), ('URS', 'Soviet Union', '838', 'Gold'), ('GBR', 'United Kingdom', '498', 'Gold'), ('FRA', 'France', '378', 'Gold')]\n",
    "```"
   ]
  },
  {
   "cell_type": "code",
   "execution_count": 41,
   "metadata": {},
   "outputs": [
    {
     "name": "stdout",
     "output_type": "stream",
     "text": [
      "Records:  414\n",
      "[('USA', 'United States', '2088', 'Gold'), ('URS', 'Soviet Union', '838', 'Gold'), ('GBR', 'United Kingdom', '498', 'Gold'), ('FRA', 'France', '378', 'Gold')]\n"
     ]
    }
   ],
   "source": [
    "file_name = 'olympics-medals.csv'\n",
    "table = load_file(file_name)\n",
    "print(\"Records: \", len(table))\n",
    "print(table[:4])  # print the first 4 records"
   ]
  },
  {
   "cell_type": "markdown",
   "metadata": {},
   "source": [
    "**B)** The medals count (column 3) in all records must be a valid numerical value. Write a function `clean_medal_count(table)` to return a new table (as a `list` type) with only records with valid medal count.\n",
    "* Return new table containing only records with valid medal count.\n"
   ]
  },
  {
   "cell_type": "code",
   "execution_count": 70,
   "metadata": {},
   "outputs": [],
   "source": [
    "# WRITE YOUR CODE HERE\n",
    "def clean_medal_count(table):\n",
    "    new_table = []\n",
    "    for row in range(len(table)):\n",
    "        if table[row][2].isdecimal() == False:\n",
    "            continue\n",
    "        else:\n",
    "            new_table.append(table[row])\n",
    "    return new_table\n"
   ]
  },
  {
   "cell_type": "markdown",
   "metadata": {},
   "source": [
    "<u>*Test Case*</u>\n",
    "\n",
    "Sample output:\n",
    "```\n",
    "Valid records: 334\n",
    "```"
   ]
  },
  {
   "cell_type": "code",
   "execution_count": 71,
   "metadata": {},
   "outputs": [
    {
     "name": "stdout",
     "output_type": "stream",
     "text": [
      "Valid records: 334\n"
     ]
    }
   ],
   "source": [
    "table = load_file(file_name)\n",
    "table2 = clean_medal_count(table)\n",
    "print(\"Valid records: {}\".format(len(table2)))"
   ]
  },
  {
   "cell_type": "markdown",
   "metadata": {},
   "source": [
    "**C)** Write a function `list_medals(table, country)` to return medals records of a country.\n",
    "* It returns all records which matches the country name.\n"
   ]
  },
  {
   "cell_type": "code",
   "execution_count": 78,
   "metadata": {},
   "outputs": [],
   "source": [
    "# WRITE YOUR CODE HERE\n",
    "def list_medals(table,country):\n",
    "    output = []\n",
    "    for row in range(len(table)):\n",
    "        if table[row][1] == country:\n",
    "            output.append(table[row])\n",
    "        else:\n",
    "            pass\n",
    "    return output"
   ]
  },
  {
   "cell_type": "markdown",
   "metadata": {},
   "source": [
    "<u>*Test Case*</u>\n",
    "\n",
    "Sample Output: \n",
    "```\n",
    "[('USA', 'United States', '2088', 'Gold'), ('USA', 'United States', '1052', 'Bronze'), ('USA', 'United States', '1195', 'Silver')]\n",
    "```"
   ]
  },
  {
   "cell_type": "code",
   "execution_count": 79,
   "metadata": {},
   "outputs": [
    {
     "name": "stdout",
     "output_type": "stream",
     "text": [
      "[('USA', 'United States', '2088', 'Gold'), ('USA', 'United States', '1052', 'Bronze'), ('USA', 'United States', '1195', 'Silver')]\n"
     ]
    }
   ],
   "source": [
    "table = load_file(file_name)\n",
    "table2 = clean_medal_count(table)\n",
    "records = list_medals(table2, 'United States')\n",
    "print(records)"
   ]
  },
  {
   "cell_type": "markdown",
   "metadata": {},
   "source": [
    "### Question 4\n",
    "\n",
    "The file `\"percent-bachelors-degrees-women-usa-pivot.csv\"` gives percentage of bachelor degree holders who are women in USA from year 1970 to year 2011.\n",
    "\n",
    "**A)** Write a function `read_csv(csv_path)` to read the file and returned records in a list.\n",
    "* Each record (data point) in the list is a tuple of values, e.g. `('1970', 'Agriculture', '4.22979798')`.\n",
    "* Do NOT include header row in the returned list."
   ]
  },
  {
   "cell_type": "code",
   "execution_count": 102,
   "metadata": {},
   "outputs": [],
   "source": [
    "# WRITE YOUR CODE HERE\n",
    "\n",
    "def read_csv(csv_path):\n",
    "    data = []\n",
    "    with open(csv_path,'r') as f:\n",
    "        reader = csv.reader(f)\n",
    "        header = next(reader)\n",
    "        for row in reader:\n",
    "            data.append(list(row))\n",
    "    return data\n"
   ]
  },
  {
   "cell_type": "markdown",
   "metadata": {},
   "source": [
    "<u>*Test Case 1*</u>"
   ]
  },
  {
   "cell_type": "code",
   "execution_count": 103,
   "metadata": {
    "scrolled": true
   },
   "outputs": [
    {
     "name": "stdout",
     "output_type": "stream",
     "text": [
      "Record count:  714\n",
      "[['1970', 'Agriculture', '4.22979798'], ['1970', 'Architecture', '11.92100539'], ['1970', 'Art and Performance', '159.7'], ['1970', 'Biology', '29.08836297']]\n"
     ]
    }
   ],
   "source": [
    "file_name = 'percent-bachelors-degrees-women-usa-pivot.csv'\n",
    "table = read_csv(file_name)\n",
    "print(\"Record count: \", len(table))\n",
    "print(table[:4])"
   ]
  },
  {
   "cell_type": "markdown",
   "metadata": {},
   "source": [
    "Expected output:\n",
    "\n",
    "```\n",
    "Record count:  714\n",
    "[('1970', 'Agriculture', '4.22979798'), ('1970', 'Architecture', '11.92100539'), ('1970', 'Art and Performance', '159.7'), ('1970', 'Biology', '29.08836297')]\n",
    "```"
   ]
  },
  {
   "cell_type": "markdown",
   "metadata": {},
   "source": [
    "<u>*Test Case 2*</u>"
   ]
  },
  {
   "cell_type": "code",
   "execution_count": 104,
   "metadata": {
    "scrolled": true
   },
   "outputs": [
    {
     "name": "stdout",
     "output_type": "stream",
     "text": [
      "['1970', 'Architecture', '11.92100539']\n"
     ]
    }
   ],
   "source": [
    "file_name = 'percent-bachelors-degrees-women-usa-pivot.csv'\n",
    "table = read_csv(file_name)\n",
    "print(table[1])"
   ]
  },
  {
   "cell_type": "markdown",
   "metadata": {},
   "source": [
    "Expected output:\n",
    "\n",
    "```\n",
    "('1970', 'Architecture', '11.92100539')\n",
    "```"
   ]
  },
  {
   "cell_type": "markdown",
   "metadata": {},
   "source": [
    "**B)** Write a function `list_majors(table)` to return the names of all bachelor degrees in the file.\n",
    "* It returns a distinct list of bachelar degree names <u>sorted in ascending order</u>."
   ]
  },
  {
   "cell_type": "code",
   "execution_count": 117,
   "metadata": {},
   "outputs": [],
   "source": [
    "# WRITE YOUR CODE HERE\n",
    "def list_majors(table):\n",
    "    lst = []\n",
    "    diction = {}\n",
    "    for row in range(len(table)):\n",
    "        if diction.get(table[row][1]) == None:\n",
    "            diction[table[row][1]] = 1\n",
    "            lst.append(table[row][1])\n",
    "        else:\n",
    "            pass\n",
    "    lst.sort()\n",
    "    return lst\n"
   ]
  },
  {
   "cell_type": "markdown",
   "metadata": {},
   "source": [
    "<u>*Test Case*</u>"
   ]
  },
  {
   "cell_type": "code",
   "execution_count": 118,
   "metadata": {
    "scrolled": false
   },
   "outputs": [
    {
     "name": "stdout",
     "output_type": "stream",
     "text": [
      "['Agriculture', 'Architecture', 'Art and Performance', 'Biology', 'Business', 'Communications and Journalism', 'Computer Science', 'Education', 'Engineering', 'English', 'Foreign Languages', 'Health Professions', 'Math and Statistics', 'Physical Sciences', 'Psychology', 'Public Administration', 'Social Sciences and History']\n"
     ]
    }
   ],
   "source": [
    "file_name = 'percent-bachelors-degrees-women-usa-pivot.csv'\n",
    "table = read_csv(file_name)\n",
    "majors = list_majors(table)\n",
    "print(majors)"
   ]
  },
  {
   "cell_type": "markdown",
   "metadata": {},
   "source": [
    "Expected output:\n",
    "\n",
    "```\n",
    "['Agriculture', 'Architecture', 'Art and Performance', 'Biology', 'Business', 'Communications and Journalism', 'Computer Science', 'Education', 'Engineering', 'English', 'Foreign Languages', 'Health Professions', 'Math and Statistics', 'Physical Sciences', 'Psychology', 'Public Administration', 'Social Sciences and History']\n",
    "```"
   ]
  },
  {
   "cell_type": "markdown",
   "metadata": {},
   "source": [
    "**C)** The percentage value (column 3) in all records must be between 0 and 100. Write a function `find_invalid_records(table)` to print out all invalid data points.\n",
    "* Note: NO need to remove invalid data points from table."
   ]
  },
  {
   "cell_type": "code",
   "execution_count": 121,
   "metadata": {},
   "outputs": [],
   "source": [
    "# WRITE YOUR CODE HERE\n",
    "def find_invalid_records(table):\n",
    "    lst = []\n",
    "    for row in range(len(table)):\n",
    "        if float(table[row][2]) > 100 or float(table[row][2]) < 0:\n",
    "            lst.append(table[row])\n",
    "        else:\n",
    "            pass\n",
    "    return lst\n"
   ]
  },
  {
   "cell_type": "markdown",
   "metadata": {},
   "source": [
    "<u>*Test Case*</u>"
   ]
  },
  {
   "cell_type": "code",
   "execution_count": 122,
   "metadata": {
    "scrolled": true
   },
   "outputs": [
    {
     "data": {
      "text/plain": [
       "[['1970', 'Art and Performance', '159.7'],\n",
       " ['1970', 'Communications and Journalism', '-35.3'],\n",
       " ['1971', 'Social Sciences and History', '-36.2'],\n",
       " ['1973', 'Architecture', '114.7916134'],\n",
       " ['2010', 'Physical Sciences', '140.2']]"
      ]
     },
     "execution_count": 122,
     "metadata": {},
     "output_type": "execute_result"
    }
   ],
   "source": [
    "file_name = 'percent-bachelors-degrees-women-usa-pivot.csv'\n",
    "table = read_csv(file_name)\n",
    "find_invalid_records(table)"
   ]
  },
  {
   "cell_type": "markdown",
   "metadata": {},
   "source": [
    "Expected output:\n",
    "\n",
    "```\n",
    "('1970', 'Art and Performance', '159.7')\n",
    "('1970', 'Communications and Journalism', '-35.3')\n",
    "('1971', 'Social Sciences and History', '-36.2')\n",
    "('1973', 'Architecture', '114.7916134')\n",
    "('2010', 'Physical Sciences', '140.2')\n",
    "```"
   ]
  },
  {
   "cell_type": "markdown",
   "metadata": {},
   "source": [
    "**D)** Write a function `calc_avg(table, major)` to find the average percentage of women who obtained a particular bachelor degree.\n",
    "* Remember to remove invalid data points before calculation."
   ]
  },
  {
   "cell_type": "code",
   "execution_count": 127,
   "metadata": {},
   "outputs": [],
   "source": [
    "# WRITE YOUR CODE HERE\n",
    "def calc_avg(table,major):\n",
    "    lst = []\n",
    "    total = 0\n",
    "    count = 0\n",
    "    for row in range(len(table)):\n",
    "        if float(table[row][2]) > 100 or float(table[row][2]) < 0:\n",
    "            continue\n",
    "        elif table[row][1] != major:\n",
    "                continue\n",
    "        else:\n",
    "            total = total + float(table[row][2])\n",
    "            count +=1\n",
    "    \n",
    "\n",
    "    return total/count\n"
   ]
  },
  {
   "cell_type": "markdown",
   "metadata": {},
   "source": [
    "<u>*Test Case*</u>"
   ]
  },
  {
   "cell_type": "code",
   "execution_count": 128,
   "metadata": {
    "scrolled": true
   },
   "outputs": [
    {
     "name": "stdout",
     "output_type": "stream",
     "text": [
      "Agriculture 33.848165147547626\n"
     ]
    }
   ],
   "source": [
    "file_name = 'percent-bachelors-degrees-women-usa-pivot.csv'\n",
    "table = read_csv(file_name)\n",
    "major = 'Agriculture'\n",
    "result = calc_avg(table, major)\n",
    "print(major, result)"
   ]
  },
  {
   "cell_type": "markdown",
   "metadata": {},
   "source": [
    "Expected output:\n",
    "\n",
    "```\n",
    "Agriculture 33.848165147547626\n",
    "```"
   ]
  },
  {
   "cell_type": "code",
   "execution_count": null,
   "metadata": {},
   "outputs": [],
   "source": []
  }
 ],
 "metadata": {
  "kernelspec": {
   "display_name": "Python 3",
   "language": "python",
   "name": "python3"
  },
  "language_info": {
   "codemirror_mode": {
    "name": "ipython",
    "version": 3
   },
   "file_extension": ".py",
   "mimetype": "text/x-python",
   "name": "python",
   "nbconvert_exporter": "python",
   "pygments_lexer": "ipython3",
   "version": "3.6.4"
  }
 },
 "nbformat": 4,
 "nbformat_minor": 2
}
