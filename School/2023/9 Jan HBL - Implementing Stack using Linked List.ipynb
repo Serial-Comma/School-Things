{
 "cells": [
  {
   "cell_type": "markdown",
   "metadata": {},
   "source": [
    "# Implementing Stack using Linked List\n",
    "\n",
    "In the previous chapters, we have implemented Stack data structure using Python list or arrays. We have also learnt to implement linked list in Data Structures 4 - Linked List (I).\n",
    "\n",
    "By modifying Exercise 1 and 2 from Data Structures 4 - Linked List (I) Jupyter Notebook, implement stack using Linked List. The classes and the methods have been provided for you in the incomplete code below, please complete them by the end of today and submit on Google Classroom.\n",
    "\n",
    "Hint: Stack pointer to keep track of the top of stack is important. Which pointer can be used as the stack pointer easily?\n",
    "\n",
    "Remember to test all the stack operations as well."
   ]
  },
  {
   "cell_type": "code",
   "execution_count": null,
   "metadata": {},
   "outputs": [],
   "source": [
    "class Node:\n",
    "    def __init__(self, data, next_node = None):\n",
    "        self.data = data\n",
    "        self.next = next_node\n",
    "    \n",
    "class Stack:\n",
    "    \n",
    "    def __init__(self):\n",
    "        # Initialise the instance variable needed\n",
    "        pass\n",
    "    \n",
    "    def size(self):\n",
    "        # Return the current size of the stack\n",
    "        pass\n",
    "    \n",
    "    def isEmpty(self):\n",
    "        # Return True if the stack is empty, False if otherwise\n",
    "        pass\n",
    "                  \n",
    "    def display(self):\n",
    "        # Display \"Stack is empty\" if the stack is empty\n",
    "        # Otherwise display all the data from top to bottom of stack\n",
    "        # Hint: very similar to traverse method for linked list\n",
    "        pass\n",
    "    \n",
    "    def push(self, data):\n",
    "        # push the new Node containing data to the top of stack\n",
    "        # Hint: where to push?\n",
    "        pass\n",
    "    \n",
    "    def pop(self):\n",
    "        # if Stack is empty, print an error statement and return None\n",
    "        # Otherwise, return the data at top of stack and remove the node from the stack\n",
    "        pass\n",
    "    \n",
    "    def peek(self):\n",
    "        # if Stack is empty, print an error statement and return None\n",
    "        # Otherwise, return the data at top of stack, but DO NOT remove the node from the stack\n",
    "        pass"
   ]
  },
  {
   "cell_type": "code",
   "execution_count": null,
   "metadata": {},
   "outputs": [],
   "source": [
    "# Test Code\n",
    "\n",
    "test_stack = Stack()\n",
    "test_stack.display()\n",
    "\n",
    "# Try pushing and popping some data\n",
    "# Test all the methods that you have coded\n",
    "\n"
   ]
  }
 ],
 "metadata": {
  "kernelspec": {
   "display_name": "Python 3.10.8 64-bit",
   "language": "python",
   "name": "python3"
  },
  "language_info": {
   "codemirror_mode": {
    "name": "ipython",
    "version": 3
   },
   "file_extension": ".py",
   "mimetype": "text/x-python",
   "name": "python",
   "nbconvert_exporter": "python",
   "pygments_lexer": "ipython3",
   "version": "3.10.8 (main, Nov  1 2022, 14:18:21) [GCC 12.2.0]"
  },
  "vscode": {
   "interpreter": {
    "hash": "e7370f93d1d0cde622a1f8e1c04877d8463912d04d973331ad4851f04de6915a"
   }
  }
 },
 "nbformat": 4,
 "nbformat_minor": 2
}
