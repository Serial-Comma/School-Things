{
 "cells": [
  {
   "cell_type": "code",
   "execution_count": 11,
   "metadata": {},
   "outputs": [
    {
     "data": {
      "text/plain": [
       "'I'"
      ]
     },
     "execution_count": 11,
     "metadata": {},
     "output_type": "execute_result"
    }
   ],
   "source": [
    "#Task 1.1\n",
    "chars = {\n",
    "    \"A\" : 0,\n",
    "    \"B\" : 1,\n",
    "    \"C\" : 2,\n",
    "    \"D\" : 3,\n",
    "    \"E\" : 4,\n",
    "    \"F\" : 5,\n",
    "    \"G\":6,\n",
    "    \"H\":7,\n",
    "    \"I\":8,\n",
    "    \"J\":9,\n",
    "    \"K\":10,\n",
    "    \"L\":11,\n",
    "    \"M\":12,\n",
    "    \"N\":13,\n",
    "    \"O\":14,\n",
    "    \"P\":15,\n",
    "    \"Q\":16,\n",
    "    \"R\":17,\n",
    "    \"S\":18,\n",
    "    \"T\":19,\n",
    "    \"U\":20,\n",
    "    \"V\":21,\n",
    "    \"W\":22,\n",
    "    \"X\":23,\n",
    "    \"Y\":24,\n",
    "    \"Z\":25\n",
    "    \n",
    "}\n",
    "chars2 = \"ABCDEFGHIJKLMNOPQRSTUVWXYZ\"\n",
    "def substitution(key,char):\n",
    "    x = chars[key] + chars[char]\n",
    "    if x > 25:\n",
    "        x = x-26\n",
    "    return chars2[x]\n",
    "\n",
    "\n",
    "\n",
    "substitution(\"C\",\"G\")"
   ]
  },
  {
   "cell_type": "code",
   "execution_count": 3,
   "metadata": {},
   "outputs": [
    {
     "ename": "KeyError",
     "evalue": "'SUS'",
     "output_type": "error",
     "traceback": [
      "\u001b[0;31m---------------------------------------------------------------------------\u001b[0m",
      "\u001b[0;31mKeyError\u001b[0m                                  Traceback (most recent call last)",
      "\u001b[1;32m/home/kenspoems/Documents/School-Things/School/2023/MCT/Task1.ipynb Cell 2\u001b[0m in \u001b[0;36m<cell line: 4>\u001b[0;34m()\u001b[0m\n\u001b[1;32m      <a href='vscode-notebook-cell:/home/kenspoems/Documents/School-Things/School/2023/MCT/Task1.ipynb#W1sZmlsZQ%3D%3D?line=1'>2</a>\u001b[0m char \u001b[39m=\u001b[39m \u001b[39minput\u001b[39m(\u001b[39m\"\u001b[39m\u001b[39minput char\u001b[39m\u001b[39m\"\u001b[39m)\n\u001b[1;32m      <a href='vscode-notebook-cell:/home/kenspoems/Documents/School-Things/School/2023/MCT/Task1.ipynb#W1sZmlsZQ%3D%3D?line=2'>3</a>\u001b[0m key \u001b[39m=\u001b[39m \u001b[39minput\u001b[39m(\u001b[39m\"\u001b[39m\u001b[39minput key\u001b[39m\u001b[39m\"\u001b[39m)\n\u001b[0;32m----> <a href='vscode-notebook-cell:/home/kenspoems/Documents/School-Things/School/2023/MCT/Task1.ipynb#W1sZmlsZQ%3D%3D?line=3'>4</a>\u001b[0m \u001b[39mprint\u001b[39m(substitution(char,key))\n",
      "\u001b[1;32m/home/kenspoems/Documents/School-Things/School/2023/MCT/Task1.ipynb Cell 2\u001b[0m in \u001b[0;36msubstitution\u001b[0;34m(key, char)\u001b[0m\n\u001b[1;32m     <a href='vscode-notebook-cell:/home/kenspoems/Documents/School-Things/School/2023/MCT/Task1.ipynb#W1sZmlsZQ%3D%3D?line=31'>32</a>\u001b[0m \u001b[39mdef\u001b[39;00m \u001b[39msubstitution\u001b[39m(key,char):\n\u001b[0;32m---> <a href='vscode-notebook-cell:/home/kenspoems/Documents/School-Things/School/2023/MCT/Task1.ipynb#W1sZmlsZQ%3D%3D?line=32'>33</a>\u001b[0m     x \u001b[39m=\u001b[39m chars[key] \u001b[39m+\u001b[39m chars[char]\n\u001b[1;32m     <a href='vscode-notebook-cell:/home/kenspoems/Documents/School-Things/School/2023/MCT/Task1.ipynb#W1sZmlsZQ%3D%3D?line=33'>34</a>\u001b[0m     \u001b[39mif\u001b[39;00m x \u001b[39m>\u001b[39m \u001b[39m25\u001b[39m:\n\u001b[1;32m     <a href='vscode-notebook-cell:/home/kenspoems/Documents/School-Things/School/2023/MCT/Task1.ipynb#W1sZmlsZQ%3D%3D?line=34'>35</a>\u001b[0m         x \u001b[39m=\u001b[39m x\u001b[39m-\u001b[39m\u001b[39m26\u001b[39m\n",
      "\u001b[0;31mKeyError\u001b[0m: 'SUS'"
     ]
    }
   ],
   "source": [
    "#Task 1.2\n",
    "char = input(\"input char\")\n",
    "key = input(\"input key\")\n",
    "print(substitution(char,key))\n",
    "\n"
   ]
  },
  {
   "cell_type": "code",
   "execution_count": 5,
   "metadata": {},
   "outputs": [
    {
     "data": {
      "text/plain": [
       "'WCESCJDPEK'"
      ]
     },
     "execution_count": 5,
     "metadata": {},
     "output_type": "execute_result"
    }
   ],
   "source": [
    "#Task 1.3\n",
    "def vigenere_cipher(plaintext,keyword):\n",
    "    plaintext = plaintext.upper()\n",
    "    keyword = keyword.upper()\n",
    "    while len(keyword) < len(plaintext):\n",
    "        keyword = keyword + keyword\n",
    "    output = \"\"\n",
    "    for i in range(len(plaintext)):\n",
    "        output = output + substitution(plaintext[i],keyword[i])\n",
    "    return output\n",
    "\n",
    "vigenere_cipher(\"HELLOWORLD\",\"PYTHON\")"
   ]
  },
  {
   "cell_type": "code",
   "execution_count": 12,
   "metadata": {},
   "outputs": [
    {
     "name": "stdout",
     "output_type": "stream",
     "text": [
      "WMETSFIFXUVNCBLDOGHMGHGUTCMVTCPNXYPRPPBUUFDKXZHVRIYPUHGCLHBQPQDZVVBUAHHUTKTRSFDDBAKNIQHUPRAGXCSFXRMVPRPAAPZQHBKHKVCEUBHUDJFLGGTJEZVVBRAHHNRJBLBGBPAPZGDLVBPVIRBZQNAJBUUBCRALAFDMGACFTCDHBRMNEHBNIGHUCSIFXZHVRIYPUHGCLKFNLLHUHUTNTWSEUGZBFRHRAHHFTCFACETQXTPYTBTUQVCEFLBJWCGJIOXRMHFEXTXZVRTVISOVCQMOOGWCAHGOTCGTOEGGXKTBGYUVIGPWXHFGDYRVIAVYFLFVRYGDCZPLALYATUEPHGACTICHIFBZKVUCXSGVTUALBGWCRTSGPLWZVRGCJBSFICWAVNIFXUCGPQDOSEPZHBHUTPIHGGPNTZHFWCLHMFHFXDCHABEPYRIMYVFTTRALVNHFHUCETBALFETONLGGQSMYSPTLMSMFWCLLSZTBJBWGTQAHYRCYYASEGCVLWIXLZHZRIRXYTEDKMOSHCGMLRFIYMLGFWMKAZLPDMLFFWCKLOQPLWIIECCWAVNIJXAHRGRALRNCABUUZTLAPSEDEEFDUXALDSETDHBBQLPBAHRCGGJVNAIHUHUTUBURBLQBSZPJZBAHJPQALRGWCFVTSQSMUCGXAXKVVHUBMSFSGLTOLLFXUVRIMEKVRGYUVIGIFXTHUTLMOSCPNXYHUPRAVZZTQAHRFWMPUKNIQHUKNHDHBBQDLMOSFJLWPOYXLMOSTPPWLBJWCGJIOXRMMCHCBBAOASQAVKRSGMACRAQBLGUTNKVACIJRMOVCRXKVRSMXZBBIUBZVGDTBVZNICAPGCGMFPGRIMAPGJXDXHBQPQDDVRIFXYHUTQXKOARGGNARCYKLFRAYMLRGDFXYIAZLHDBCPQMZCUTFTZQBBCMVVBAKXZTBGFXSDVCSGKSEHRTURVCEMOWFPNIHFRCRFFGGTPRPBIDJOPBTIFXDCZPLALZBKCLZCQTYKSM\n"
     ]
    }
   ],
   "source": [
    "#Task 1.4\n",
    "keyword = input(\"input keyword\")\n",
    "with open('plaintext.txt', \"r\") as file:\n",
    "    string = \"\"\n",
    "    string = string + file.readline()\n",
    "\n",
    "string2 = \"\"\n",
    "\n",
    "for i in range(len(string)):\n",
    "    if string[i].upper() in chars2:\n",
    "        string2 = string2 + string[i].upper()\n",
    "string3 = vigenere_cipher(string2,keyword)\n",
    "with open(\"ciphertext.txt\", 'w') as f:\n",
    "    f.writelines(string3)\n",
    "with open(\"ciphertext.txt\", 'r') as f:\n",
    "    print(f.readline())"
   ]
  },
  {
   "cell_type": "code",
   "execution_count": null,
   "metadata": {},
   "outputs": [],
   "source": []
  }
 ],
 "metadata": {
  "kernelspec": {
   "display_name": "Python 3",
   "language": "python",
   "name": "python3"
  },
  "language_info": {
   "codemirror_mode": {
    "name": "ipython",
    "version": 3
   },
   "file_extension": ".py",
   "mimetype": "text/x-python",
   "name": "python",
   "nbconvert_exporter": "python",
   "pygments_lexer": "ipython3",
   "version": "3.10.10"
  }
 },
 "nbformat": 4,
 "nbformat_minor": 2
}
