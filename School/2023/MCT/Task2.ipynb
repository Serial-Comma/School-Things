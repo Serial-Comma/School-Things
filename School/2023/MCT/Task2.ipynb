{
 "cells": [
  {
   "cell_type": "code",
   "execution_count": 7,
   "metadata": {},
   "outputs": [
    {
     "name": "stdout",
     "output_type": "stream",
     "text": [
      "Person with name sus and CG 420/22\n"
     ]
    }
   ],
   "source": [
    "#Task 2.1\n",
    "class Person():\n",
    "    def __init__(self,name,CG,ptr=None):\n",
    "        self.name = name\n",
    "        self.CG = CG\n",
    "        self.ptr = ptr\n",
    "    def display(self):\n",
    "        print(\"Person with name {} and CG {}\".format(self.name,self.CG))\n",
    "\n",
    "x = Person(\"sus\",\"420/22\",)\n",
    "x.display()"
   ]
  },
  {
   "cell_type": "code",
   "execution_count": 34,
   "metadata": {},
   "outputs": [
    {
     "name": "stdout",
     "output_type": "stream",
     "text": [
      "Person with name sussy and CG 40/22\n",
      "Person with name sus and CG 420/22\n"
     ]
    },
    {
     "ename": "TypeError",
     "evalue": "unsupported operand type(s) for +: 'NoneType' and 'NoneType'",
     "output_type": "error",
     "traceback": [
      "\u001b[1;31m---------------------------------------------------------------------------\u001b[0m",
      "\u001b[1;31mTypeError\u001b[0m                                 Traceback (most recent call last)",
      "\u001b[1;32m<ipython-input-34-843f42444f6b>\u001b[0m in \u001b[0;36m<module>\u001b[1;34m()\u001b[0m\n\u001b[0;32m     50\u001b[0m \u001b[0my\u001b[0m\u001b[1;33m.\u001b[0m\u001b[0minsert\u001b[0m\u001b[1;33m(\u001b[0m\u001b[1;34m\"sus\"\u001b[0m\u001b[1;33m,\u001b[0m\u001b[1;34m\"420/22\"\u001b[0m\u001b[1;33m)\u001b[0m\u001b[1;33m\u001b[0m\u001b[0m\n\u001b[0;32m     51\u001b[0m \u001b[0my\u001b[0m\u001b[1;33m.\u001b[0m\u001b[0minsert\u001b[0m\u001b[1;33m(\u001b[0m\u001b[1;34m\"sussy\"\u001b[0m\u001b[1;33m,\u001b[0m\u001b[1;34m\"40/22\"\u001b[0m\u001b[1;33m)\u001b[0m\u001b[1;33m\u001b[0m\u001b[0m\n\u001b[1;32m---> 52\u001b[1;33m \u001b[0my\u001b[0m\u001b[1;33m.\u001b[0m\u001b[0mdisplay\u001b[0m\u001b[1;33m(\u001b[0m\u001b[1;33m)\u001b[0m\u001b[1;33m\u001b[0m\u001b[0m\n\u001b[0m",
      "\u001b[1;32m<ipython-input-34-843f42444f6b>\u001b[0m in \u001b[0;36mdisplay\u001b[1;34m(self)\u001b[0m\n\u001b[0;32m     44\u001b[0m         \u001b[1;32mif\u001b[0m  \u001b[0mcurr\u001b[0m\u001b[1;33m.\u001b[0m\u001b[0mptr\u001b[0m \u001b[1;33m==\u001b[0m \u001b[1;32mNone\u001b[0m\u001b[1;33m:\u001b[0m\u001b[1;33m\u001b[0m\u001b[0m\n\u001b[0;32m     45\u001b[0m             \u001b[1;32mreturn\u001b[0m \u001b[1;34m\"\"\u001b[0m\u001b[1;33m\u001b[0m\u001b[0m\n\u001b[1;32m---> 46\u001b[1;33m         \u001b[0mprint\u001b[0m\u001b[1;33m(\u001b[0m\u001b[0mcurr\u001b[0m\u001b[1;33m.\u001b[0m\u001b[0mdisplay\u001b[0m\u001b[1;33m(\u001b[0m\u001b[1;33m)\u001b[0m \u001b[1;33m+\u001b[0m \u001b[0mcurr\u001b[0m\u001b[1;33m.\u001b[0m\u001b[0mptr\u001b[0m\u001b[1;33m.\u001b[0m\u001b[0mdisplay\u001b[0m\u001b[1;33m(\u001b[0m\u001b[1;33m)\u001b[0m\u001b[1;33m)\u001b[0m\u001b[1;33m\u001b[0m\u001b[0m\n\u001b[0m\u001b[0;32m     47\u001b[0m \u001b[1;33m\u001b[0m\u001b[0m\n\u001b[0;32m     48\u001b[0m \u001b[1;33m\u001b[0m\u001b[0m\n",
      "\u001b[1;31mTypeError\u001b[0m: unsupported operand type(s) for +: 'NoneType' and 'NoneType'"
     ]
    }
   ],
   "source": [
    "#Task 2.2\n",
    "class LinkedList():\n",
    "    \n",
    "    def __init__(self, head=None):\n",
    "        self.head = head\n",
    "        \n",
    "    def insert(self,name,CG):\n",
    "        if self.head == None:\n",
    "            self.head = Person(name,CG)\n",
    "        else:\n",
    "            x = Person(name,CG,self.head)\n",
    "            self.head = x\n",
    "            \n",
    "    def delete(self,name):\n",
    "        curr = self.head\n",
    "        if curr.ptr == None:\n",
    "            return False\n",
    "        if curr.name == name:\n",
    "            self.head = curr.ptr\n",
    "            return True\n",
    "        else:\n",
    "            curr.ptr.delete(curr,name)\n",
    "    def search(self,name):\n",
    "        curr = self.head    \n",
    "        if curr.ptr == None:\n",
    "            return False\n",
    "        if curr.name == name:\n",
    "            curr.display()\n",
    "            return True\n",
    "        else:\n",
    "            curr.ptr.search(curr,name)\n",
    "            \n",
    "    def count(self):\n",
    "        curr = self.head\n",
    "        x = 0\n",
    "        if curr.ptr == None:\n",
    "            return 1\n",
    "        else:\n",
    "            return x + curr.ptr.count()\n",
    "        \n",
    "    def display(self):\n",
    "\n",
    "        curr = self.head\n",
    "        if  curr.ptr == None:\n",
    "            return \"\"\n",
    "        print(curr.display() + curr.ptr.display())\n",
    "        \n",
    "        \n",
    "y = LinkedList()\n",
    "y.insert(\"sus\",\"420/22\")\n",
    "y.insert(\"sussy\",\"40/22\")\n",
    "y.display()"
   ]
  },
  {
   "cell_type": "code",
   "execution_count": 52,
   "metadata": {},
   "outputs": [
    {
     "name": "stdout",
     "output_type": "stream",
     "text": [
      "\\/Front\\/\n"
     ]
    },
    {
     "ename": "NameError",
     "evalue": "name '_display' is not defined",
     "output_type": "error",
     "traceback": [
      "\u001b[1;31m---------------------------------------------------------------------------\u001b[0m",
      "\u001b[1;31mNameError\u001b[0m                                 Traceback (most recent call last)",
      "\u001b[1;32m<ipython-input-52-6ca427f4e9b9>\u001b[0m in \u001b[0;36m<module>\u001b[1;34m()\u001b[0m\n\u001b[0;32m     36\u001b[0m \u001b[0my\u001b[0m \u001b[1;33m=\u001b[0m \u001b[0mQueue\u001b[0m\u001b[1;33m(\u001b[0m\u001b[1;33m)\u001b[0m\u001b[1;33m\u001b[0m\u001b[0m\n\u001b[0;32m     37\u001b[0m \u001b[0my\u001b[0m\u001b[1;33m.\u001b[0m\u001b[0menqueue\u001b[0m\u001b[1;33m(\u001b[0m\u001b[1;34m\"Juanita\"\u001b[0m\u001b[1;33m,\u001b[0m\u001b[1;34m\"04/22\"\u001b[0m\u001b[1;33m)\u001b[0m\u001b[1;33m\u001b[0m\u001b[0m\n\u001b[1;32m---> 38\u001b[1;33m \u001b[0my\u001b[0m\u001b[1;33m.\u001b[0m\u001b[0mdisplay\u001b[0m\u001b[1;33m(\u001b[0m\u001b[1;33m)\u001b[0m\u001b[1;33m\u001b[0m\u001b[0m\n\u001b[0m",
      "\u001b[1;32m<ipython-input-52-6ca427f4e9b9>\u001b[0m in \u001b[0;36mdisplay\u001b[1;34m(self)\u001b[0m\n\u001b[0;32m     30\u001b[0m     \u001b[1;32mdef\u001b[0m \u001b[0mdisplay\u001b[0m\u001b[1;33m(\u001b[0m\u001b[0mself\u001b[0m\u001b[1;33m)\u001b[0m\u001b[1;33m:\u001b[0m\u001b[1;33m\u001b[0m\u001b[0m\n\u001b[0;32m     31\u001b[0m         \u001b[0mprint\u001b[0m\u001b[1;33m(\u001b[0m\u001b[1;34m\"\\/Front\\/\"\u001b[0m\u001b[1;33m)\u001b[0m\u001b[1;33m\u001b[0m\u001b[0m\n\u001b[1;32m---> 32\u001b[1;33m         \u001b[0m_display\u001b[0m\u001b[1;33m(\u001b[0m\u001b[0mcurr\u001b[0m\u001b[1;33m)\u001b[0m\u001b[1;33m\u001b[0m\u001b[0m\n\u001b[0m\u001b[0;32m     33\u001b[0m \u001b[1;33m\u001b[0m\u001b[0m\n\u001b[0;32m     34\u001b[0m \u001b[1;33m\u001b[0m\u001b[0m\n",
      "\u001b[1;31mNameError\u001b[0m: name '_display' is not defined"
     ]
    }
   ],
   "source": [
    "#Task 2.3\n",
    "\n",
    "class Queue(LinkedList):\n",
    "    def __init__(self,head=None):\n",
    "        super().__init__()\n",
    "    def enqueue(self,name,CG):\n",
    "        curr = self.head\n",
    "        if self.head == None:\n",
    "            \n",
    "            self.head = Person(name,CG)\n",
    "        else:\n",
    "            enqueue(curr.ptr)\n",
    "    def dequeue(self):\n",
    "        curr = self.head\n",
    "        if curr == None:\n",
    "            print(\"Queue is empty\")\n",
    "            return None\n",
    "        else:\n",
    "            self.head = self.head.ptr\n",
    "            return curr\n",
    "    \n",
    "    def _display(self):\n",
    "        curr = self.head\n",
    "        curr._display()\n",
    "        if curr == None:\n",
    "            print(\"^End^\")\n",
    "        else:\n",
    "            curr.ptr._display()\n",
    "\n",
    "    def display(self):\n",
    "        print(\"\\/Front\\/\")\n",
    "        _display(curr)\n",
    "            \n",
    "\n",
    "    \n",
    "y = Queue()\n",
    "y.enqueue(\"Juanita\",\"04/22\")\n",
    "y.display()"
   ]
  },
  {
   "cell_type": "code",
   "execution_count": null,
   "metadata": {},
   "outputs": [],
   "source": [
    "#i have no idea"
   ]
  }
 ],
 "metadata": {
  "kernelspec": {
   "display_name": "Python 3",
   "language": "python",
   "name": "python3"
  },
  "language_info": {
   "codemirror_mode": {
    "name": "ipython",
    "version": 3
   },
   "file_extension": ".py",
   "mimetype": "text/x-python",
   "name": "python",
   "nbconvert_exporter": "python",
   "pygments_lexer": "ipython3",
   "version": "3.6.4"
  }
 },
 "nbformat": 4,
 "nbformat_minor": 2
}
