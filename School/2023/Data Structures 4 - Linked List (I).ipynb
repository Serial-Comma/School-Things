{
 "cells": [
  {
   "cell_type": "markdown",
   "metadata": {},
   "source": [
    "# Data Structures 4 - Linked List (I)"
   ]
  },
  {
   "attachments": {
    "Linked%20List.png": {
     "image/png": "[encoded data removed]"
    }
   },
   "cell_type": "markdown",
   "metadata": {},
   "source": [
    "A **linked list** is a linear data structure which holds a collection of elements, called **Node**. These nodes may not be <u>not stored at continuous memory locations</u>. \n",
    "\n",
    "* Nodes can be accessed in a sequential way.\n",
    "* Linked list does not provide random access to a node.\n",
    "* Usually each node is **linked** to next node by storing their memory locations.\n",
    "\n",
    "When the Nodes are connected with only the `next` pointer the list is called **Singly Linked List**\n",
    "\n",
    "![Linked%20List.png](attachment:Linked%20List.png)\n",
    "\n",
    "https://medium.com/@lucasmagnum/sidenotes-linked-list-abstract-data-type-and-data-structure-fd2f8276ab53\n",
    "\n",
    "(Note: Doubly Linked List is not in A-level syllabus, but you may feel free to read up on it too)"
   ]
  },
  {
   "cell_type": "markdown",
   "metadata": {},
   "source": [
    "### Exercise 1: Node\n",
    "\n",
    "Implement a class `Node` for Singly Linked List.\n",
    "* It has an instance attribute `data` which holds data of the node, and another instance attribute `next` pointing to next node. The default value for `next` should be `None`.\n",
    "* Both instance attributes are initialized by input parameters in initializer method.\n",
    "* It implements `__repr__()` method which returns string `Node(data->next.data)`, e.g. `Node(A->B)` if the value for current and next nodes are `A` and `B` respectively.\n",
    "* Implement getter and setter for the instance variables"
   ]
  },
  {
   "cell_type": "code",
   "execution_count": 1,
   "metadata": {},
   "outputs": [],
   "source": [
    "class Node:\n",
    "    def __init__(self, data, next_node = None):\n",
    "        self.data = data\n",
    "        self.next = next_node\n",
    "    \n",
    "    def __repr__(self):\n",
    "        return f'Node({self.data}->{self.next.data if self.next else None})'\n",
    "    \n",
    "    def get_data(self):\n",
    "        # Write your code here\n",
    "        pass\n",
    "    \n",
    "    def set_data(self, data):\n",
    "        # Write your code here\n",
    "        pass\n",
    "    \n",
    "    def get_next(self):\n",
    "        # Write your code here\n",
    "        pass\n",
    "    \n",
    "    def set_next(self, next_node):\n",
    "        # Write your code here\n",
    "        pass"
   ]
  },
  {
   "cell_type": "markdown",
   "metadata": {},
   "source": [
    "Sample code:\n",
    "```\n",
    "a = Node(12)\n",
    "b = Node(75, a)\n",
    "print(a)\n",
    "print(b)\n",
    "```\n",
    "\n",
    "Expected output:\n",
    "```\n",
    "Node(12->None)\n",
    "Node(75->12)\n",
    "```"
   ]
  },
  {
   "cell_type": "code",
   "execution_count": 10,
   "metadata": {},
   "outputs": [
    {
     "name": "stdout",
     "output_type": "stream",
     "text": [
      "Node(12->None)\n",
      "Node(75->12)\n"
     ]
    }
   ],
   "source": [
    "a = Node(12)  # Creating a node with data 12\n",
    "b = Node(75, a)  # Creating a node with data 75, pointing to node a\n",
    "print(a)\n",
    "print(b)"
   ]
  },
  {
   "cell_type": "markdown",
   "metadata": {},
   "source": [
    "### Excercise 2: Linked List\n",
    "\n",
    "Linked list contains an attribute `head` which points first node of the linked list. \n",
    "\n",
    "Implement a Linked List with following methods:\n",
    "* Initializer method which initializes `head` to `None` since the initial linked list is empty.\n",
    "* `is_empty()` method which returns True if linked list is empty\n",
    "* `size()` method returns number of nodes in the linked list\n",
    "* `traverse()` method prints out all the nodes in the linked list\n",
    "* `search()` method which returns True if an item is found in the linked list\n",
    "* `prepend()` method which adds a node to the front of the linked list\n",
    "* `remove()` method which removes Node, which matches a value, from the list\n",
    "\n",
    "The `remove()` method will return `True` if a matching value is found in the linked list and successfully deleted, else it will return `False`. The implementation needs to take care 4 scenarios:\n",
    "\n",
    "* When the linked list is empty, i.e `head` is pointing to `None`\n",
    "* When the item to be removed is the head node\n",
    "* When the item to be removed is in any other node\n",
    "* When the item to be removed is not found"
   ]
  },
  {
   "cell_type": "code",
   "execution_count": 16,
   "metadata": {},
   "outputs": [],
   "source": [
    "class LinkedList:\n",
    "    \n",
    "    def __init__(self):\n",
    "        self.head = None\n",
    "        \n",
    "    def is_empty(self):\n",
    "        '''\n",
    "            return True if linked list is empty, False otherwise\n",
    "        '''\n",
    "        # Write your code here\n",
    "        pass\n",
    "        \n",
    "    def size(self):\n",
    "        '''\n",
    "            return the number of nodes in the linked list\n",
    "        '''\n",
    "        count = 0\n",
    "        cur_node = self.head\n",
    "        while cur_node:  # while the end of Linked list has not reached\n",
    "            count += 1\n",
    "            cur_node = cur_node.get_next()\n",
    "            \n",
    "        return count\n",
    "    \n",
    "    def traverse(self):\n",
    "        '''\n",
    "            prints out all the nodes in the linked list\n",
    "        '''\n",
    "        # modify size() method to traverse through the nodes\n",
    "        # and print out all the nodes \n",
    "        # Write your code here\n",
    "        pass\n",
    "            \n",
    "    def search(self, data):\n",
    "        '''\n",
    "            returns True if one of the nodes in the linked list has a matching data\n",
    "            False if otherwise\n",
    "        '''\n",
    "        # Hint: It is not very different from the code in method traverse\n",
    "        # Write your code here\n",
    "        pass\n",
    "    \n",
    "    def prepend(self,data):\n",
    "        '''\n",
    "            Insert the node containing data at the front of the linked list\n",
    "        '''\n",
    "        # Create a new node containing data and points to the original head of the linked list\n",
    "        # Write your code here\n",
    "        pass\n",
    "        \n",
    "    def remove(self, data):\n",
    "        '''\n",
    "            Remove the node containing data from the list and return True if the data exists,\n",
    "            otherwise return False\n",
    "        '''\n",
    "        # When the linked list is empty\n",
    "        # Write your code here\n",
    "        pass\n",
    "        \n",
    "        # When the item to be removed is the head node\n",
    "        # need to change the head pointer to the next node\n",
    "        # Write your code here\n",
    "        pass\n",
    "            \n",
    "        # When the item to be removed is in any other node\n",
    "        # Need to keep track of the prev node to set its next pointer correctly\n",
    "        prev_node = self.head\n",
    "        cur_node = self.head.get_next()\n",
    "        \n",
    "        while cur_node:\n",
    "            if cur_node.get_data() == data:\n",
    "                prev_node.set_next(cur_node.get_next())\n",
    "                print(f\"{data} is removed\")\n",
    "                return True\n",
    "            else: # continue to traverse\n",
    "                prev_node = cur_node\n",
    "                cur_node = cur_node.get_next()\n",
    "        \n",
    "        # When the item to be removed is not found\n",
    "        print(f\"{data} is not found.\")\n",
    "        return False"
   ]
  },
  {
   "cell_type": "markdown",
   "metadata": {},
   "source": [
    "Expected output:\n",
    "```\n",
    "Start of linked list:\n",
    "A\n",
    "B\n",
    "C\n",
    "D\n",
    "End of linked list.\n",
    "```"
   ]
  },
  {
   "cell_type": "code",
   "execution_count": 25,
   "metadata": {},
   "outputs": [
    {
     "name": "stdout",
     "output_type": "stream",
     "text": [
      "Start of linked list:\n",
      "A\n",
      "B\n",
      "C\n",
      "D\n",
      "End of linked list.\n"
     ]
    }
   ],
   "source": [
    "# Test Case\n",
    "l = LinkedList()\n",
    "l.prepend('D')\n",
    "l.prepend('C')\n",
    "l.prepend('B')\n",
    "l.prepend('A')\n",
    "l.traverse()"
   ]
  },
  {
   "cell_type": "code",
   "execution_count": 26,
   "metadata": {},
   "outputs": [
    {
     "name": "stdout",
     "output_type": "stream",
     "text": [
      "4\n",
      "False\n",
      "True\n"
     ]
    }
   ],
   "source": [
    "# Test Case\n",
    "print(l.size())  # size should be 4 now\n",
    "print(l.search('E'))  # False, E is not in the linked list\n",
    "print(l.search('B'))  # True, B is in the linked list"
   ]
  },
  {
   "cell_type": "code",
   "execution_count": 27,
   "metadata": {
    "scrolled": false
   },
   "outputs": [
    {
     "name": "stdout",
     "output_type": "stream",
     "text": [
      "F is not found.\n",
      "C is removed\n",
      "A is removed from the head\n",
      "B is removed from the head\n",
      "D is removed from the head\n",
      "Linked list is empty. Nothing to remove.\n"
     ]
    },
    {
     "data": {
      "text/plain": [
       "False"
      ]
     },
     "execution_count": 27,
     "metadata": {},
     "output_type": "execute_result"
    }
   ],
   "source": [
    "# Test Case - remove\n",
    "l.remove('F') # remove a node that does not exist\n",
    "l.remove('C') # remove in the middle\n",
    "l.remove('A') # remove the head\n",
    "l.remove('B')\n",
    "l.remove('D')\n",
    "l.remove('D') # remove from an empty linked list"
   ]
  },
  {
   "cell_type": "markdown",
   "metadata": {},
   "source": [
    "### Exercise 3\n",
    "\n",
    "How would you modify the class LinkedList such that the list is ordered (in ascending order)?\n",
    "\n",
    "Hint: Consider how you would insert a node and how you would remove a node."
   ]
  },
  {
   "cell_type": "code",
   "execution_count": null,
   "metadata": {},
   "outputs": [],
   "source": [
    "class LinkedList_ordered(LinkedList):\n",
    "    pass"
   ]
  }
 ],
 "metadata": {
  "kernelspec": {
   "display_name": "Python 3",
   "language": "python",
   "name": "python3"
  },
  "language_info": {
   "codemirror_mode": {
    "name": "ipython",
    "version": 3
   },
   "file_extension": ".py",
   "mimetype": "text/x-python",
   "name": "python",
   "nbconvert_exporter": "python",
   "pygments_lexer": "ipython3",
   "version": "3.6.4"
  }
 },
 "nbformat": 4,
 "nbformat_minor": 2
}
