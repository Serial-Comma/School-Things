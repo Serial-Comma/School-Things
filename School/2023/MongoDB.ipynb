{
 "cells": [
  {
   "cell_type": "code",
   "execution_count": 69,
   "metadata": {},
   "outputs": [
    {
     "name": "stdout",
     "output_type": "stream",
     "text": [
      "The databases in the MongoDB server are:\n",
      "['admin', 'config', 'entertainment', 'local']\n"
     ]
    }
   ],
   "source": [
    "#Example 1\n",
    "import pymongo\n",
    "\n",
    "# 1. Connect to MongoDB - Note: Change connection string as needed\n",
    "client = pymongo.MongoClient(\"127.0.0.1\", port=27017) \n",
    "databases = client.list_database_names() #in older versions use client.database_names()\n",
    "print(\"The databases in the MongoDB server are:\")\n",
    "print(databases)\n",
    "client.close()"
   ]
  },
  {
   "cell_type": "code",
   "execution_count": 70,
   "metadata": {},
   "outputs": [
    {
     "name": "stdout",
     "output_type": "stream",
     "text": [
      "Collections in entertianment database:  ['movies']\n"
     ]
    }
   ],
   "source": [
    "#Example 2\n",
    "client = pymongo.MongoClient(\"127.0.0.1\")\n",
    "db = client.get_database(\"entertainment\")\n",
    "coll = db.get_collection(\"movies\")\n",
    "\n",
    "client.drop_database(\"entertainment\")\n",
    "\n",
    "client = pymongo.MongoClient(\"127.0.0.1\")\n",
    "db = client.get_database(\"entertainment\")\n",
    "coll = db.get_collection(\"movies\")\n",
    "\n",
    "coll.insert_one({\"_id\":1, \"title\": \"Johnny Maths\", \"genre\": \"comedy\"})\n",
    "\n",
    "coll.insert_one({\"title\": \"Star Wall\", \"genre\": \"science fiction\"})\n",
    "\n",
    "coll.insert_one({\"title\": \"Detection\"})\n",
    "\n",
    "list_to_add = []\n",
    "list_to_add.append({\"title\": \"Badman\", \"genre\": \"adventure\", \"year\": 2015})\n",
    "#Averages, science fiction, adventure, 2017\n",
    "list_to_add.append({\"title\": \"Averages\", \"genre\": [\"science fiction\", \"adventure\"],  \"year\": 2017})\n",
    "#insert Octopus Man, adventure, 2017\n",
    "list_to_add.append({ \"title\": \"Octopus Man\", \"genre\": \"adventure\", \"year\": 2017})\n",
    "list_to_add.append({\"title\":\"Fantastic Bees\",\"genre\":\"adventure\",\"year\":2018})\n",
    "list_to_add.append({\"title\":\"Underground\",\"genre\":\"horror\",\"year\":2014})\n",
    "\n",
    "coll.insert_many(list_to_add)\n",
    "\n",
    "c = db.list_collection_names() #in older versions use db.collection_names()\n",
    "print(\"Collections in entertianment database: \",c)\n",
    "\n",
    "client.close()"
   ]
  },
  {
   "cell_type": "code",
   "execution_count": 71,
   "metadata": {},
   "outputs": [
    {
     "name": "stdout",
     "output_type": "stream",
     "text": [
      "Collection(Database(MongoClient(host=['127.0.0.1:27017'], document_class=dict, tz_aware=False, connect=True), 'entertainment'), 'movies')\n"
     ]
    }
   ],
   "source": [
    "#Example 3\n",
    "\n",
    "client = pymongo.MongoClient(\"127.0.0.1\")\n",
    "db = client.get_database(\"entertainment\")\n",
    "coll = db.get_collection(\"movies\")\n",
    "\n",
    "title = input(\"Enter a movie title: \")\n",
    "year = int(input(\"Enter the year the movie was released: \"))\n",
    "\n",
    "#insert the data\n",
    "coll.insert_one({'title': title, 'year': year})\n",
    "\n",
    "print(coll)\n",
    "\n",
    "client.close()\n",
    "\n"
   ]
  },
  {
   "cell_type": "code",
   "execution_count": 72,
   "metadata": {},
   "outputs": [],
   "source": [
    "#Example 4\n",
    "\n",
    "import csv\n",
    "client = pymongo.MongoClient(\"127.0.0.1\", port=27017)\n",
    "db = client.get_database(\"entertainment\") \n",
    "coll = db.get_collection(\"users\")\n",
    "\n",
    "\n",
    "with open(\"input.txt\") as csv_file:\n",
    "    csv_reader = csv.reader(csv_file, delimiter= ',')\n",
    "    for row in csv_reader:\n",
    "        coll.insert_one({\"name\": row[0], \"age\": row[1]})\n",
    "client.close()\n",
    "\n",
    "\n",
    "\n"
   ]
  },
  {
   "cell_type": "code",
   "execution_count": 73,
   "metadata": {},
   "outputs": [],
   "source": [
    "#Example 5\n",
    "\n",
    "import json\n",
    "\n",
    "client = pymongo.MongoClient(\"127.0.0.1\", port=27017)\n",
    "\n",
    "with open('input.json', 'r') as f:\n",
    "    file_data = json.load(f)\n",
    "\n",
    "client['entertainment']['moreusers'].insert_many(file_data)\n",
    "\n",
    "client.close()"
   ]
  },
  {
   "cell_type": "code",
   "execution_count": 74,
   "metadata": {},
   "outputs": [
    {
     "name": "stdout",
     "output_type": "stream",
     "text": [
      "All documents in movie collection:\n",
      "title : Johnny Maths genre : comedy \n",
      "title : Star Wall genre : science fiction \n",
      "title : Detection \n",
      "title : Badman genre : adventure year : 2015 \n",
      "title : Averages genre : ['science fiction', 'adventure'] year : 2017 \n",
      "title : Octopus Man genre : adventure year : 2017 \n",
      "title : Fantastic Bees genre : adventure year : 2018 \n",
      "title : Underground genre : horror year : 2014 \n",
      "title : 1984 year : 1984 \n",
      "Number of items in movie collection: 9\n",
      "All documents in movie collection with adventure genre:\n",
      "title : Badman genre : adventure year : 2015 \n",
      "title : Averages genre : ['science fiction', 'adventure'] year : 2017 \n",
      "title : Octopus Man genre : adventure year : 2017 \n",
      "title : Fantastic Bees genre : adventure year : 2018 \n",
      "There are 3 movies in the list above.\n"
     ]
    }
   ],
   "source": [
    "#Example 6\n",
    "client = pymongo.MongoClient(\"127.0.0.1\")\n",
    "db = client.get_database(\"entertainment\")\n",
    "coll = db.get_collection(\"movies\")\n",
    "\n",
    "result = coll.find()\n",
    "print(\"All documents in movie collection:\")\n",
    "for document in result:\n",
    "    for key in document:\n",
    "        #hide the id key\n",
    "        if key != '_id':\n",
    "            print(key, \":\", document[key], end=\" \")\n",
    "    print()\n",
    "\n",
    "print(\"Number of items in movie collection:\", coll.count_documents({})) #in older versions use coll.count()\n",
    "\n",
    "result = coll.find({'genre': 'adventure'})\n",
    "print(\"All documents in movie collection with adventure genre:\")\n",
    "\n",
    "for document in result:\n",
    "    for key in document:\n",
    "        #hide the id key\n",
    "        if key != '_id':\n",
    "            print(key, \":\", document[key], end=\" \")\n",
    "    print()\n",
    "\n",
    "\n",
    "\n",
    "query2 = {'genre': 'adventure', 'year': {'$gt': 2016}}\n",
    "result = coll.find(query2)\n",
    "\n",
    "movies = list(result)\n",
    "for document in result:\n",
    "    print( \" - \" + document.get('title'))\n",
    "print(\"There are\", len(movies), \"movies in the list above.\")\n",
    "\n",
    "client.close()"
   ]
  },
  {
   "cell_type": "code",
   "execution_count": 84,
   "metadata": {},
   "outputs": [
    {
     "name": "stdout",
     "output_type": "stream",
     "text": [
      "All documents in movie collection:\n",
      "title : Johnny Maths genre : comedy \n",
      "title : Star Wall genre : science fiction \n",
      "title : Detection \n",
      "title : Badman genre : adventure year : 2015 \n",
      "title : Averages genre : ['science fiction', 'adventure'] year : 2017 \n",
      "title : Octopus Man genre : adventure year : 2017 \n",
      "title : Fantastic Bees genre : adventure year : 2018 \n",
      "title : Underground genre : horror year : 2014 \n",
      "title : 1984 year : 1984 \n",
      "Number of items in movie collection 9\n",
      "All documents in movie collection with adventure or comedy genre:\n",
      "title : Johnny Maths genre : comedy \n",
      "title : Badman genre : adventure year : 2015 \n",
      "title : Averages genre : ['science fiction', 'adventure'] year : 2017 \n",
      "title : Octopus Man genre : adventure year : 2017 \n",
      "title : Fantastic Bees genre : adventure year : 2018 \n",
      "All movies without genre:\n",
      " - Detection\n",
      " - 1984\n",
      "<class 'dict'>\n",
      "The first movie from 2017 is:\n",
      "{'_id': ObjectId('6400563031ef50bebaab3ef4'), 'title': 'Averages', 'genre': ['science fiction', 'adventure'], 'year': 2017}\n",
      "title : Averages genre : ['science fiction', 'adventure'] year : 2017 \n"
     ]
    }
   ],
   "source": [
    "#Example 7\n",
    "\n",
    "client = pymongo.MongoClient(\"127.0.0.1\")\n",
    "db = client.get_database(\"entertainment\")\n",
    "coll = db.get_collection(\"movies\")\n",
    "\n",
    "result = coll.find()\n",
    "\n",
    "print(\"All documents in movie collection:\")\n",
    "for document in result:\n",
    "    for key in document:\n",
    "        #hide the id key\n",
    "        if key != '_id':\n",
    "            print(key, \":\", document[key], end=\" \")\n",
    "    print()\n",
    "print(\"Number of items in movie collection\", coll.count_documents({})) #in older versions use coll.count()\n",
    "\n",
    "result = coll.find({'genre': {'$in': ['adventure', 'comedy']}})\n",
    "print(\"All documents in movie collection with adventure or comedy genre:\")\n",
    "\n",
    "for document in result:\n",
    "    for key in document:\n",
    "        #hide the id key\n",
    "        if key != '_id':\n",
    "            print(key, \":\", document[key], end=\" \")\n",
    "    print()\n",
    "\n",
    "query2 = {'genre': {'$exists':False}}\n",
    "result = coll.find(query2)\n",
    "\n",
    "print(\"All movies without genre:\")\n",
    "for document in result:\n",
    "    print(\" - \" + document.get('title'))\n",
    "\n",
    "result = coll.find_one({'year':{'$eq':2017}})\n",
    "\n",
    "print(type(result))\n",
    "print(\"The first movie from 2017 is:\")\n",
    "\n",
    "print(result)\n",
    "\n",
    "for key in result:\n",
    "    #hide the id key\n",
    "    if key != '_id':\n",
    "        print(key, \":\", result[key], end=\" \")\n",
    "\n",
    "print()\n",
    "    \n",
    "\n",
    "client.close()"
   ]
  }
 ],
 "metadata": {
  "kernelspec": {
   "display_name": "Python 3",
   "language": "python",
   "name": "python3"
  },
  "language_info": {
   "codemirror_mode": {
    "name": "ipython",
    "version": 3
   },
   "file_extension": ".py",
   "mimetype": "text/x-python",
   "name": "python",
   "nbconvert_exporter": "python",
   "pygments_lexer": "ipython3",
   "version": "3.10.9"
  },
  "orig_nbformat": 4,
  "vscode": {
   "interpreter": {
    "hash": "e7370f93d1d0cde622a1f8e1c04877d8463912d04d973331ad4851f04de6915a"
   }
  }
 },
 "nbformat": 4,
 "nbformat_minor": 2
}
