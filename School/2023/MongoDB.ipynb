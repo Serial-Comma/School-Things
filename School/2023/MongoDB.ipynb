{
 "cells": [
  {
   "cell_type": "code",
   "execution_count": 3,
   "metadata": {},
   "outputs": [
    {
     "name": "stdout",
     "output_type": "stream",
     "text": [
      "The databases in the MongoDB server are:\n",
      "['admin', 'config', 'entertainment', 'local']\n"
     ]
    }
   ],
   "source": [
    "import pymongo\n",
    "\n",
    "# 1. Connect to MongoDB - Note: Change connection string as needed\n",
    "client = pymongo.MongoClient(\"127.0.0.1\", port=27017) \n",
    "databases = client.list_database_names() #in older versions use client.database_names()\n",
    "print(\"The databases in the MongoDB server are:\")\n",
    "print(databases)\n",
    "client.close()"
   ]
  },
  {
   "cell_type": "code",
   "execution_count": 4,
   "metadata": {},
   "outputs": [],
   "source": [
    "import csv\n",
    "client = pymongo.MongoClient(\"127.0.0.1\", port=27017)\n",
    "db = client.get_database(\"entertainment\") \n",
    "coll = db.get_collection(\"users\")\n",
    "\n",
    "\n",
    "with open(\"input.txt\") as csv_file:\n",
    "    csv_reader = csv.reader(csv_file, delimiter= ',')\n",
    "    for row in csv_reader:\n",
    "        coll.insert_one({\"name\": row[0], \"age\": row[1]})\n",
    "client.close()\n",
    "\n",
    "\n",
    "\n"
   ]
  },
  {
   "cell_type": "code",
   "execution_count": 29,
   "metadata": {},
   "outputs": [
    {
     "ename": "TypeError",
     "evalue": "'Collection' object is not callable. If you meant to call the 'collection_names' method on a 'Database' object it is failing because no such method exists.",
     "output_type": "error",
     "traceback": [
      "\u001b[0;31m---------------------------------------------------------------------------\u001b[0m",
      "\u001b[0;31mTypeError\u001b[0m                                 Traceback (most recent call last)",
      "\u001b[1;32m/home/kenspoems/Documents/School-Things/School/2023/MongoDB.ipynb Cell 3\u001b[0m in \u001b[0;36m<cell line: 23>\u001b[0;34m()\u001b[0m\n\u001b[1;32m     <a href='vscode-notebook-cell:/home/kenspoems/Documents/School-Things/School/2023/MongoDB.ipynb#W6sZmlsZQ%3D%3D?line=18'>19</a>\u001b[0m list_to_add\u001b[39m.\u001b[39mappend({\u001b[39m\"\u001b[39m\u001b[39mtitle\u001b[39m\u001b[39m\"\u001b[39m:\u001b[39m\"\u001b[39m\u001b[39mUnderground\u001b[39m\u001b[39m\"\u001b[39m,\u001b[39m\"\u001b[39m\u001b[39mgenre\u001b[39m\u001b[39m\"\u001b[39m:\u001b[39m\"\u001b[39m\u001b[39mhorror\u001b[39m\u001b[39m\"\u001b[39m,\u001b[39m\"\u001b[39m\u001b[39myear\u001b[39m\u001b[39m\"\u001b[39m:\u001b[39m2014\u001b[39m})\n\u001b[1;32m     <a href='vscode-notebook-cell:/home/kenspoems/Documents/School-Things/School/2023/MongoDB.ipynb#W6sZmlsZQ%3D%3D?line=20'>21</a>\u001b[0m \u001b[39m# coll.insert_many(list_to_add)\u001b[39;00m\n\u001b[0;32m---> <a href='vscode-notebook-cell:/home/kenspoems/Documents/School-Things/School/2023/MongoDB.ipynb#W6sZmlsZQ%3D%3D?line=22'>23</a>\u001b[0m c \u001b[39m=\u001b[39m db\u001b[39m.\u001b[39;49mcollection_names(\u001b[39m\"\u001b[39;49m\u001b[39mentertainment\u001b[39;49m\u001b[39m\"\u001b[39;49m)\n\u001b[1;32m     <a href='vscode-notebook-cell:/home/kenspoems/Documents/School-Things/School/2023/MongoDB.ipynb#W6sZmlsZQ%3D%3D?line=23'>24</a>\u001b[0m \u001b[39mprint\u001b[39m(\u001b[39m\"\u001b[39m\u001b[39mCollections in entertianment database: \u001b[39m\u001b[39m\"\u001b[39m,c)\n\u001b[1;32m     <a href='vscode-notebook-cell:/home/kenspoems/Documents/School-Things/School/2023/MongoDB.ipynb#W6sZmlsZQ%3D%3D?line=25'>26</a>\u001b[0m client\u001b[39m.\u001b[39mclose()\n",
      "File \u001b[0;32m~/.local/lib/python3.10/site-packages/pymongo/collection.py:3207\u001b[0m, in \u001b[0;36mCollection.__call__\u001b[0;34m(self, *args, **kwargs)\u001b[0m\n\u001b[1;32m   3205\u001b[0m \u001b[39m\u001b[39m\u001b[39m\"\"\"This is only here so that some API misusages are easier to debug.\"\"\"\u001b[39;00m\n\u001b[1;32m   3206\u001b[0m \u001b[39mif\u001b[39;00m \u001b[39m\"\u001b[39m\u001b[39m.\u001b[39m\u001b[39m\"\u001b[39m \u001b[39mnot\u001b[39;00m \u001b[39min\u001b[39;00m \u001b[39mself\u001b[39m\u001b[39m.\u001b[39m__name:\n\u001b[0;32m-> 3207\u001b[0m     \u001b[39mraise\u001b[39;00m \u001b[39mTypeError\u001b[39;00m(\n\u001b[1;32m   3208\u001b[0m         \u001b[39m\"\u001b[39m\u001b[39m'\u001b[39m\u001b[39mCollection\u001b[39m\u001b[39m'\u001b[39m\u001b[39m object is not callable. If you \u001b[39m\u001b[39m\"\u001b[39m\n\u001b[1;32m   3209\u001b[0m         \u001b[39m\"\u001b[39m\u001b[39mmeant to call the \u001b[39m\u001b[39m'\u001b[39m\u001b[39m%s\u001b[39;00m\u001b[39m'\u001b[39m\u001b[39m method on a \u001b[39m\u001b[39m'\u001b[39m\u001b[39mDatabase\u001b[39m\u001b[39m'\u001b[39m\u001b[39m \u001b[39m\u001b[39m\"\u001b[39m\n\u001b[1;32m   3210\u001b[0m         \u001b[39m\"\u001b[39m\u001b[39mobject it is failing because no such method \u001b[39m\u001b[39m\"\u001b[39m\n\u001b[1;32m   3211\u001b[0m         \u001b[39m\"\u001b[39m\u001b[39mexists.\u001b[39m\u001b[39m\"\u001b[39m \u001b[39m%\u001b[39m \u001b[39mself\u001b[39m\u001b[39m.\u001b[39m__name\n\u001b[1;32m   3212\u001b[0m     )\n\u001b[1;32m   3213\u001b[0m \u001b[39mraise\u001b[39;00m \u001b[39mTypeError\u001b[39;00m(\n\u001b[1;32m   3214\u001b[0m     \u001b[39m\"\u001b[39m\u001b[39m'\u001b[39m\u001b[39mCollection\u001b[39m\u001b[39m'\u001b[39m\u001b[39m object is not callable. If you meant to \u001b[39m\u001b[39m\"\u001b[39m\n\u001b[1;32m   3215\u001b[0m     \u001b[39m\"\u001b[39m\u001b[39mcall the \u001b[39m\u001b[39m'\u001b[39m\u001b[39m%s\u001b[39;00m\u001b[39m'\u001b[39m\u001b[39m method on a \u001b[39m\u001b[39m'\u001b[39m\u001b[39mCollection\u001b[39m\u001b[39m'\u001b[39m\u001b[39m object it is \u001b[39m\u001b[39m\"\u001b[39m\n\u001b[1;32m   3216\u001b[0m     \u001b[39m\"\u001b[39m\u001b[39mfailing because no such method exists.\u001b[39m\u001b[39m\"\u001b[39m \u001b[39m%\u001b[39m \u001b[39mself\u001b[39m\u001b[39m.\u001b[39m__name\u001b[39m.\u001b[39msplit(\u001b[39m\"\u001b[39m\u001b[39m.\u001b[39m\u001b[39m\"\u001b[39m)[\u001b[39m-\u001b[39m\u001b[39m1\u001b[39m]\n\u001b[1;32m   3217\u001b[0m )\n",
      "\u001b[0;31mTypeError\u001b[0m: 'Collection' object is not callable. If you meant to call the 'collection_names' method on a 'Database' object it is failing because no such method exists."
     ]
    }
   ],
   "source": [
    "client = pymongo.MongoClient(\"127.0.0.1\")\n",
    "db = client.get_database(\"entertainment\")\n",
    "coll = db.get_collection(\"users\")\n",
    "\n",
    "\n",
    "# coll.insert_one({\"_id\":1, \"name\": \"Johnny Maths\", \"genre\": \"comedy\"})\n",
    "\n",
    "# coll.insert_one({\"name\": \"Star Wall\", \"genre\": \"science fiction\"})\n",
    "\n",
    "# coll.insert_one({\"name\": \"Detection\"})\n",
    "\n",
    "list_to_add = []\n",
    "list_to_add.append({\"name\": \"Badman\", \"genre\": \"adventure\", \"year\": 2015})\n",
    "#Averages, science fiction, adventure, 2017\n",
    "list_to_add.append({\"name\": \"Averages\", \"genre\": [\"science fiction\", \"adventure\"],  \"year\": 2017})\n",
    "#insert Octopus Man, adventure, 2017\n",
    "list_to_add.append({ \"name\": \"Octopus Man\", \"genre\": \"adventure\", \"year\": 2017})\n",
    "list_to_add.append({\"title\":\"Fantastic Bees\",\"genre\":\"adventure\",\"year\":2018})\n",
    "list_to_add.append({\"title\":\"Underground\",\"genre\":\"horror\",\"year\":2014})\n",
    "\n",
    "# coll.insert_many(list_to_add)\n",
    "\n",
    "c = db.collection_names(\"entertainment\")\n",
    "print(\"Collections in entertianment database: \",c)\n",
    "\n",
    "client.close()"
   ]
  },
  {
   "cell_type": "code",
   "execution_count": 7,
   "metadata": {},
   "outputs": [],
   "source": [
    "import json\n",
    "\n",
    "client = pymongo.MongoClient(\"127.0.0.1\", port=27017)\n",
    "\n",
    "with open('input.json', 'r') as f:\n",
    "    file_data = json.load(f)\n",
    "\n",
    "client['entertainment']['moreusers'].insert_many(file_data)\n",
    "\n",
    "client.close()"
   ]
  },
  {
   "cell_type": "code",
   "execution_count": 21,
   "metadata": {},
   "outputs": [
    {
     "name": "stdout",
     "output_type": "stream",
     "text": [
      "All documents in movie collection:\n",
      "{'_id': ObjectId('63fc25458499d9a235ff33b9'), 'name': 'Amanda', 'age': '45'}\n",
      "{'_id': ObjectId('63fc25458499d9a235ff33ba'), 'name': 'Bala', 'age': '28'}\n",
      "{'_id': ObjectId('63fc25458499d9a235ff33bb'), 'name': 'Charlie', 'age': '33'}\n",
      "{'_id': ObjectId('63fc25458499d9a235ff33bc'), 'name': 'Devi', 'age': '29'}\n",
      "Number of items in movie collection: 4\n",
      "All documents in movie collection with adventure genre:\n",
      "There are 0 movies in the list above.\n"
     ]
    }
   ],
   "source": [
    "client = pymongo.MongoClient(\"127.0.0.1\")\n",
    "db = client.get_database(\"entertainment\")\n",
    "coll = db.get_collection(\"users\")\n",
    "\n",
    "result = coll.find()\n",
    "print(\"All documents in movie collection:\")\n",
    "for document in result:\n",
    "    print(document)\n",
    "\n",
    "print(\"Number of items in movie collection:\", coll.count_documents({})) #in older versions use coll.count()\n",
    "\n",
    "result = coll.find({'genre': 'adventure'})\n",
    "print(\"All documents in movie collection with adventure genre:\")\n",
    "for document in result:\n",
    "    print(document)\n",
    "\n",
    "query2 = {'genre': 'adventure', 'year': {'$gt': 2016}}\n",
    "result = coll.find(query2)\n",
    "\n",
    "movies = list(result)\n",
    "for document in result:\n",
    "    print( \" - \" + document.get('title'))\n",
    "print(\"There are\", len(movies), \"movies in the list above.\")\n",
    "client.close()\n",
    "\n"
   ]
  }
 ],
 "metadata": {
  "kernelspec": {
   "display_name": "Python 3",
   "language": "python",
   "name": "python3"
  },
  "language_info": {
   "codemirror_mode": {
    "name": "ipython",
    "version": 3
   },
   "file_extension": ".py",
   "mimetype": "text/x-python",
   "name": "python",
   "nbconvert_exporter": "python",
   "pygments_lexer": "ipython3",
   "version": "3.10.9"
  },
  "orig_nbformat": 4,
  "vscode": {
   "interpreter": {
    "hash": "e7370f93d1d0cde622a1f8e1c04877d8463912d04d973331ad4851f04de6915a"
   }
  }
 },
 "nbformat": 4,
 "nbformat_minor": 2
}
