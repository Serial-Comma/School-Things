{
 "cells": [
  {
   "cell_type": "markdown",
   "metadata": {},
   "source": [
    "# Exercise 1 - Array Implementation (Static Linear Queue)\n",
    "\n",
    "Complete the code below"
   ]
  },
  {
   "cell_type": "code",
   "execution_count": 1,
   "metadata": {},
   "outputs": [],
   "source": [
    "class Queue:\n",
    "    \n",
    "    def __init__(self, max_size):\n",
    "        self.array = [None] * max_size   # Python list to simulate fixed array with stated maximum qty of None type.\n",
    "        self.max_size = max_size\n",
    "        self.front = 0 \n",
    "        self.end = -1\n",
    "    \n",
    "    def size(self):\n",
    "        queue_size = self.end - self.front + 1\n",
    "        return queue_size\n",
    "    \n",
    "    def isEmpty(self):\n",
    "        '''\n",
    "            Return True if the queue is empty, False if otherwise\n",
    "        '''\n",
    "        # Remove 'pass' and complete the code below\n",
    "        pass\n",
    "    \n",
    "    def isFull(self):\n",
    "        '''\n",
    "            Return True if the queue is full, False if otherwise\n",
    "        '''        \n",
    "        # Remove 'pass' and complete the code below\n",
    "        pass\n",
    "        \n",
    "    def display(self):\n",
    "        if self.isEmpty() == True:\n",
    "            print('Queue is empty.')\n",
    "        elif self.size() == 1:\n",
    "            print(f'{self.array[self.front]} <<< Front of queue / End of queue')\n",
    "        else:    \n",
    "            print(f'{self.array[self.front]} <<< Front of queue')\n",
    "            for item in self.array[self.front + 1 : self.end]:\n",
    "                print(item)\n",
    "            print(f'{self.array[self.end]} <<< End of queue')\n",
    "    \n",
    "    def display_table(self):\n",
    "        print(f'{\"Array Index\":<20}Data')\n",
    "        print('-'*50)\n",
    "        array_index = 0\n",
    "        for item in self.array:\n",
    "            print(f'{array_index:<20}{item}')\n",
    "            array_index = array_index + 1\n",
    "        \n",
    "    \n",
    "    def enqueue(self, data):\n",
    "        '''\n",
    "            Add the item to the back of the quuue if the queue is not full\n",
    "        '''\n",
    "        # Remove 'pass' and complete the code below\n",
    "    \n",
    "    def dequeue(self):\n",
    "        '''\n",
    "            Return the element at the front of the queue if the queue is not empty\n",
    "            Return None otherwise\n",
    "        '''\n",
    "        # Remove 'pass' and complete the code below\n",
    "        pass"
   ]
  },
  {
   "cell_type": "markdown",
   "metadata": {},
   "source": [
    "Use Example 1 to test your code"
   ]
  },
  {
   "cell_type": "code",
   "execution_count": null,
   "metadata": {},
   "outputs": [],
   "source": []
  },
  {
   "cell_type": "markdown",
   "metadata": {},
   "source": [
    "# Exercise 2 - Implement Circular Queues using Arrays"
   ]
  },
  {
   "cell_type": "code",
   "execution_count": 2,
   "metadata": {},
   "outputs": [],
   "source": [
    "class CircularQueue:\n",
    "    # Complete the code below\n",
    "    pass"
   ]
  },
  {
   "cell_type": "markdown",
   "metadata": {},
   "source": [
    "Use Example 2 to test your code"
   ]
  },
  {
   "cell_type": "code",
   "execution_count": null,
   "metadata": {},
   "outputs": [],
   "source": []
  }
 ],
 "metadata": {
  "kernelspec": {
   "display_name": "Python 3",
   "language": "python",
   "name": "python3"
  },
  "language_info": {
   "codemirror_mode": {
    "name": "ipython",
    "version": 3
   },
   "file_extension": ".py",
   "mimetype": "text/x-python",
   "name": "python",
   "nbconvert_exporter": "python",
   "pygments_lexer": "ipython3",
   "version": "3.6.4"
  }
 },
 "nbformat": 4,
 "nbformat_minor": 2
}
