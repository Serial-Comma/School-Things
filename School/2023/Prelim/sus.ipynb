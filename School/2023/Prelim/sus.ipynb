{
 "cells": [
  {
   "cell_type": "code",
   "execution_count": null,
   "metadata": {},
   "outputs": [],
   "source": [
    "class Node:\n",
    "    def __init__(self,value,next=None):\n",
    "        self.value = value \n",
    "        self.next =next\n",
    "    \n",
    "class LinkedList:\n",
    "    def __init__(self,capacity):\n",
    "        self.head = None\n",
    "        self.capacity = capacity\n",
    "        self.size = 0\n",
    "    def is_empty(self):\n",
    "        if self.head == None:\n",
    "            return True\n",
    "        return False\n",
    "    def is_full(self):\n",
    "        if self.size >= self.capacity:\n",
    "            return True\n",
    "        return False\n",
    "    def insert(self,item):\n",
    "        if self.is_empty():\n",
    "            self.head = Node(item)\n",
    "            self.size+=1\n",
    "        elif self.size == self.capacity:\n",
    "            temp = self.head\n",
    "            while temp.next:\n",
    "                temp = temp.next\n",
    "            \n",
    "                \n"
   ]
  }
 ],
 "metadata": {
  "language_info": {
   "name": "python"
  },
  "orig_nbformat": 4
 },
 "nbformat": 4,
 "nbformat_minor": 2
}
