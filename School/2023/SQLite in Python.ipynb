{
 "cells": [
  {
   "cell_type": "code",
   "execution_count": 6,
   "metadata": {},
   "outputs": [
    {
     "ename": "OperationalError",
     "evalue": "table Book already exists",
     "output_type": "error",
     "traceback": [
      "\u001b[0;31m---------------------------------------------------------------------------\u001b[0m",
      "\u001b[0;31mOperationalError\u001b[0m                          Traceback (most recent call last)",
      "\u001b[1;32m/home/kenspoems/Documents/School-Things/School/2023/SQLite in Python.ipynb Cell 1\u001b[0m in \u001b[0;36m<cell line: 4>\u001b[0;34m()\u001b[0m\n\u001b[1;32m      <a href='vscode-notebook-cell:/home/kenspoems/Documents/School-Things/School/2023/SQLite%20in%20Python.ipynb#W0sZmlsZQ%3D%3D?line=0'>1</a>\u001b[0m \u001b[39mimport\u001b[39;00m \u001b[39msqlite3\u001b[39;00m\n\u001b[1;32m      <a href='vscode-notebook-cell:/home/kenspoems/Documents/School-Things/School/2023/SQLite%20in%20Python.ipynb#W0sZmlsZQ%3D%3D?line=2'>3</a>\u001b[0m connection \u001b[39m=\u001b[39m sqlite3\u001b[39m.\u001b[39mconnect(\u001b[39m\"\u001b[39m\u001b[39mlibrary.db\u001b[39m\u001b[39m\"\u001b[39m)\n\u001b[0;32m----> <a href='vscode-notebook-cell:/home/kenspoems/Documents/School-Things/School/2023/SQLite%20in%20Python.ipynb#W0sZmlsZQ%3D%3D?line=3'>4</a>\u001b[0m connection\u001b[39m.\u001b[39;49mexecute(\u001b[39m\"\u001b[39;49m\u001b[39mCREATE TABLE Book \u001b[39;49m\u001b[39m\"\u001b[39;49m \u001b[39m+\u001b[39;49m \u001b[39m\"\u001b[39;49m\u001b[39m(ID INTEGER PRIMARY KEY, Title TEXT)\u001b[39;49m\u001b[39m\"\u001b[39;49m)\n\u001b[1;32m      <a href='vscode-notebook-cell:/home/kenspoems/Documents/School-Things/School/2023/SQLite%20in%20Python.ipynb#W0sZmlsZQ%3D%3D?line=4'>5</a>\u001b[0m connection\u001b[39m.\u001b[39mcommit()\n\u001b[1;32m      <a href='vscode-notebook-cell:/home/kenspoems/Documents/School-Things/School/2023/SQLite%20in%20Python.ipynb#W0sZmlsZQ%3D%3D?line=5'>6</a>\u001b[0m connection\u001b[39m.\u001b[39mclose()\n",
      "\u001b[0;31mOperationalError\u001b[0m: table Book already exists"
     ]
    }
   ],
   "source": [
    "import sqlite3\n",
    "\n",
    "connection = sqlite3.connect(\"library.db\")\n",
    "connection.execute(\"CREATE TABLE Book \" + \"(ID INTEGER PRIMARY KEY, Title TEXT)\")\n",
    "connection.commit()\n",
    "connection.close()\n"
   ]
  },
  {
   "cell_type": "code",
   "execution_count": 11,
   "metadata": {},
   "outputs": [
    {
     "ename": "IntegrityError",
     "evalue": "UNIQUE constraint failed: Book.ID",
     "output_type": "error",
     "traceback": [
      "\u001b[0;31m---------------------------------------------------------------------------\u001b[0m",
      "\u001b[0;31mIntegrityError\u001b[0m                            Traceback (most recent call last)",
      "\u001b[1;32m/home/kenspoems/Documents/School-Things/School/2023/SQLite in Python.ipynb Cell 2\u001b[0m in \u001b[0;36m<cell line: 2>\u001b[0;34m()\u001b[0m\n\u001b[1;32m      <a href='vscode-notebook-cell:/home/kenspoems/Documents/School-Things/School/2023/SQLite%20in%20Python.ipynb#W1sZmlsZQ%3D%3D?line=0'>1</a>\u001b[0m connection \u001b[39m=\u001b[39m sqlite3\u001b[39m.\u001b[39mconnect(\u001b[39m\"\u001b[39m\u001b[39mlibrary.db\u001b[39m\u001b[39m\"\u001b[39m)\n\u001b[0;32m----> <a href='vscode-notebook-cell:/home/kenspoems/Documents/School-Things/School/2023/SQLite%20in%20Python.ipynb#W1sZmlsZQ%3D%3D?line=1'>2</a>\u001b[0m connection\u001b[39m.\u001b[39;49mexecute(\u001b[39m\"\u001b[39;49m\u001b[39mINSERT INTO Book(ID, Title) \u001b[39;49m\u001b[39m\"\u001b[39;49m \u001b[39m+\u001b[39;49m \u001b[39m\"\u001b[39;49m\u001b[39mVALUES(0, \u001b[39;49m\u001b[39m'\u001b[39;49m\u001b[39m Example Book\u001b[39;49m\u001b[39m'\u001b[39;49m\u001b[39m)\u001b[39;49m\u001b[39m\"\u001b[39;49m)\n\u001b[1;32m      <a href='vscode-notebook-cell:/home/kenspoems/Documents/School-Things/School/2023/SQLite%20in%20Python.ipynb#W1sZmlsZQ%3D%3D?line=2'>3</a>\u001b[0m connection\u001b[39m.\u001b[39mcommit()\n\u001b[1;32m      <a href='vscode-notebook-cell:/home/kenspoems/Documents/School-Things/School/2023/SQLite%20in%20Python.ipynb#W1sZmlsZQ%3D%3D?line=3'>4</a>\u001b[0m connection\u001b[39m.\u001b[39mclose()\n",
      "\u001b[0;31mIntegrityError\u001b[0m: UNIQUE constraint failed: Book.ID"
     ]
    }
   ],
   "source": [
    "connection = sqlite3.connect(\"library.db\")\n",
    "connection.execute(\"INSERT INTO Book(ID, Title) \" + \"VALUES(0, ' Example Book')\")\n",
    "connection.commit()\n",
    "connection.close()"
   ]
  }
 ],
 "metadata": {
  "kernelspec": {
   "display_name": "Python 3",
   "language": "python",
   "name": "python3"
  },
  "language_info": {
   "codemirror_mode": {
    "name": "ipython",
    "version": 3
   },
   "file_extension": ".py",
   "mimetype": "text/x-python",
   "name": "python",
   "nbconvert_exporter": "python",
   "pygments_lexer": "ipython3",
   "version": "3.10.9"
  },
  "orig_nbformat": 4,
  "vscode": {
   "interpreter": {
    "hash": "e7370f93d1d0cde622a1f8e1c04877d8463912d04d973331ad4851f04de6915a"
   }
  }
 },
 "nbformat": 4,
 "nbformat_minor": 2
}
