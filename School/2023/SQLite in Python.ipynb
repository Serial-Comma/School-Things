{
 "cells": [
  {
   "attachments": {},
   "cell_type": "markdown",
   "metadata": {},
   "source": [
    "# library.db"
   ]
  },
  {
   "cell_type": "code",
   "execution_count": 50,
   "metadata": {},
   "outputs": [],
   "source": [
    "import sqlite3\n",
    "import random\n",
    "\n",
    "connection = sqlite3.connect(\"library.db\")\n",
    "try:\n",
    "    connection.execute(\"DROP TABLE Book\")\n",
    "except:\n",
    "    pass\n",
    "    connection.execute(\"CREATE TABLE Book \" + \"(ID INTEGER PRIMARY KEY, Title TEXT)\")\n",
    "connection.commit()\n",
    "connection.close()\n"
   ]
  },
  {
   "cell_type": "code",
   "execution_count": 51,
   "metadata": {},
   "outputs": [],
   "source": [
    "connection = sqlite3.connect(\"library.db\")\n",
    "connection.execute(\"INSERT INTO Book(ID, Title) \" + \"VALUES(0, 'Example Book')\")\n",
    "connection.commit()\n",
    "connection.close()"
   ]
  },
  {
   "cell_type": "code",
   "execution_count": 52,
   "metadata": {},
   "outputs": [],
   "source": [
    "connection = sqlite3.connect(\"library.db\")\n",
    "connection.execute (\"INSERT INTO Book(ID,Title)\" +\"VALUES(1, 'Rollback Book')\" )\n",
    "connection.execute (\"INSERT INTO Book(ID,Title)\" +\"VALUES(2, 'Rollback Book')\" )\n",
    "connection.rollback()\n",
    "connection.execute (\"INSERT INTO Book(ID,Title)\" +\"VALUES(3, 'Committed Book')\" )\n",
    "connection.commit()\n",
    "connection.close()\n",
    "\n"
   ]
  },
  {
   "cell_type": "code",
   "execution_count": 53,
   "metadata": {},
   "outputs": [],
   "source": [
    "connection = sqlite3.connect(\"library.db\")\n",
    "connection.execute (\"INSERT INTO Book(ID,Title)\" +\"VALUES(4, 'Extra Book')\" )\n",
    "connection.execute (\"INSERT INTO Book(ID,Title)\" +\"VALUES(5, 'Also Extra Book')\" )\n",
    "connection.commit()\n",
    "\n"
   ]
  },
  {
   "cell_type": "code",
   "execution_count": 54,
   "metadata": {},
   "outputs": [],
   "source": [
    "#Ask for ID and delete the corresponding row\n",
    "book_id = input(\"Enter Book ID to delete :\")\n",
    "connection.execute(\"DELETE FROM Book WHERE ID = ?\",(book_id,)) #Secured from SQL injection\n",
    "connection.commit()\n",
    "connection.close()"
   ]
  },
  {
   "cell_type": "code",
   "execution_count": 55,
   "metadata": {},
   "outputs": [],
   "source": [
    "connection = sqlite3.connect(\"library.db\")\n",
    "\n",
    "#Ask for ID and delete the corresponding row\n",
    "book_id = input(\"Enter Book ID to delete :\")\n",
    "connection.execute(f\"DELETE FROM Book WHERE ID = {book_id}\") #Not secured from SQL injection\n",
    "connection.commit()\n",
    "connection.close()"
   ]
  },
  {
   "cell_type": "code",
   "execution_count": 73,
   "metadata": {},
   "outputs": [
    {
     "name": "stdout",
     "output_type": "stream",
     "text": [
      "{'ID': 0, 'Title': 'Example Book'}\n",
      "{'ID': 3, 'Title': 'Committed Book'}\n",
      "{'ID': 4, 'Title': 'Extra Book'}\n",
      "{'ID': 5, 'Title': 'Also Extra Book'}\n"
     ]
    }
   ],
   "source": [
    "connection = sqlite3.connect(\"library.db\")\n",
    "connection.row_factory = sqlite3.Row\n",
    "cursor = connection.execute(\"SELECT ID, Title FROM Book\")\n",
    "for row in cursor:\n",
    "    # print(row[0], row[1])\n",
    "    print(dict(row))\n",
    "connection.close()"
   ]
  },
  {
   "cell_type": "code",
   "execution_count": 57,
   "metadata": {},
   "outputs": [
    {
     "name": "stdout",
     "output_type": "stream",
     "text": [
      "Example Book\n",
      "Committed Book\n",
      "Extra Book\n",
      "Also Extra Book\n"
     ]
    }
   ],
   "source": [
    "connection = sqlite3.connect(\"library.db\")\n",
    "cursor = connection.execute(\"SELECT ID,Title FROM Book\")\n",
    "row = cursor.fetchone()\n",
    "while row is not None:\n",
    "    print(row[1])\n",
    "    row = cursor.fetchone()\n",
    "connection.close()\n"
   ]
  },
  {
   "cell_type": "code",
   "execution_count": 58,
   "metadata": {},
   "outputs": [
    {
     "name": "stdout",
     "output_type": "stream",
     "text": [
      "Example Book\n",
      "Committed Book\n",
      "Extra Book\n",
      "Also Extra Book\n"
     ]
    }
   ],
   "source": [
    "connection = sqlite3.connect(\"library.db\")\n",
    "cursor = connection.execute(\"SELECT ID,Title FROM Book\")\n",
    "rows = cursor.fetchall()\n",
    "for row in rows:\n",
    "    print(row[1])\n",
    "connection.close()\n"
   ]
  },
  {
   "cell_type": "code",
   "execution_count": 82,
   "metadata": {},
   "outputs": [
    {
     "name": "stdout",
     "output_type": "stream",
     "text": [
      "Not a valid ID\n",
      "Insertion successful\n"
     ]
    }
   ],
   "source": [
    "connection = sqlite3.connect(\"library.db\")\n",
    "while True:\n",
    "    try:\n",
    "        book_id = int(input(\"Enter Book ID :\"))\n",
    "    except ValueError:\n",
    "        print(\"Not a valid ID\")\n",
    "        continue\n",
    "    title = input(\"Enter TItle: \")\n",
    "    try:\n",
    "        connection.execute(f\"INSERT INTO Book(ID, Title) VALUES(?, ?)\", (book_id, title))\n",
    "\n",
    "        connection.commit()\n",
    "    except sqlite3.DatabaseError():\n",
    "        print(\"Error\")\n",
    "        continue\n",
    "    print(\"Insertion successful\")\n",
    "    if input(\"Do you want to continue? (Y/N)\") == \"N\":\n",
    "        break\n",
    "connection.close()\n"
   ]
  },
  {
   "cell_type": "code",
   "execution_count": 81,
   "metadata": {},
   "outputs": [],
   "source": [
    "connection.close()"
   ]
  },
  {
   "attachments": {},
   "cell_type": "markdown",
   "metadata": {},
   "source": [
    "# loans.db"
   ]
  },
  {
   "cell_type": "code",
   "execution_count": 85,
   "metadata": {},
   "outputs": [
    {
     "data": {
      "text/plain": [
       "<sqlite3.Cursor at 0x7f96ea5c74c0>"
      ]
     },
     "execution_count": 85,
     "metadata": {},
     "output_type": "execute_result"
    }
   ],
   "source": [
    "connection = sqlite3.connect(\"loans.db\")\n",
    "try:\n",
    "    connection.execute(\"DROP TABLE Borrower\")\n",
    "    connection.execute(\"DROP TABLE Book\")\n",
    "    connection.execute(\"DROP TABLE Loan\")\n",
    "except:\n",
    "    pass\n",
    "\n",
    "connection.execute(\"CREATE TABLE Borrower (ID INTEGER PRIMARY KEY, Name TEXT NOT NULL)\")\n",
    "connection.execute(\"CREATE TABLE Book( ID INTEGER PRIMARY KEY, Title TEXT NOT NULL)\")\n",
    "connection.execute(\"CREATE TABLE Loan (ID INTEGER PRIMARY KEY AUTOINCREMENT, BorrowerID INTEGER NOT NULL, BookID INTEGER NOT NULL, FOREIGN KEY (BorrowerID) REFERENCES Borrower(ID), FOREIGN KEY (BOOKID) REFERENCES Book(ID))\")\n"
   ]
  },
  {
   "cell_type": "code",
   "execution_count": 86,
   "metadata": {},
   "outputs": [
    {
     "ename": "TypeError",
     "evalue": "object of type 'sqlite3.Cursor' has no len()",
     "output_type": "error",
     "traceback": [
      "\u001b[0;31m---------------------------------------------------------------------------\u001b[0m",
      "\u001b[0;31mTypeError\u001b[0m                                 Traceback (most recent call last)",
      "\u001b[1;32m/home/kenspoems/Documents/School-Things/School/2023/SQLite in Python.ipynb Cell 15\u001b[0m in \u001b[0;36m<cell line: 1>\u001b[0;34m()\u001b[0m\n\u001b[1;32m      <a href='vscode-notebook-cell:/home/kenspoems/Documents/School-Things/School/2023/SQLite%20in%20Python.ipynb#X23sZmlsZQ%3D%3D?line=2'>3</a>\u001b[0m borrower_id \u001b[39m=\u001b[39m \u001b[39mint\u001b[39m(\u001b[39minput\u001b[39m(\u001b[39m\"\u001b[39m\u001b[39mEnter Borrower ID :\u001b[39m\u001b[39m\"\u001b[39m))\n\u001b[1;32m      <a href='vscode-notebook-cell:/home/kenspoems/Documents/School-Things/School/2023/SQLite%20in%20Python.ipynb#X23sZmlsZQ%3D%3D?line=3'>4</a>\u001b[0m cursor \u001b[39m=\u001b[39m conn\u001b[39m.\u001b[39mexecute(\u001b[39m\"\u001b[39m\u001b[39mSELECT * FROM Borrower WHERE ID = ?\u001b[39m\u001b[39m\"\u001b[39m, (borrower_id,))\n\u001b[0;32m----> <a href='vscode-notebook-cell:/home/kenspoems/Documents/School-Things/School/2023/SQLite%20in%20Python.ipynb#X23sZmlsZQ%3D%3D?line=4'>5</a>\u001b[0m \u001b[39mprint\u001b[39m(\u001b[39mlen\u001b[39;49m(cursor))\n",
      "\u001b[0;31mTypeError\u001b[0m: object of type 'sqlite3.Cursor' has no len()"
     ]
    }
   ],
   "source": [
    "while True:\n",
    "    conn = sqlite3.connect(\"loans.db\")\n",
    "    borrower_id = int(input(\"Enter Borrower ID :\"))\n",
    "    cursor = conn.execute(\"SELECT * FROM Borrower WHERE ID = ?\", (borrower_id,))\n",
    "    "
   ]
  }
 ],
 "metadata": {
  "kernelspec": {
   "display_name": "Python 3",
   "language": "python",
   "name": "python3"
  },
  "language_info": {
   "codemirror_mode": {
    "name": "ipython",
    "version": 3
   },
   "file_extension": ".py",
   "mimetype": "text/x-python",
   "name": "python",
   "nbconvert_exporter": "python",
   "pygments_lexer": "ipython3",
   "version": "3.10.9 (main, Dec 19 2022, 17:35:49) [GCC 12.2.0]"
  },
  "orig_nbformat": 4,
  "vscode": {
   "interpreter": {
    "hash": "e7370f93d1d0cde622a1f8e1c04877d8463912d04d973331ad4851f04de6915a"
   }
  }
 },
 "nbformat": 4,
 "nbformat_minor": 2
}
