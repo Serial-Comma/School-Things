{
 "cells": [
  {
   "cell_type": "code",
   "execution_count": 52,
   "metadata": {},
   "outputs": [],
   "source": [
    "class Node:\n",
    "    def __init__(self, data = None, left = None, right = None):\n",
    "        self.data = data\n",
    "        self.left = left\n",
    "        self.right = right\n",
    "        \n",
    "    def __str__(self):\n",
    "        return f\"{self.data} (L: {self.left.data if self.left else '-'}, R: {self.right.data if self.right else '-'})\"\n"
   ]
  },
  {
   "cell_type": "code",
   "execution_count": 53,
   "metadata": {},
   "outputs": [],
   "source": [
    "class BinaryTree:\n",
    "    def __init__(self, root = None):\n",
    "        '''\n",
    "            Constructor\n",
    "        '''\n",
    "        self.root = root\n",
    "        \n",
    "    def print_tree(self):\n",
    "        '''\n",
    "        print tree from root\n",
    "        '''\n",
    "        self._print_tree(self.root)\n",
    "        \n",
    "    def _print_tree(self, node_list):\n",
    "        '''\n",
    "        For internal use\n",
    "        print tree from node list\n",
    "        '''\n",
    "        # convert node_list to a list if it is not\n",
    "        if type(node_list) != list:\n",
    "            node_list = [node_list]\n",
    "        \n",
    "        # Stop recursion if the list is empty\n",
    "        if node_list == []:\n",
    "            return None\n",
    "        \n",
    "        # define a list to collect node in next layer\n",
    "        next_layer = []\n",
    "        \n",
    "        # Iterate through node list to print them out and put their child nodes into next_layer\n",
    "        for node in node_list:\n",
    "            print(node.data, end=\" \")\n",
    "            if node.left: \n",
    "                next_layer.append(node.left)\n",
    "            if node.right:\n",
    "                next_layer.append(node.right)\n",
    "\n",
    "        # print new line after processing a layer\n",
    "        print(\"\\n\")\n",
    "        \n",
    "        # process the next layer\n",
    "        self._print_tree(next_layer)"
   ]
  },
  {
   "cell_type": "code",
   "execution_count": 54,
   "metadata": {},
   "outputs": [
    {
     "name": "stdout",
     "output_type": "stream",
     "text": [
      "A \n",
      "\n",
      "B C \n",
      "\n",
      "D E F \n",
      "\n"
     ]
    }
   ],
   "source": [
    "# Test\n",
    "n4 = Node(\"D\")\n",
    "n5 = Node(\"E\")\n",
    "n6 = Node(\"F\")\n",
    "\n",
    "n2 = Node(\"B\", n4, n5)\n",
    "n3 = Node(\"C\", None, n6)\n",
    "n1 = Node(\"A\", n2, n3)\n",
    "\n",
    "tree = BinaryTree(n1)\n",
    "\n",
    "tree.print_tree()"
   ]
  },
  {
   "cell_type": "code",
   "execution_count": 55,
   "metadata": {},
   "outputs": [],
   "source": [
    "class BinarySearchTree(BinaryTree):\n",
    "    \n",
    "    def visit_node(self, node):\n",
    "        # print out the data of node\n",
    "        print(node.data, end = ' ')\n",
    "        \n",
    "    def inorder(self):\n",
    "        '''\n",
    "        perform inorder traversal from the root\n",
    "        '''\n",
    "        self._inorder(self.root)\n",
    "        \n",
    "    def _inorder(self, node):\n",
    "        '''\n",
    "        For internal use\n",
    "        perform inorder traversal from the subtree starting with node\n",
    "        '''\n",
    "        # if the node is None, print appropriate msg and return\n",
    "        if node == None:\n",
    "            return\n",
    "        \n",
    "        # traverse left subtree\n",
    "        self._inorder(node.left)\n",
    "        # visit node itself\n",
    "        self.visit_node(node)\n",
    "        # traverse right subtree\n",
    "        self._inorder(node.right)\n",
    "            \n",
    "    def add(self, value):\n",
    "        '''\n",
    "        Adds a node containing data to the tree\n",
    "        '''\n",
    "        # if BST is empty, add the node with value as root\n",
    "        if self.root is None:\n",
    "            self.root = Node(value)\n",
    "        # otherwise, add the node to the tree starting with root\n",
    "        else:\n",
    "            self._add(self.root,value)\n",
    "            \n",
    "    def _add(self, node, value):\n",
    "        '''\n",
    "        For internal use\n",
    "        adds a node to the subtree starting with node\n",
    "        '''\n",
    "        # Adds value to left subtree if value < node.data\n",
    "        if value < node.data:\n",
    "            if node.left is None:\n",
    "                node.left = Node(value)\n",
    "            else:\n",
    "                self._add(node.left,value)\n",
    "        \n",
    "        # Adds value to right subtree if value > node.data\n",
    "        elif value > node.data:\n",
    "            if node.right is None:\n",
    "                node.right = Node(value)\n",
    "            else:\n",
    "                self._add(node.right, value)\n",
    "        \n",
    "        # Otherwise, data already exist in the BST, just return\n",
    "        else:\n",
    "            return\n",
    "        \n",
    "    def find(self, value):\n",
    "        '''\n",
    "        Returns the node with data if data is found in tree, None if otherwise\n",
    "        '''\n",
    "        # if tree is empty, print appropriate msg and return None\n",
    "        if self.root is None:\n",
    "            return None\n",
    "        # Otherwise, use _find to start finding from root\n",
    "        return self._find(self.root,value)\n",
    "\n",
    "        \n",
    "    def _find(self, node, value):\n",
    "        '''\n",
    "        Internal use only\n",
    "        Returns the node with data if data is found in subtree starting with node, None if otherwise\n",
    "        '''\n",
    "        # if node does not exist, return None\n",
    "        if node is None:\n",
    "            return None\n",
    "        # if value matches the data in current node, return current node\n",
    "        if node.data == value:\n",
    "            return node\n",
    "        # if value is less than data in current node, continue finding in left subtree\n",
    "        if value < node.data:\n",
    "            return self._find(node.left, value)\n",
    "        # Otherwise, find in right subtree\n",
    "        return self._find(node.right,value)"
   ]
  },
  {
   "cell_type": "markdown",
   "metadata": {},
   "source": [
    "Try creating the following tree\n",
    "\n",
    "```\n",
    "       6\n",
    "     /   \\\n",
    "    2      7\n",
    "     \\      \\\n",
    "      3      8\n",
    "```"
   ]
  },
  {
   "cell_type": "code",
   "execution_count": 56,
   "metadata": {},
   "outputs": [
    {
     "name": "stdout",
     "output_type": "stream",
     "text": [
      "6 \n",
      "\n",
      "2 7 \n",
      "\n",
      "3 8 \n",
      "\n",
      "2 3 6 7 8 Result of finding 5:  None\n",
      "Result of finding 6:  6 (L: 2, R: 7)\n"
     ]
    }
   ],
   "source": [
    "# Test\n",
    "bst = BinarySearchTree()\n",
    "bst.add(6)\n",
    "bst.add(2)\n",
    "bst.add(7)\n",
    "bst.add(3)\n",
    "bst.add(8)\n",
    "\n",
    "bst.print_tree()\n",
    "\n",
    "bst.inorder()\n",
    "\n",
    "print(\"Result of finding 5: \", bst.find(5))\n",
    "print(\"Result of finding 6: \", bst.find(6))"
   ]
  },
  {
   "cell_type": "code",
   "execution_count": 57,
   "metadata": {},
   "outputs": [
    {
     "name": "stdout",
     "output_type": "stream",
     "text": [
      "6 \n",
      "\n",
      "3 7 \n",
      "\n",
      "2 8 \n",
      "\n"
     ]
    }
   ],
   "source": [
    "lst = [6,3,2,7,8]\n",
    "binary_tree = BinarySearchTree()\n",
    "for i in lst:\n",
    "    binary_tree.add(i)\n",
    "\n",
    "\n",
    "binary_tree.print_tree()\n",
    "\n"
   ]
  }
 ],
 "metadata": {
  "kernelspec": {
   "display_name": "Python 3",
   "language": "python",
   "name": "python3"
  },
  "language_info": {
   "codemirror_mode": {
    "name": "ipython",
    "version": 3
   },
   "file_extension": ".py",
   "mimetype": "text/x-python",
   "name": "python",
   "nbconvert_exporter": "python",
   "pygments_lexer": "ipython3",
   "version": "3.10.9 (main, Dec 19 2022, 17:35:49) [GCC 12.2.0]"
  },
  "vscode": {
   "interpreter": {
    "hash": "e7370f93d1d0cde622a1f8e1c04877d8463912d04d973331ad4851f04de6915a"
   }
  }
 },
 "nbformat": 4,
 "nbformat_minor": 2
}
