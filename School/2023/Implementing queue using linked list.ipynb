{
 "cells": [
  {
   "cell_type": "code",
   "execution_count": 8,
   "metadata": {},
   "outputs": [],
   "source": [
    "class Node:\n",
    "    def __init__(self,data):\n",
    "        self.data = data\n",
    "        self.next = None\n",
    "\n",
    "class Queue:\n",
    "    def __init__(self):\n",
    "        self.head = None\n",
    "        self.tail = None\n",
    "        self.size = 0 \n",
    "    def enqueue(self,data):\n",
    "        if self.head == None:\n",
    "            self.head = Node(data)\n",
    "            self.tail = self.head\n",
    "            self.size +=1\n",
    "        else:\n",
    "            self.tail.next = Node(data)\n",
    "            self.tail = self.tail.next\n",
    "            self.size +=1\n",
    "    def dequeue(self):\n",
    "        if self.head != None: \n",
    "            temp = self.head\n",
    "            self.head  = self.head.next\n",
    "            self.size -=1\n",
    "            return \n",
    "        else:\n",
    "             return None\n",
    "    def is_empty(self):\n",
    "        return self.size == 0\n",
    "    def show(self):\n",
    "        temp = self.head\n",
    "        while temp != None:\n",
    "            print(temp.data, end = \" \")\n",
    "            temp = temp.next\n",
    "        print()\n",
    "    \n",
    "    def peek(self):\n",
    "        if self.head == None:\n",
    "            return None\n",
    "        else:\n",
    "            return self.head.data\n",
    "\n",
    "\n",
    "\n",
    "\n",
    "            "
   ]
  },
  {
   "cell_type": "code",
   "execution_count": 9,
   "metadata": {},
   "outputs": [
    {
     "name": "stdout",
     "output_type": "stream",
     "text": [
      "among us h \n"
     ]
    }
   ],
   "source": [
    "q = Queue()\n",
    "q.enqueue(\"among us\")\n",
    "q.enqueue(\"h\")\n",
    "q.show()"
   ]
  }
 ],
 "metadata": {
  "kernelspec": {
   "display_name": "Python 3",
   "language": "python",
   "name": "python3"
  },
  "language_info": {
   "codemirror_mode": {
    "name": "ipython",
    "version": 3
   },
   "file_extension": ".py",
   "mimetype": "text/x-python",
   "name": "python",
   "nbconvert_exporter": "python",
   "pygments_lexer": "ipython3",
   "version": "3.10.9 (main, Dec 19 2022, 17:35:49) [GCC 12.2.0]"
  },
  "orig_nbformat": 4,
  "vscode": {
   "interpreter": {
    "hash": "e7370f93d1d0cde622a1f8e1c04877d8463912d04d973331ad4851f04de6915a"
   }
  }
 },
 "nbformat": 4,
 "nbformat_minor": 2
}
