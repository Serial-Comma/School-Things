{
 "cells": [
  {
   "cell_type": "code",
   "execution_count": 3,
   "metadata": {},
   "outputs": [],
   "source": [
    "class FreeSpaceList:\n",
    "    def __init__(self,size):\n",
    "        self.data = [None] * size\n",
    "        self.pointer = [ i for i in range(1, size)] +[-1] #mantain a list of pointers\n",
    "        self.head = -1\n",
    "        self.next_free = 0\n",
    "    def insert(self, data): #store data -> adjust pointers\n",
    "        if self.next_free == -1:\n",
    "            print(f'Linked list is full, Data not entered')\n",
    "        elif self.head == -1:\n",
    "            self.data[self.next_free] = data\n",
    "            self.pointer[self.next_free] = -1\n",
    "            self.head= self.next_free\n",
    "            self.next_free = self.pointer[self.next_free]\n",
    "        else:\n",
    "            if data <= self.data[self.head]:\n",
    "                self.data[self.next_free] = data\n",
    "                self.pointer[self.next_free] = self.head\n",
    "                self.head = self.next_free\n",
    "                self.next_free = self.pointer[self.next_free]\n",
    "            \n",
    "            else:\n",
    "                curr_pointer = self.head\n",
    "                prev_pointer = -1\n",
    "                while (curr_pointer != -1)  and (data > self.data[curr_pointer]):\n",
    "                    prev_pointer = curr_pointer\n",
    "                    curr_pointer = self.pointer[curr_pointer]\n",
    "                self.data[self.next_free] = data\n",
    "                self.pointer[self.next_free] = curr_pointer\n",
    "                if curr_pointer != -1: #somewhere along the linked list but not at the end\n",
    "                    self.data[self.next_free] = data\n",
    "                    self.pointer[self.next_free] = self.pointer[prev_pointer]\n",
    "                    self.pointer[prev_pointer] = self.next_free\n",
    "                    self.next_free = self.pointer[self.next_free]\n",
    "                else: #to be inserted at the end\n",
    "                    self.data[self.next_free] = data\n",
    "                    self.pointer[self.next_free] = -1\n",
    "                    self.pointer[prev_pointer] = self.next_free\n",
    "                    self.next_free = self.pointer[self.next_free]\n",
    "\n",
    "        def delete(self,data):\n",
    "            if self.head == -1:\n",
    "                return False\n",
    "            else:\n",
    "                if data == self.data[self.head]:\n",
    "                    self.data[self.head] = None\n",
    "                    self.pointer[self.head], self.head, self.next_free = self.next_free, self.pointer[self.next_free], self.head\n",
    "                \n",
    "                else:\n",
    "                    curr_poitner = self.head\n",
    "                    prev_pointer = -1\n",
    "                    while curr_pointer != 01 and data > self.data[curr_pointer]:\n",
    "                        prev_pointer = curr_pointer\n",
    "                        curr_pointer = self.pointer[curr_pointer]\n",
    "                    if curr_pointer != -1 and \n",
    "    \n",
    "\n",
    "                    \n",
    "                \n",
    "\n",
    "\n",
    "    "
   ]
  },
  {
   "cell_type": "code",
   "execution_count": 4,
   "metadata": {},
   "outputs": [
    {
     "name": "stdout",
     "output_type": "stream",
     "text": [
      "Linked list is full, Data not entered\n",
      "Linked list is full, Data not entered\n",
      "Linked list is full, Data not entered\n",
      "Linked list is full, Data not entered\n",
      "Linked list is full, Data not entered\n",
      "Linked list is full, Data not entered\n",
      "Linked list is full, Data not entered\n",
      "Linked list is full, Data not entered\n",
      "Linked list is full, Data not entered\n",
      "[5, None, None, None, None, None, None, None, None, None]\n",
      "[-1, 2, 3, 4, 5, 6, 7, 8, 9, -1]\n",
      "0\n",
      "-1\n"
     ]
    }
   ],
   "source": [
    "#test the class\n",
    "fsl = FreeSpaceList(10)\n",
    "fsl.insert(5)\n",
    "fsl.insert(3)\n",
    "fsl.insert(7)\n",
    "fsl.insert(1)\n",
    "fsl.insert(9)\n",
    "fsl.insert(2)\n",
    "fsl.insert(4)\n",
    "fsl.insert(6)\n",
    "fsl.insert(8)\n",
    "fsl.insert(10)\n",
    "\n",
    "print(fsl.data)\n",
    "print(fsl.pointer)\n",
    "print(fsl.head)\n",
    "print(fsl.next_free)\n",
    "\n",
    "\n"
   ]
  },
  {
   "cell_type": "code",
   "execution_count": null,
   "metadata": {},
   "outputs": [],
   "source": []
  },
  {
   "cell_type": "code",
   "execution_count": null,
   "metadata": {},
   "outputs": [],
   "source": []
  },
  {
   "cell_type": "code",
   "execution_count": null,
   "metadata": {},
   "outputs": [],
   "source": []
  },
  {
   "cell_type": "code",
   "execution_count": null,
   "metadata": {},
   "outputs": [],
   "source": []
  },
  {
   "cell_type": "code",
   "execution_count": null,
   "metadata": {},
   "outputs": [],
   "source": []
  },
  {
   "cell_type": "code",
   "execution_count": null,
   "metadata": {},
   "outputs": [],
   "source": []
  },
  {
   "cell_type": "code",
   "execution_count": null,
   "metadata": {},
   "outputs": [],
   "source": []
  },
  {
   "cell_type": "code",
   "execution_count": null,
   "metadata": {},
   "outputs": [],
   "source": []
  }
 ],
 "metadata": {
  "kernelspec": {
   "display_name": "Python 3",
   "language": "python",
   "name": "python3"
  },
  "language_info": {
   "codemirror_mode": {
    "name": "ipython",
    "version": 3
   },
   "file_extension": ".py",
   "mimetype": "text/x-python",
   "name": "python",
   "nbconvert_exporter": "python",
   "pygments_lexer": "ipython3",
   "version": "3.10.9"
  },
  "orig_nbformat": 4,
  "vscode": {
   "interpreter": {
    "hash": "e7370f93d1d0cde622a1f8e1c04877d8463912d04d973331ad4851f04de6915a"
   }
  }
 },
 "nbformat": 4,
 "nbformat_minor": 2
}
