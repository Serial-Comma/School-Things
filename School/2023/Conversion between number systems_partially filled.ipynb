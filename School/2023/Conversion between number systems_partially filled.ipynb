{
 "cells": [
  {
   "cell_type": "markdown",
   "metadata": {},
   "source": [
    "Complete the 6 functions below to convert between different number systems"
   ]
  },
  {
   "cell_type": "code",
   "execution_count": null,
   "metadata": {},
   "outputs": [],
   "source": [
    "def bin_to_dec(bin_string):\n",
    "    '''\n",
    "    Converts binary string, bin_string, into decimal integer and return it.\n",
    "    '''\n",
    "    # Initialize result\n",
    "    result = 0\n",
    "    multiplier = 1  # start from 2^0\n",
    "    \n",
    "    # go through from least significant bit to most significant bit\n",
    "    # increase the multiplier by 2 each iteration\n",
    "    \n",
    "        \n",
    "    return result"
   ]
  },
  {
   "cell_type": "code",
   "execution_count": null,
   "metadata": {},
   "outputs": [],
   "source": [
    "# Test\n",
    "print(f\"1011 in binary is equivalent to {bin_to_dec('1011')}\")\n",
    "print(f\"01111 in binary is equivalent to {bin_to_dec('01111')}\")"
   ]
  },
  {
   "cell_type": "code",
   "execution_count": null,
   "metadata": {},
   "outputs": [],
   "source": [
    "def dec_to_bin(dec_int):\n",
    "    '''\n",
    "    Converts decimal integer, dec_int, into binary string and return it.\n",
    "    '''\n",
    "    # return \"0\" if dec_int is 0\n",
    "    if dec_int == 0:\n",
    "        return \"0\"\n",
    "\n",
    "    result = \"\"\n",
    "    \n",
    "    # while quotient is not zero\n",
    "    # divide the number by 2 and concatenate the remainder to the result\n",
    "    \n",
    "        \n",
    "    return result"
   ]
  },
  {
   "cell_type": "code",
   "execution_count": null,
   "metadata": {},
   "outputs": [],
   "source": [
    "# Test\n",
    "print(f\"11 in decimal is equivalent to binary {dec_to_bin(11)}\")\n",
    "print(f\"15 in decimal is equivalent to binary {dec_to_bin(15)}\")"
   ]
  },
  {
   "cell_type": "code",
   "execution_count": 1,
   "metadata": {},
   "outputs": [],
   "source": [
    "hex2dec_dict = {\n",
    "    \"0\": 0,\n",
    "    \"1\": 1,\n",
    "    \"2\": 2,\n",
    "    \"3\": 3,\n",
    "    \"4\": 4,\n",
    "    \"5\": 5,\n",
    "    \"6\": 6,\n",
    "    \"7\": 7,\n",
    "    \"8\": 8,\n",
    "    \"9\": 9,\n",
    "    \"A\": 10,\n",
    "    \"B\": 11,\n",
    "    \"C\": 12,\n",
    "    \"D\": 13,\n",
    "    \"E\": 14,\n",
    "    \"F\": 15\n",
    "}\n",
    "\n",
    "\n",
    "def hex_to_dec(hex_string):\n",
    "    '''\n",
    "    Converts hexadecimal string, hex_string, into decimal integer and return it.\n",
    "    '''\n",
    "    result = 0\n",
    "    multiplier = 1  # start from 16^0\n",
    "    \n",
    "    # go through from least significant digit to most significant digit\n",
    "    # increase the multiplier by 16 each iteration\n",
    "    for digit in hex_string[::-1]:\n",
    "        result = result + hex2dec_dict.get(digit) * multiplier\n",
    "        multiplier *= 16\n",
    "    return result\n",
    "        \n"
   ]
  },
  {
   "cell_type": "code",
   "execution_count": null,
   "metadata": {},
   "outputs": [],
   "source": [
    "# Test\n",
    "print(f\"A6 in hexadecimal is equivalent to {hex_to_dec('A6')}\")\n",
    "print(f\"2BC in hexadecimal is equivalent to {hex_to_dec('2BC')}\")"
   ]
  },
  {
   "cell_type": "code",
   "execution_count": null,
   "metadata": {},
   "outputs": [],
   "source": [
    "dec2hex_dict = {\n",
    "    0: \"0\",\n",
    "    1: \"1\",\n",
    "    2: \"2\",\n",
    "    3: \"3\",\n",
    "    4: \"4\",\n",
    "    5: \"5\",\n",
    "    6: \"6\",\n",
    "    7: \"7\",\n",
    "    8: \"8\",\n",
    "    9: \"9\",\n",
    "    10: \"A\",\n",
    "    11: \"B\",\n",
    "    12: \"C\",\n",
    "    13: \"D\",\n",
    "    14: \"E\",\n",
    "    15: \"F\"\n",
    "}\n",
    "\n",
    "def dec_to_hex(dec_int):\n",
    "    '''\n",
    "    Converts decimal integer, dec_int, into hexadecimal string and return it.\n",
    "    '''\n",
    "    if dec_int == 0:\n",
    "        return \"0\"\n",
    "\n",
    "    result = \"\"\n",
    "    quotient = dec_int\n",
    "    \n",
    "    # while quotient is not zero\n",
    "    # divide the number by 16 and concatenate the remainder to the result\n",
    "        \n",
    "    return result"
   ]
  },
  {
   "cell_type": "code",
   "execution_count": null,
   "metadata": {},
   "outputs": [],
   "source": [
    "# Test\n",
    "print(f\"166 in decimal is equivalent to hexadecimal {dec_to_hex(166)}\")\n",
    "print(f\"700 in decimal is equivalent to hexadecimal {dec_to_hex(700)}\")"
   ]
  },
  {
   "cell_type": "code",
   "execution_count": null,
   "metadata": {},
   "outputs": [],
   "source": [
    "def bin_to_hex(bin_string):\n",
    "    '''\n",
    "    Converts binary string, bin_string, into hexadecimal string and return it.\n",
    "    '''\n",
    "    pass"
   ]
  },
  {
   "cell_type": "code",
   "execution_count": null,
   "metadata": {},
   "outputs": [],
   "source": [
    "# Test\n",
    "print(f\"101101111001 in binary is equivalent to hexadecimal {bin_to_hex('101101111001')}\")\n",
    "print(f\"011001 in binary is equivalent to hexadecimal {bin_to_hex('011001')}\")"
   ]
  },
  {
   "cell_type": "code",
   "execution_count": null,
   "metadata": {},
   "outputs": [],
   "source": [
    "def hex_to_bin(hex_string):\n",
    "    '''\n",
    "    Converts hexadecimal string, hex_string, into binary string and return it.\n",
    "    '''\n",
    "    pass"
   ]
  },
  {
   "cell_type": "code",
   "execution_count": null,
   "metadata": {},
   "outputs": [],
   "source": [
    "# Test\n",
    "print(f\"B79 in hexadecimal is equivalent to binary {hex_to_bin('B79')}\")\n",
    "print(f\"19 in hexadecimal is equivalent to binary {hex_to_bin('19')}\")"
   ]
  },
  {
   "cell_type": "code",
   "execution_count": 42,
   "metadata": {},
   "outputs": [
    {
     "name": "stdout",
     "output_type": "stream",
     "text": [
      "130499\n",
      "3021165019515851\n"
     ]
    }
   ],
   "source": [
    "def int2(num, base):\n",
    "    res = 0\n",
    "    power = 1\n",
    "    for i in range(len(num) - 1, -1, -1):\n",
    "        if ord(num[i]) >= ord('A'):\n",
    "            digit = ord(num[i]) - ord('A') + 10\n",
    "        else:\n",
    "            digit = int(num[i])\n",
    "        res += digit * power\n",
    "        power *= base\n",
    "    return res\n",
    "\n",
    "def hex2(num, base):\n",
    "    hex_digits = '0123456789ABCDEF'\n",
    "    res = 0\n",
    "    power = 1\n",
    "    for i in range(len(num) - 1, -1, -1):\n",
    "        digit = hex_digits.index(num[i])\n",
    "        res += digit * power\n",
    "        power *= base\n",
    "    return res\n",
    "\n",
    "def dec2(num, base):\n",
    "    res = 0\n",
    "    power = 1\n",
    "    for i in range(len(num) - 1, -1, -1):\n",
    "        digit = int(num[i],base)\n",
    "        res += digit * power\n",
    "        power *= base\n",
    "    return res\n",
    "\n",
    "\n",
    "int2(\"1\",16)\n",
    "print(hex2(\"3021165019515851\", 2))\n",
    "print(dec2(\"ABBBBCBCBCBCB\",16))\n"
   ]
  }
 ],
 "metadata": {
  "kernelspec": {
   "display_name": "Python 3",
   "language": "python",
   "name": "python3"
  },
  "language_info": {
   "codemirror_mode": {
    "name": "ipython",
    "version": 3
   },
   "file_extension": ".py",
   "mimetype": "text/x-python",
   "name": "python",
   "nbconvert_exporter": "python",
   "pygments_lexer": "ipython3",
   "version": "3.10.9 (main, Dec 19 2022, 17:35:49) [GCC 12.2.0]"
  },
  "vscode": {
   "interpreter": {
    "hash": "e7370f93d1d0cde622a1f8e1c04877d8463912d04d973331ad4851f04de6915a"
   }
  }
 },
 "nbformat": 4,
 "nbformat_minor": 2
}
