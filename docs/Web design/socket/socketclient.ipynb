{
 "cells": [
  {
   "cell_type": "code",
   "execution_count": null,
   "metadata": {},
   "outputs": [],
   "source": [
    "import socket\n",
    "my_socket = socket.socket()\n",
    "address = '127.0.0.1'\n",
    "port = 12345\n",
    "\n",
    "my_socket.connect((address,port))\n",
    "print(my_socket.recv(1024))\n",
    "my_socket.sendall(b'Hello from client\\n')\n",
    "my_socket.close()"
   ]
  },
  {
   "cell_type": "code",
   "execution_count": null,
   "metadata": {},
   "outputs": [],
   "source": [
    "import socket\n",
    "chat_socket = socket.socket()\n",
    "address = input('Enter IPv4 address of server: ')\n",
    "port = int(input('Enter port number of server: '))\n",
    "chat_socket.connect((address, port))\n",
    "while True:\n",
    "    \n",
    "\n",
    "    # print('WAITING FOR SERVER...')\n",
    "    data = b''\n",
    "    while b'\\n' not in data:\n",
    "        data += chat_socket.recv(1024)\n",
    "    print('SERVER WROTE: ', (data.decode()).strip())\n",
    "    if data.decode().strip() == \"&exit\":\n",
    "        break\n",
    "\n",
    "    \n",
    "    data = input('INPUT CLIENT: ')\n",
    "    print(\"CLIENT WROTE: \", data)\n",
    "    if data == \"&exit\":\n",
    "        data = data.encode()\n",
    "        chat_socket.sendall(data + b'\\n')\n",
    "        break\n",
    "    data = data.encode()\n",
    "    chat_socket.sendall(data + b'\\n')\n",
    "\n",
    "chat_socket.close()"
   ]
  }
 ],
 "metadata": {
  "kernelspec": {
   "display_name": "Python 3",
   "language": "python",
   "name": "python3"
  },
  "language_info": {
   "codemirror_mode": {
    "name": "ipython",
    "version": 3
   },
   "file_extension": ".py",
   "mimetype": "text/x-python",
   "name": "python",
   "nbconvert_exporter": "python",
   "pygments_lexer": "ipython3",
   "version": "3.6.15"
  },
  "orig_nbformat": 4
 },
 "nbformat": 4,
 "nbformat_minor": 2
}
