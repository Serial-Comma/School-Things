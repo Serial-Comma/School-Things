{
 "cells": [
  {
   "cell_type": "code",
   "execution_count": null,
   "metadata": {},
   "outputs": [],
   "source": [
    "import socket\n",
    "my_socket = socket.socket()\n",
    "address = '127.0.0.1'\n",
    "port = 12345\n",
    "\n",
    "my_socket.connect((address,port))\n",
    "print(my_socket.recv(1024))\n",
    "my_socket.sendall(b'Hello from client\\n')\n",
    "my_socket.close()"
   ]
  },
  {
   "cell_type": "code",
   "execution_count": null,
   "metadata": {},
   "outputs": [],
   "source": []
  },
  {
   "cell_type": "code",
   "execution_count": null,
   "metadata": {},
   "outputs": [],
   "source": [
    "import socket\n",
    "chat_socket = socket.socket()\n",
    "address = input('Enter IPv4 address of server: ')\n",
    "port = int(input('Enter port number of server: '))\n",
    "chat_socket.connect((address, port))\n",
    "while True:\n",
    "    \n",
    "\n",
    "    # print('WAITING FOR SERVER...')\n",
    "    data = b''\n",
    "    while b'\\n' not in data:\n",
    "        data += chat_socket.recv(1024)\n",
    "    print('SERVER WROTE: ', (data.decode()).strip())\n",
    "    if data.decode().strip() == \"&exit\":\n",
    "        break\n",
    "\n",
    "    \n",
    "    data = input('INPUT CLIENT: ')\n",
    "    print(\"CLIENT WROTE: \", data)\n",
    "    if data == \"&exit\":\n",
    "        data = data.encode()\n",
    "        chat_socket.sendall(data + b'\\n')\n",
    "        break\n",
    "    data = data.encode()\n",
    "    chat_socket.sendall(data + b'\\n')\n",
    "\n",
    "chat_socket.close()"
   ]
  },
  {
   "cell_type": "code",
   "execution_count": null,
   "metadata": {},
   "outputs": [],
   "source": [
    "import socket\n",
    "\n",
    "HEADER = 64\n",
    "PORT = 5050\n",
    "SERVER = \"172.16.4.107\"\n",
    "ADDR = (SERVER,PORT)\n",
    "FORMAT = 'utf-8'\n",
    "DISCONNECT_MESSAGE = \"!DISCONNECT\"\n",
    "\n",
    "client = socket.socket(socket.AF_INET, socket.SOCK_STREAM)\n",
    "client.connect(ADDR)\n",
    "\n",
    "\n",
    "def send(msg):\n",
    "    message = msg.encode(FORMAT)\n",
    "    msg_length = len(message)\n",
    "    send_length = str(msg_length).encode(FORMAT)\n",
    "    send_length += b' ' * (HEADER - len(send_length))\n",
    "    client.send(send_length)\n",
    "    client.send(message)\n",
    "    print(client.recv(2048).decode(FORMAT))\n",
    "\n",
    "send(\"wasd\")\n",
    "send(DISCONNECT_MESSAGE)\n"
   ]
  },
  {
   "cell_type": "code",
   "execution_count": null,
   "metadata": {},
   "outputs": [],
   "source": [
    "import socket\n",
    "test = socket.socket()\n",
    "help(test.accept)"
   ]
  },
  {
   "cell_type": "code",
   "execution_count": 5,
   "metadata": {},
   "outputs": [
    {
     "name": "stdout",
     "output_type": "stream",
     "text": [
      "('127.0.111.1', 5050): Received wasd\n",
      "('127.0.111.1', 5050): Received h\n",
      "('127.0.111.1', 5050): Received among us\n",
      "Disconnected from ('127.0.111.1', 5050)\n"
     ]
    }
   ],
   "source": [
    "import socket\n",
    "\n",
    "#Constants\n",
    "PORT = 5050\n",
    "SERVER = \"127.0.111.1\"\n",
    "FORMAT = \"utf-8\"\n",
    "DISCONNECT_MESSAGE = \"!DISCONNECT\"\n",
    "ADDR = (SERVER,PORT)\n",
    "\n",
    "#Make the client\n",
    "client = socket.socket(socket.AF_INET,socket.SOCK_STREAM)\n",
    "\n",
    "\n",
    "#Send a message through a given client\n",
    "def send(client,msg):\n",
    "    client.sendall(msg.encode(FORMAT))\n",
    "\n",
    "#Start the client and allow the user to continously send messages until a disconnect\n",
    "def start_client(addr):\n",
    "    client.connect(addr)\n",
    "    while True:\n",
    "        x = input(\"Type to send message\")\n",
    "        send(client,x)\n",
    "\n",
    "        if x == DISCONNECT_MESSAGE:\n",
    "            client.send(DISCONNECT_MESSAGE.encode(FORMAT))\n",
    "            client.close()\n",
    "            print(f\"Disconnected from {addr}\")\n",
    "            break\n",
    "        print(f\"{addr}: {client.recv(2048).decode(FORMAT)}\")\n",
    "\n",
    "start_client(ADDR)\n",
    "\n",
    "\n",
    "\n",
    "\n"
   ]
  },
  {
   "cell_type": "code",
   "execution_count": null,
   "metadata": {},
   "outputs": [],
   "source": []
  }
 ],
 "metadata": {
  "kernelspec": {
   "display_name": "Python 3",
   "language": "python",
   "name": "python3"
  },
  "language_info": {
   "codemirror_mode": {
    "name": "ipython",
    "version": 3
   },
   "file_extension": ".py",
   "mimetype": "text/x-python",
   "name": "python",
   "nbconvert_exporter": "python",
   "pygments_lexer": "ipython3",
   "version": "3.6.15"
  },
  "orig_nbformat": 4
 },
 "nbformat": 4,
 "nbformat_minor": 2
}
