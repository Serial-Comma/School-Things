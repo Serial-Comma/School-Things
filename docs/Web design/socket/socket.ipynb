{
 "cells": [
  {
   "cell_type": "code",
   "execution_count": null,
   "metadata": {},
   "outputs": [],
   "source": [
    "import socket\n",
    "my_socket = socket.socket()\n",
    "my_socket.bind(('127.0.0.1',12345))\n",
    "my_socket.listen()\n",
    "\n",
    "while True:\n",
    "    new_socket, addr = my_socket.accept()\n",
    "    print('Connected to:'+ str(addr))\n",
    "\n",
    "    new_socket.sendall(b'Hello from server\\n')\n",
    "    print(new_socket.recv(4024).decode())\n",
    "    new_socket.close()\n",
    "my_socket.close()"
   ]
  },
  {
   "cell_type": "code",
   "execution_count": 3,
   "metadata": {},
   "outputs": [
    {
     "name": "stdout",
     "output_type": "stream",
     "text": [
      "trying 127.0.0.0, port 1024\n",
      "SERVER WROTE:  hi\n"
     ]
    },
    {
     "ename": "KeyboardInterrupt",
     "evalue": "",
     "output_type": "error",
     "traceback": [
      "\u001b[0;31m---------------------------------------------------------------------------\u001b[0m",
      "\u001b[0;31mKeyboardInterrupt\u001b[0m                         Traceback (most recent call last)",
      "\u001b[0;32m<ipython-input-3-5b4553b3101d>\u001b[0m in \u001b[0;36m<module>\u001b[0;34m\u001b[0m\n\u001b[1;32m     43\u001b[0m     \u001b[0;31m# print('WAITING FOR CLIENT...')\u001b[0m\u001b[0;34m\u001b[0m\u001b[0;34m\u001b[0m\u001b[0;34m\u001b[0m\u001b[0m\n\u001b[1;32m     44\u001b[0m     \u001b[0mdata\u001b[0m \u001b[0;34m=\u001b[0m \u001b[0;34mb''\u001b[0m\u001b[0;34m\u001b[0m\u001b[0;34m\u001b[0m\u001b[0m\n\u001b[0;32m---> 45\u001b[0;31m     \u001b[0;32mwhile\u001b[0m \u001b[0;34mb'\\n'\u001b[0m \u001b[0;32mnot\u001b[0m \u001b[0;32min\u001b[0m \u001b[0mdata\u001b[0m\u001b[0;34m:\u001b[0m\u001b[0;34m\u001b[0m\u001b[0;34m\u001b[0m\u001b[0m\n\u001b[0m\u001b[1;32m     46\u001b[0m         \u001b[0mdata\u001b[0m \u001b[0;34m+=\u001b[0m \u001b[0mchat_socket\u001b[0m\u001b[0;34m.\u001b[0m\u001b[0mrecv\u001b[0m\u001b[0;34m(\u001b[0m\u001b[0;36m1024\u001b[0m\u001b[0;34m)\u001b[0m\u001b[0;34m\u001b[0m\u001b[0;34m\u001b[0m\u001b[0m\n\u001b[1;32m     47\u001b[0m     \u001b[0mprint\u001b[0m\u001b[0;34m(\u001b[0m\u001b[0;34m'CLIENT WROTE: '\u001b[0m\u001b[0;34m,\u001b[0m \u001b[0;34m(\u001b[0m\u001b[0mdata\u001b[0m\u001b[0;34m.\u001b[0m\u001b[0mdecode\u001b[0m\u001b[0;34m(\u001b[0m\u001b[0;34m)\u001b[0m\u001b[0;34m)\u001b[0m\u001b[0;34m.\u001b[0m\u001b[0mstrip\u001b[0m\u001b[0;34m(\u001b[0m\u001b[0;34m)\u001b[0m\u001b[0;34m)\u001b[0m\u001b[0;34m\u001b[0m\u001b[0;34m\u001b[0m\u001b[0m\n",
      "\u001b[0;31mKeyboardInterrupt\u001b[0m: "
     ]
    }
   ],
   "source": [
    "import socket\n",
    "listen_socket = socket.socket()\n",
    "\n",
    "\n",
    "def find_usable_port():\n",
    "    listen_socket = socket.socket()\n",
    "    amogus = 'h'\n",
    "    for ip in range(0,255):\n",
    "        for port in range(1024,65536):\n",
    "            try:\n",
    "                print(f\"trying 127.0.0.{ip}, port {port}\")\n",
    "                listen_socket.bind((f'127.0.0.{ip}',port))\n",
    "                listen_socket.listen()\n",
    "            except Exception as e:\n",
    "                print(e)\n",
    "            else:\n",
    "                amogus = 'l bozo'\n",
    "                break\n",
    "        if amogus != 'h':\n",
    "            break\n",
    "\n",
    "    return ((f'127.0.0.{ip}',port))\n",
    "  \n",
    "                \n",
    "\n",
    "listen_socket.bind(find_usable_port())\n",
    "listen_socket.listen()\n",
    "chat_socket, addr = listen_socket.accept()\n",
    "\n",
    "\n",
    "while True:\n",
    "    \n",
    "    data = input('INPUT SERVER: ')\n",
    "    print(\"SERVER WROTE: \",data)\n",
    "    if data == \"&exit\":\n",
    "        data = data.encode()\n",
    "        chat_socket.sendall(data + b'\\n')\n",
    "        break\n",
    "    data = data.encode()\n",
    "    chat_socket.sendall(data + b'\\n')\n",
    "\n",
    "\n",
    "    # print('WAITING FOR CLIENT...')\n",
    "    data = b''\n",
    "    while b'\\n' not in data:\n",
    "        data += chat_socket.recv(1024)\n",
    "    print('CLIENT WROTE: ', (data.decode()).strip())\n",
    "    if data.decode().strip() == \"&exit\":\n",
    "        break\n",
    "chat_socket.close()"
   ]
  }
 ],
 "metadata": {
  "kernelspec": {
   "display_name": "Python 3",
   "language": "python",
   "name": "python3"
  },
  "language_info": {
   "codemirror_mode": {
    "name": "ipython",
    "version": 3
   },
   "file_extension": ".py",
   "mimetype": "text/x-python",
   "name": "python",
   "nbconvert_exporter": "python",
   "pygments_lexer": "ipython3",
   "version": "3.6.15"
  },
  "orig_nbformat": 4,
  "vscode": {
   "interpreter": {
    "hash": "b0a7b16967c9ce014d170210a67a8d349d90cc5782a30fbad2599168c1c504c1"
   }
  }
 },
 "nbformat": 4,
 "nbformat_minor": 2
}
