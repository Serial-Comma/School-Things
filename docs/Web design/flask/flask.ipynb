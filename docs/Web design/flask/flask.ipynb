{
 "cells": [
  {
   "cell_type": "code",
   "execution_count": null,
   "metadata": {},
   "outputs": [],
   "source": [
    "#Example 1\n",
    "import flask\n",
    "app = flask.Flask(__name__)\n",
    "if __name__ == '__main__':\n",
    "    app.run()"
   ]
  },
  {
   "cell_type": "code",
   "execution_count": null,
   "metadata": {},
   "outputs": [],
   "source": [
    "#Example 2\n",
    "import flask\n",
    "app = flask.Flask(__name__)\n",
    "@app.route('/') # decoration\n",
    "def home():\n",
    "    return 'Welcome'\n",
    "@app.route('/report') # decoration\n",
    "def generate_report():\n",
    "    return 'Everything is awesome'\n",
    "@app.route('/readme.txt') # decoration\n",
    "def readme():\n",
    "    return 'READ ME'\n",
    "if __name__ == '__main__':\n",
    "    app.run()"
   ]
  },
  {
   "cell_type": "code",
   "execution_count": null,
   "metadata": {},
   "outputs": [],
   "source": [
    "#Example 3\n",
    "import flask\n",
    "app = flask.Flask(__name__)\n",
    "@app.route('/')\n",
    "def index():\n",
    "    return 'Routed to index()'\n",
    "@app.route('/css')\n",
    "def css():\n",
    "    return 'Routed to css()'\n",
    "@app.route('/no_slash')\n",
    "def no_slash():\n",
    "    return 'Routed to no_slash()'\n",
    "@app.route('/optional_slash/')\n",
    "def optional_slash():\n",
    "    return 'Routed to optional_slash()'\n",
    "if __name__ == '__main__':\n",
    "    app.run()"
   ]
  },
  {
   "cell_type": "code",
   "execution_count": null,
   "metadata": {
    "scrolled": false
   },
   "outputs": [],
   "source": [
    "#Example 4\n",
    "import flask\n",
    "app = flask.Flask(__name__)\n",
    "@app.route('/one/')\n",
    "@app.route('/one/two/')\n",
    "@app.route('/three/two/one')\n",
    "def multiple():\n",
    "    return 'Routed to multiple()'\n",
    "if __name__ == '__main__':\n",
    "    app.run()"
   ]
  },
  {
   "cell_type": "code",
   "execution_count": null,
   "metadata": {},
   "outputs": [],
   "source": [
    "#Example 5\n",
    "import flask\n",
    "app = flask.Flask(__name__)\n",
    "\n",
    "@app.route('/string/<s>/')\n",
    "def string_variable(s):\n",
    "    return 'Routed to string_variable(), s = {}'.format(s)\n",
    "\n",
    "if __name__ == '__main__':\n",
    "    app.run()"
   ]
  },
  {
   "cell_type": "code",
   "execution_count": null,
   "metadata": {},
   "outputs": [],
   "source": [
    "#Example 6\n",
    "import flask\n",
    "app = flask.Flask(__name__)\n",
    "@app.route('/integer/<int:i>/')\n",
    "def integer_variable(i):\n",
    "    return 'Routed to integer_variable(), i = {}'.format(i)\n",
    "if __name__ == '__main__':\n",
    "    app.run()"
   ]
  },
  {
   "cell_type": "code",
   "execution_count": null,
   "metadata": {},
   "outputs": [],
   "source": [
    "#Example 7\n",
    "import flask\n",
    "app = flask.Flask(__name__)\n",
    "\n",
    "@app.route('/<name>')\n",
    "def home(name):\n",
    "    return 'Hello, {}!'.format(name)\n",
    "if __name__ == '__main__':\n",
    "    app.run()"
   ]
  },
  {
   "cell_type": "code",
   "execution_count": null,
   "metadata": {},
   "outputs": [],
   "source": [
    "#Example 8\n",
    "import flask\n",
    "app = flask.Flask(__name__)\n",
    "@app.route('/post_only/', methods=['POST'])\n",
    "def post_only():\n",
    "    return 'Routed to post_only()'\n",
    "if __name__ == '__main__':\n",
    "    app.run()"
   ]
  },
  {
   "cell_type": "code",
   "execution_count": null,
   "metadata": {},
   "outputs": [],
   "source": [
    "#Example 9\n",
    "import flask\n",
    "from flask import url_for\n",
    "app = flask.Flask(__name__)\n",
    "@app.route('/')\n",
    "def home():\n",
    "    url1 = url_for('fixed_route')\n",
    "    url2 = url_for('string_variable', s='example')\n",
    "    url3 = url_for('integer_variable', i=2020)\n",
    "    print(url1)\n",
    "    print(url2)\n",
    "    print(url3)\n",
    "    return 'Check your shell or command prompt window'\n",
    "@app.route('/fixed/')\n",
    "def fixed_route():\n",
    "    return 'Routed to fixed()'\n",
    "@app.route('/string/<s>')\n",
    "def string_variable(s):\n",
    "    return 'Routed to string_variable(), s = {}'.format(s)\n",
    "@app.route('/integer/<int:i>')\n",
    "def integer_variable(i):\n",
    "    return 'Routed to integer_variable(), i = {}'.format(i)\n",
    "if __name__ == '__main__':\n",
    "    app.run()"
   ]
  },
  {
   "cell_type": "code",
   "execution_count": null,
   "metadata": {
    "scrolled": true
   },
   "outputs": [],
   "source": [
    "#Example 10\n",
    "import flask\n",
    "app = flask.Flask(__name__)\n",
    "NAMES = ['January', 'February', 'March', 'April', 'May', 'June', 'July', 'August', 'September', 'October', 'November', 'December']\n",
    "@app.route('/')\n",
    "def home():\n",
    "    return 'Home'\n",
    "@app.route('/<int:month>/')\n",
    "def name_month(month):\n",
    "    if month in range(1, 13):\n",
    "        return 'Month {}: {}'.format(month, NAMES[month - 1])\n",
    "    return 'Invalid month'\n",
    "@app.route('/compare/<temp>/')\n",
    "def compare_temp(temp):\n",
    "    try:\n",
    "        float(temp)\n",
    "    except:\n",
    "        return\"Input a float\"\n",
    "    else:\n",
    "        temp= float(temp)\n",
    "    if temp > 35.5:\n",
    "        return 'It\\'s hot!'\n",
    "    if temp < 25.5:\n",
    "        return 'It\\'s cold!'\n",
    "    return 'It\\'s normal!'\n",
    "@app.route('/greet/')\n",
    "def greet():\n",
    "    return 'Hello!'\n",
    "@app.route('/greet/<name>/')\n",
    "def greet_name(name):\n",
    "    return 'Hello, {}!'.format(name)\n",
    "@app.route('/data/', methods=['POST'])\n",
    "def post_data():\n",
    "    return 'You are using POST'\n",
    "@app.route('/data/', methods=['GET'])\n",
    "def get_data():\n",
    "    return 'You are using GET'\n",
    "if __name__ == '__main__':\n",
    "    app.run(port=5000)"
   ]
  },
  {
   "cell_type": "code",
   "execution_count": null,
   "metadata": {},
   "outputs": [],
   "source": [
    "#Exercise 11\n",
    "import flask\n",
    "app = flask.Flask(__name__)\n",
    "@app.route('/')\n",
    "def index():\n",
    "    return 'Hello, World!'\n",
    "if __name__ == '__main__':\n",
    "    app.run()"
   ]
  },
  {
   "cell_type": "code",
   "execution_count": null,
   "metadata": {},
   "outputs": [],
   "source": [
    "#Exercise 12\n",
    "import flask\n",
    "app = flask.Flask(__name__)\n",
    "@app.route('/')\n",
    "def index():\n",
    "    return '<h1>Welcome!</h1> <b>Hello,</b> <i>World!</i>'\n",
    "if __name__ == '__main__':\n",
    "    app.run()"
   ]
  },
  {
   "cell_type": "code",
   "execution_count": null,
   "metadata": {},
   "outputs": [],
   "source": [
    "#Exercise 13\n",
    "\n",
    "import flask\n",
    "app = flask.Flask(__name__)\n",
    "@app.route('/')\n",
    "def index():\n",
    "    return ('', 404)\n",
    "if __name__ == '__main__':\n",
    "    app.run()"
   ]
  },
  {
   "cell_type": "code",
   "execution_count": null,
   "metadata": {},
   "outputs": [],
   "source": [
    "#Exercise 14\n",
    "\n",
    "import flask\n",
    "app = flask.Flask(__name__)\n",
    "@app.route('/')\n",
    "def index():\n",
    "    headers = {'Content-Type': 'text/plain'}\n",
    "    return ('<b>This is not HTML!</b>', 200, headers)\n",
    "if __name__ == '__main__':\n",
    "    app.run()"
   ]
  },
  {
   "cell_type": "code",
   "execution_count": null,
   "metadata": {},
   "outputs": [],
   "source": [
    "#Exercise 15\n",
    "\n",
    "import flask\n",
    "from flask import redirect\n",
    "app = flask.Flask(__name__)\n",
    "@app.route('/')\n",
    "def index():\n",
    "    return redirect('http://example.com')\n",
    "if __name__ == '__main__':\n",
    "    app.run()"
   ]
  },
  {
   "cell_type": "code",
   "execution_count": null,
   "metadata": {},
   "outputs": [],
   "source": [
    "#Exercise 16\n",
    "\n",
    "import flask\n",
    "from flask import redirect, url_for\n",
    "app = flask.Flask(__name__)\n",
    "\n",
    "@app.route('/new_url/')\n",
    "def moved_index():\n",
    "    return 'You have reached the new URL!'\n",
    "@app.route('/')\n",
    "def index():\n",
    "    return redirect(url_for('moved_index'))\n",
    "\n",
    "if __name__ == '__main__':\n",
    "    app.run()"
   ]
  },
  {
   "cell_type": "code",
   "execution_count": null,
   "metadata": {},
   "outputs": [],
   "source": [
    "#Exercise 17\n",
    "import flask\n",
    "app = flask.Flask(__name__)\n",
    "@app.route('/')\n",
    "def home():\n",
    "    html = '<!DOCTYPE html>\\n<html>'\n",
    "    html += '<head><title>Home Page</title></head>'\n",
    "    html += '<body><h1>Welcome to my home page!</h1>'\n",
    "    html += '<p>My favourite web site is '\n",
    "    html += '<a href=\"http://example.com/\">'\n",
    "    html += 'example.com</a>.</p>'\n",
    "    html += '<p>You can greet Alex '\n",
    "    html += '<a href=\"/greet/Alex/\">here</a>.</p>'\n",
    "    html += '</body></html>'\n",
    "    return html\n",
    "@app.route('/greet/<name>/')\n",
    "def greet(name):\n",
    "    html = '<!DOCTYPE html>\\n<html>'\n",
    "    html += '<head><title>Greetings!</title></head>'\n",
    "    html += '<body><h1>Hello, {}!</h1>'.format(name)\n",
    "    html += '</body></html>'\n",
    "    return html\n",
    "if __name__ == '__main__':\n",
    "    app.run()\n",
    "\n",
    "    "
   ]
  },
  {
   "cell_type": "code",
   "execution_count": null,
   "metadata": {},
   "outputs": [],
   "source": [
    "#Exercise 19\n",
    "import flask\n",
    "from flask import render_template\n",
    "app = flask.Flask(__name__)\n",
    "\n",
    "@app.route('/')\n",
    "def home():\n",
    "    return render_template('home.html')\n",
    "\n",
    "@app.route('/greet/<name>')\n",
    "def greet(name):\n",
    "    return render_template('greet.html', visitor=name)\n",
    "\n",
    "if __name__ == '__main__':\n",
    "    app.run()\n",
    "\n"
   ]
  },
  {
   "cell_type": "code",
   "execution_count": null,
   "metadata": {},
   "outputs": [],
   "source": []
  },
  {
   "cell_type": "code",
   "execution_count": null,
   "metadata": {},
   "outputs": [],
   "source": [
    "import flask, os, sqlite3\n",
    "from flask import render_template, request\n",
    "from flask import send_from_directory\n",
    "from werkzeug.utils import secure_filename\n",
    "if not os.path.isfile('db.sqlite3'):\n",
    "    db = sqlite3.connect('db.sqlite3')\n",
    "    db.execute('CREATE TABLE photos(photo TEXT UNIQUE)')\n",
    "    db.commit()\n",
    "    db.close()\n",
    "app = flask.Flask(__name__)\n",
    "@app.route('/', methods=['GET', 'POST'])\n",
    "def home():\n",
    "    if request.method == 'POST' and request.files and 'photo' in request.files:\n",
    "        # Save file\n",
    "        photo = request.files['photo']\n",
    "        filename = secure_filename(photo.filename)\n",
    "        path = os.path.join('../Images', filename)\n",
    "        photo.save(path)\n",
    "        # Add filename to database\n",
    "        db = sqlite3.connect('db.sqlite3')\n",
    "        db.execute('INSERT INTO photos(photo) VALUES(?)', (filename,))\n",
    "        db.commit()\n",
    "        db.close()\n",
    "    return render_template('form_with_file_upload.html')\n",
    "@app.route('/view')\n",
    "def view():\n",
    "    db = sqlite3.connect('db.sqlite3')\n",
    "    cur = db.execute('SELECT photo FROM photos')\n",
    "    photos = []\n",
    "    for row in cur:\n",
    "        photos.append(row[0])\n",
    "    db.close()\n",
    "    return render_template('view_file_uploads.html',\n",
    "    photos=photos)\n",
    "@app.route('/photos/<filename>')\n",
    "def get_file(filename):\n",
    "    return send_from_directory('../Images', filename)\n",
    "if __name__ == '__main__':\n",
    "    app.run(port = 5004)"
   ]
  },
  {
   "cell_type": "code",
   "execution_count": null,
   "metadata": {},
   "outputs": [],
   "source": []
  }
 ],
 "metadata": {
  "kernelspec": {
   "display_name": "Python 3",
   "language": "python",
   "name": "python3"
  },
  "language_info": {
   "codemirror_mode": {
    "name": "ipython",
    "version": 3
   },
   "file_extension": ".py",
   "mimetype": "text/x-python",
   "name": "python",
   "nbconvert_exporter": "python",
   "pygments_lexer": "ipython3",
   "version": "3.6.15"
  }
 },
 "nbformat": 4,
 "nbformat_minor": 2
}
